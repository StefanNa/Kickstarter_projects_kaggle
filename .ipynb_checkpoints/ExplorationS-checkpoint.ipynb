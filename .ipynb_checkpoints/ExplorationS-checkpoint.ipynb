{
 "cells": [
  {
   "cell_type": "markdown",
   "metadata": {},
   "source": [
    "# Data Loading"
   ]
  },
  {
   "cell_type": "code",
   "execution_count": 1,
   "metadata": {},
   "outputs": [],
   "source": [
    "import pandas as pd\n",
    "import janitor\n",
    "import numpy as np\n",
    "import matplotlib.pyplot as plt\n",
    "\n",
    "%matplotlib inline"
   ]
  },
  {
   "cell_type": "code",
   "execution_count": 6,
   "metadata": {},
   "outputs": [],
   "source": [
    "# -*- coding: utf-8 -*-\n",
    "'''\n",
    "a=pd.read_csv('ks-projects-201612.csv',encoding = \"ISO-8859-1\")\n",
    "#remove empty columns\n",
    "a_drop=[i for i in a.columns if 'Unnamed' in i]\n",
    "a.drop(a_drop,axis=1,inplace=True)\n",
    "'''\n",
    "df=pd.read_csv('ks-projects-201801.csv',encoding = \"ISO-8859-1\")\n",
    "#b.drop(['usd_pledged_real', 'usd_goal_real'],axis=1,inplace=True)\n",
    "#%%\n"
   ]
  },
  {
   "cell_type": "code",
   "execution_count": 7,
   "metadata": {},
   "outputs": [
    {
     "name": "stdout",
     "output_type": "stream",
     "text": [
      "Index(['ID', 'name', 'category', 'main_category', 'currency', 'deadline',\n",
      "       'goal', 'launched', 'pledged', 'state', 'backers', 'country',\n",
      "       'usd pledged', 'usd_pledged_real', 'usd_goal_real'],\n",
      "      dtype='object')\n"
     ]
    }
   ],
   "source": [
    "print(df.columns)\n",
    "df.rename(columns={'usd pledged':'usd_pledged'},inplace=True)"
   ]
  },
  {
   "cell_type": "markdown",
   "metadata": {},
   "source": [
    "### data analysis + cleaning"
   ]
  },
  {
   "cell_type": "code",
   "execution_count": 8,
   "metadata": {},
   "outputs": [
    {
     "data": {
      "text/plain": [
       "ID                     0\n",
       "name                   4\n",
       "category               0\n",
       "main_category          0\n",
       "currency               0\n",
       "deadline               0\n",
       "goal                   0\n",
       "launched               0\n",
       "pledged                0\n",
       "state                  0\n",
       "backers                0\n",
       "country                0\n",
       "usd_pledged         3797\n",
       "usd_pledged_real       0\n",
       "usd_goal_real          0\n",
       "dtype: int64"
      ]
     },
     "execution_count": 8,
     "metadata": {},
     "output_type": "execute_result"
    }
   ],
   "source": [
    "#look for NaN\n",
    "df.isna().sum()"
   ]
  },
  {
   "cell_type": "markdown",
   "metadata": {},
   "source": [
    "I suggest dropping the projects that do not have a name tag."
   ]
  },
  {
   "cell_type": "code",
   "execution_count": 9,
   "metadata": {},
   "outputs": [
    {
     "data": {
      "text/plain": [
       "ID                     0\n",
       "name                   0\n",
       "category               0\n",
       "main_category          0\n",
       "currency               0\n",
       "deadline               0\n",
       "goal                   0\n",
       "launched               0\n",
       "pledged                0\n",
       "state                  0\n",
       "backers                0\n",
       "country                0\n",
       "usd_pledged         3797\n",
       "usd_pledged_real       0\n",
       "usd_goal_real          0\n",
       "dtype: int64"
      ]
     },
     "execution_count": 9,
     "metadata": {},
     "output_type": "execute_result"
    }
   ],
   "source": [
    "df = df.dropna(subset=['name'])\n",
    "df.isna().sum()"
   ]
  },
  {
   "cell_type": "markdown",
   "metadata": {},
   "source": [
    "usd_pledged: conversion in US dollars of the pledged column (conversion done by kickstarter).\n",
    "usd pledge real: conversion in US dollars of the pledged column (conversion from Fixer.io API).\n",
    "usd goal real: conversion in US dollars of the goal column (conversion from Fixer.io API).\n",
    "\n",
    "In 3797 cases Kickstarter did not convert the currency successfully to USD (usd_pledged)\n",
    "Let us further investigate that issue."
   ]
  },
  {
   "cell_type": "code",
   "execution_count": 12,
   "metadata": {},
   "outputs": [
    {
     "name": "stderr",
     "output_type": "stream",
     "text": [
      "C:\\Users\\steve\\Anaconda3\\lib\\site-packages\\ipykernel_launcher.py:2: UserWarning: Boolean Series key will be reindexed to match DataFrame index.\n",
      "  \n"
     ]
    },
    {
     "data": {
      "text/html": [
       "<div>\n",
       "<style scoped>\n",
       "    .dataframe tbody tr th:only-of-type {\n",
       "        vertical-align: middle;\n",
       "    }\n",
       "\n",
       "    .dataframe tbody tr th {\n",
       "        vertical-align: top;\n",
       "    }\n",
       "\n",
       "    .dataframe thead th {\n",
       "        text-align: right;\n",
       "    }\n",
       "</style>\n",
       "<table border=\"1\" class=\"dataframe\">\n",
       "  <thead>\n",
       "    <tr style=\"text-align: right;\">\n",
       "      <th></th>\n",
       "      <th>usd_pledged_real</th>\n",
       "      <th>usd_pledged</th>\n",
       "      <th>pledged</th>\n",
       "      <th>currency</th>\n",
       "    </tr>\n",
       "  </thead>\n",
       "  <tbody>\n",
       "    <tr>\n",
       "      <td>1</td>\n",
       "      <td>2421.00</td>\n",
       "      <td>100.0</td>\n",
       "      <td>2421.00</td>\n",
       "      <td>USD</td>\n",
       "    </tr>\n",
       "    <tr>\n",
       "      <td>29</td>\n",
       "      <td>57577.31</td>\n",
       "      <td>10120.0</td>\n",
       "      <td>57577.31</td>\n",
       "      <td>USD</td>\n",
       "    </tr>\n",
       "    <tr>\n",
       "      <td>31</td>\n",
       "      <td>47266.00</td>\n",
       "      <td>11253.0</td>\n",
       "      <td>47266.00</td>\n",
       "      <td>USD</td>\n",
       "    </tr>\n",
       "    <tr>\n",
       "      <td>41</td>\n",
       "      <td>2100.00</td>\n",
       "      <td>83.0</td>\n",
       "      <td>2100.00</td>\n",
       "      <td>USD</td>\n",
       "    </tr>\n",
       "    <tr>\n",
       "      <td>43</td>\n",
       "      <td>856.00</td>\n",
       "      <td>324.0</td>\n",
       "      <td>856.00</td>\n",
       "      <td>USD</td>\n",
       "    </tr>\n",
       "    <tr>\n",
       "      <td>51</td>\n",
       "      <td>6.00</td>\n",
       "      <td>5.0</td>\n",
       "      <td>6.00</td>\n",
       "      <td>USD</td>\n",
       "    </tr>\n",
       "    <tr>\n",
       "      <td>71</td>\n",
       "      <td>141.00</td>\n",
       "      <td>100.0</td>\n",
       "      <td>141.00</td>\n",
       "      <td>USD</td>\n",
       "    </tr>\n",
       "    <tr>\n",
       "      <td>102</td>\n",
       "      <td>1055.00</td>\n",
       "      <td>0.0</td>\n",
       "      <td>1055.00</td>\n",
       "      <td>USD</td>\n",
       "    </tr>\n",
       "    <tr>\n",
       "      <td>103</td>\n",
       "      <td>156.00</td>\n",
       "      <td>1.0</td>\n",
       "      <td>156.00</td>\n",
       "      <td>USD</td>\n",
       "    </tr>\n",
       "    <tr>\n",
       "      <td>106</td>\n",
       "      <td>22.00</td>\n",
       "      <td>7.0</td>\n",
       "      <td>22.00</td>\n",
       "      <td>USD</td>\n",
       "    </tr>\n",
       "  </tbody>\n",
       "</table>\n",
       "</div>"
      ],
      "text/plain": [
       "     usd_pledged_real  usd_pledged   pledged currency\n",
       "1             2421.00        100.0   2421.00      USD\n",
       "29           57577.31      10120.0  57577.31      USD\n",
       "31           47266.00      11253.0  47266.00      USD\n",
       "41            2100.00         83.0   2100.00      USD\n",
       "43             856.00        324.0    856.00      USD\n",
       "51               6.00          5.0      6.00      USD\n",
       "71             141.00        100.0    141.00      USD\n",
       "102           1055.00          0.0   1055.00      USD\n",
       "103            156.00          1.0    156.00      USD\n",
       "106             22.00          7.0     22.00      USD"
      ]
     },
     "execution_count": 12,
     "metadata": {},
     "output_type": "execute_result"
    }
   ],
   "source": [
    "#df where currency is USD, and USD_pledged differs from pledged even though the currency did not change\n",
    "df[df['currency']=='USD'][['usd_pledged_real','usd_pledged','pledged','currency']][df['usd_pledged']!=df['pledged']].head(10)\n",
    "#46581 entries seem to have a conversion error from USD to USD \n",
    "#so how many others are there? How do other currencies look? Is Fixer.io good?"
   ]
  },
  {
   "cell_type": "code",
   "execution_count": 13,
   "metadata": {},
   "outputs": [
    {
     "name": "stdout",
     "output_type": "stream",
     "text": [
      "['GBP' 'USD' 'CAD' 'AUD' 'NOK' 'EUR' 'MXN' 'SEK' 'NZD' 'CHF' 'DKK' 'HKD'\n",
      " 'SGD' 'JPY']\n"
     ]
    }
   ],
   "source": [
    "#number of unique currencies\n",
    "print(df.currency.unique())"
   ]
  },
  {
   "cell_type": "code",
   "execution_count": 14,
   "metadata": {},
   "outputs": [],
   "source": [
    "#Google 28.02.2020\n",
    "to_usd={'GBP':1.29, 'USD':1, 'CAD':0.74, 'AUD':0.65, 'NOK':0.11, 'EUR':1.1, 'MXN':0.05, 'SEK':0.10, 'NZD':0.63,\n",
    "       'CHF':1.04, 'DKK':0.15, 'HKD':0.13, 'SGD':0.72, 'JPY':0.0092}\n",
    "\n",
    "#function to compare what Kickstarter sais he currency is vs what it should be with current exchange rate within in margin X%\n",
    "# inf values from deviding by 0 were marked with NaN and then replaced with the mean ignoring the NaNs\n",
    "def within_Xp(df,X,to_usd=to_usd,col_base='pledged',col_comp='usd_pledged'):\n",
    "    diff=df[col_base]*[to_usd[i] for i in df['currency']]/df[col_comp]\n",
    "    diff.replace([np.inf, -np.inf], np.nan,inplace=True)\n",
    "    diff.replace([np.nan], diff.mean(skipna=True),inplace=True)\n",
    "    stats=[diff.mean(),diff.std(),len(diff[(diff>(1+X)) | (diff<(1-X))]),len(diff[(diff>(1+X)) | (diff<(1-X))])/len(df)]\n",
    "    print(col_base,'vs',col_comp,'\\nmean,std,,#out of dataset outside','1+-'+str(X),'%out of dataset outside','1+-'+str(X),'\\n',stats)\n",
    "    return diff[(diff>(1+X)) | (diff<(1-X))],stats"
   ]
  },
  {
   "cell_type": "code",
   "execution_count": 15,
   "metadata": {},
   "outputs": [
    {
     "name": "stdout",
     "output_type": "stream",
     "text": [
      "pledged vs usd_pledged \n",
      "mean,std,,#out of dataset outside 1+-0.3 %out of dataset outside 1+-0.3 \n",
      " [6.747186426901537, 429.6821928757306, 119393, 0.3153064646896796]\n"
     ]
    },
    {
     "data": {
      "text/plain": [
       "<matplotlib.axes._subplots.AxesSubplot at 0x1d0128df148>"
      ]
     },
     "execution_count": 15,
     "metadata": {},
     "output_type": "execute_result"
    },
    {
     "data": {
      "image/png": "[encoded data removed]",
      "text/plain": [
       "<Figure size 432x288 with 1 Axes>"
      ]
     },
     "metadata": {
      "needs_background": "light"
     },
     "output_type": "display_data"
    }
   ],
   "source": [
    "#Kickstarter conversion pledged to USD allowing a possible 30% change in currency since 2014\n",
    "diff,stats=within_Xp(df,0.3,to_usd=to_usd,col_base='pledged',col_comp='usd_pledged')\n",
    "diff.hist(bins=[0,1,2,3,4,5,6,7,8,9,10,20,50])"
   ]
  },
  {
   "cell_type": "code",
   "execution_count": 16,
   "metadata": {},
   "outputs": [],
   "source": [
    "# the big spike is the inf entries changed to the mean\n",
    "# 30% of the data is not within boundaries"
   ]
  },
  {
   "cell_type": "code",
   "execution_count": 17,
   "metadata": {},
   "outputs": [
    {
     "name": "stdout",
     "output_type": "stream",
     "text": [
      "pledged vs usd_pledged_real \n",
      "mean,std,,#out of dataset outside 1+-0.3 %out of dataset outside 1+-0.3 \n",
      " [0.979746957209836, 0.05246349647943328, 622, 0.0016426475675875528]\n"
     ]
    },
    {
     "data": {
      "text/plain": [
       "<matplotlib.axes._subplots.AxesSubplot at 0x1d0130d2c88>"
      ]
     },
     "execution_count": 17,
     "metadata": {},
     "output_type": "execute_result"
    },
    {
     "data": {
      "image/png": "[encoded data removed]",
      "text/plain": [
       "<Figure size 432x288 with 1 Axes>"
      ]
     },
     "metadata": {
      "needs_background": "light"
     },
     "output_type": "display_data"
    }
   ],
   "source": [
    "#Fixer.io conversion pledged to USD allowing a possible 30% change in currency since 2014\n",
    "diff,stats=within_Xp(df,0.3,to_usd=to_usd,col_base='pledged',col_comp='usd_pledged_real')\n",
    "diff.hist(bins=50)"
   ]
  },
  {
   "cell_type": "code",
   "execution_count": 18,
   "metadata": {},
   "outputs": [],
   "source": [
    "# at 40% there is no more outliers, so I believe it is best to drop pledged_usd and go with pledged_usd_real"
   ]
  },
  {
   "cell_type": "code",
   "execution_count": 19,
   "metadata": {},
   "outputs": [],
   "source": [
    "df.drop(columns='usd_pledged',inplace=True)"
   ]
  },
  {
   "cell_type": "code",
   "execution_count": 23,
   "metadata": {},
   "outputs": [
    {
     "data": {
      "text/plain": [
       "False"
      ]
     },
     "execution_count": 23,
     "metadata": {},
     "output_type": "execute_result"
    }
   ],
   "source": [
    "#check for duplicates\n",
    "df.duplicated().any()"
   ]
  },
  {
   "cell_type": "code",
   "execution_count": 96,
   "metadata": {},
   "outputs": [],
   "source": [
    "#set datetime\n",
    "df['launched']=pd.to_datetime(df['launched'])\n",
    "df['deadline']=pd.to_datetime(df['deadline'])"
   ]
  },
  {
   "cell_type": "markdown",
   "metadata": {},
   "source": [
    "## Categorical Features"
   ]
  },
  {
   "cell_type": "code",
   "execution_count": 135,
   "metadata": {},
   "outputs": [
    {
     "name": "stdout",
     "output_type": "stream",
     "text": [
      "\n",
      " ID int64\n",
      "\n",
      " name object\n",
      "\n",
      " category object\n",
      "{'Product Design': 0.05894038335552315, 'Documentary': 0.04263350873856168, 'Music': 0.04130211965595215, 'Tabletop Games': 0.03745852617341871, 'Shorts': 0.0326428073289799, 'Video Games': 0.031248018766246118, 'Food': 0.030360426044506436, 'Film & Video': 0.02667268961727847, 'Fiction': 0.024221243052473636, 'Fashion': 0.022596631374289397, 'Nonfiction': 0.02197320315306748, 'Art': 0.02180149622773093, 'Apparel': 0.018930028107102856, 'Theater': 0.018642088801538493, 'Technology': 0.018306599885880934} \n",
      "\n",
      "\n",
      " main_category object\n",
      "{'Film & Video': 0.1679372979141571, 'Music': 0.13690589403833556, 'Publishing': 0.10533295293645259, 'Games': 0.0930651535324077, 'Technology': 0.08603309452862487, 'Design': 0.0794289820156808, 'Art': 0.07436759018576047, 'Food': 0.06498975041737991, 'Fashion': 0.06027177243813268, 'Theater': 0.028828271941503412, 'Comics': 0.028579957311016715, 'Photography': 0.028474291510809612, 'Crafts': 0.023270250850609693, 'Journalism': 0.012561021999619603, 'Dance': 0.009953718379509289} \n",
      "\n",
      "\n",
      " currency object\n",
      "{'USD': 0.7800302204188593, 'GBP': 0.09012500264164501, 'EUR': 0.04596726473509584, 'CAD': 0.03951636763245208, 'AUD': 0.020998436146156936, 'SEK': 0.004723261269257592, 'MXN': 0.0046281620490711975, 'NZD': 0.0038964263826369956, 'DKK': 0.0029771339208351823, 'CHF': 0.0020287833639764156, 'NOK': 0.001904626048733067, 'HKD': 0.0016325366131997717, 'SGD': 0.0014661129778735815, 'JPY': 0.00010566580020710496} \n",
      "\n",
      "\n",
      " deadline datetime64[ns]\n",
      "\n",
      " goal float64\n",
      "\n",
      " launched datetime64[ns]\n",
      "\n",
      " pledged float64\n",
      "\n",
      " state object\n",
      "{'failed': 0.5222954838436992, 'successful': 0.3535868255880302, 'canceled': 0.1024403516557831, 'undefined': 0.009409539508442697, 'live': 0.00739396436949217, 'suspended': 0.0048738350345527166} \n",
      "\n",
      "\n",
      " backers int64\n",
      "\n",
      " country object\n",
      "{'US': 0.7730087279950971, 'GB': 0.08894682896933578, 'CA': 0.038980113696401024, 'AU': 0.020707855195587398, 'DE': 0.01101830131659587, 'N,0\"': 0.00975295335911579, 'FR': 0.007763794670217037, 'IT': 0.007602654324901203, 'NL': 0.007576237874849426, 'ES': 0.006012384031784273, 'SE': 0.004641370274097086, 'MX': 0.0046281620490711975, 'NZ': 0.0038224603224920224, 'DK': 0.0029401508907626957, 'IE': 0.0021423740991990533} \n",
      "\n",
      "\n",
      " usd_pledged_real float64\n",
      "\n",
      " usd_goal_real float64\n"
     ]
    }
   ],
   "source": [
    "#the categorical features and the contribution of the top 15 features to the data\n",
    "for i in df.columns:\n",
    "    print('\\n',i,df[i].dtype)\n",
    "    if df[i].dtype=='object' and i!='name':\n",
    "        #print('# of categories in',i,len(df[i].unique()),'\\n',df[i].unique())\n",
    "        p={e:(df[i]==e).sum()/len(df) for e in df[i].unique()}\n",
    "        p_sorted={k: v for k, v in sorted(p.items(), key=lambda item: item[1],reverse=True)}\n",
    "        print({x:p_sorted[x] for c,x in enumerate(p_sorted) if c<15 },'\\n')"
   ]
  },
  {
   "cell_type": "code",
   "execution_count": 52,
   "metadata": {},
   "outputs": [
    {
     "name": "stdout",
     "output_type": "stream",
     "text": [
      "{'failed': 0.5221506534937952, 'canceled': 0.10241194537536609, 'successful': 0.3537660732536306, 'live': 0.007391914054143988, 'undefined': 0.009406930282551226, 'suspended': 0.004872483540512918}\n"
     ]
    }
   ],
   "source": [
    "state_p={i:(df.state==i).sum()/len(df) for i in df.state.unique()}\n",
    "state_p_sorted={k: v for k, v in sorted(state_p.items(), key=lambda item: item[1],reverse=True)}\n",
    "\n",
    "print(state_p_sorted)"
   ]
  },
  {
   "cell_type": "markdown",
   "metadata": {},
   "source": [
    "https://www.kaggle.com/kemical/kickstarter-projects/discussion/67067\n",
    "This user hinted that there are successful project without backers\n",
    "We will remove them"
   ]
  },
  {
   "cell_type": "code",
   "execution_count": 133,
   "metadata": {},
   "outputs": [
    {
     "name": "stdout",
     "output_type": "stream",
     "text": [
      "0 backers and succeeded: 105\n"
     ]
    }
   ],
   "source": [
    "print('0 backers and succeeded:',((df.backers==0)&(df.state=='successful')).sum())\n",
    "df[(df.backers==0)&(df.state=='successful')].country.unique()\n",
    "df=df[~((df.backers==0)&(df.state=='successful'))]"
   ]
  },
  {
   "cell_type": "code",
   "execution_count": 136,
   "metadata": {},
   "outputs": [
    {
     "data": {
      "text/plain": [
       "Index(['ID', 'name', 'category', 'main_category', 'currency', 'deadline',\n",
       "       'goal', 'launched', 'pledged', 'state', 'backers', 'country',\n",
       "       'usd_pledged_real', 'usd_goal_real'],\n",
       "      dtype='object')"
      ]
     },
     "execution_count": 136,
     "metadata": {},
     "output_type": "execute_result"
    }
   ],
   "source": [
    "df.columns"
   ]
  },
  {
   "cell_type": "code",
   "execution_count": 77,
   "metadata": {},
   "outputs": [
    {
     "name": "stdout",
     "output_type": "stream",
     "text": [
      "{'US': 0.7727943759127653, 'GB': 0.08892216438623873, 'CA': 0.038969304674151016, 'AU': 0.020702112994081714, 'DE': 0.011015245987793703, 'N,0\"': 0.010027544717250704, 'FR': 0.007761641802475592, 'IT': 0.007600546140702535, 'NL': 0.007574137015821707, 'ES': 0.00601071682287664, 'SE': 0.004640083241561625, 'MX': 0.00462687867912121, 'NZ': 0.003821400370255931, 'DK': 0.0029393355992362482, 'IE': 0.0021417800278352175, 'CH': 0.0020097344034310737, 'NO': 0.0018697660415626807, 'HK': 0.0016320839176352214, 'BE': 0.0016294430051471385, 'AT': 0.0015766247553854807, 'SG': 0.0014657064308859998, 'LU': 0.00016373657426113872, 'JP': 0.00010563649952331529}\n"
     ]
    }
   ],
   "source": [
    "country_p={i:(df.country==i).sum()/len(df) for i in df.country.unique()}\n",
    "country_p_sorted={k: v for k, v in sorted(country_p.items(), key=lambda item: item[1],reverse=True)}\n",
    "\n",
    "print(country_p_sorted)"
   ]
  }
 ],
 "metadata": {
  "kernelspec": {
   "display_name": "Python 3",
   "language": "python",
   "name": "python3"
  },
  "language_info": {
   "codemirror_mode": {
    "name": "ipython",
    "version": 3
   },
   "file_extension": ".py",
   "mimetype": "text/x-python",
   "name": "python",
   "nbconvert_exporter": "python",
   "pygments_lexer": "ipython3",
   "version": "3.7.4"
  }
 },
 "nbformat": 4,
 "nbformat_minor": 2
}
