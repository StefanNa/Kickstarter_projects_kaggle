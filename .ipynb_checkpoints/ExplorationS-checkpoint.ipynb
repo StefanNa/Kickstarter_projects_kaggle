{
 "cells": [
  {
   "cell_type": "markdown",
   "metadata": {},
   "source": [
    "# Data Loading"
   ]
  },
  {
   "cell_type": "code",
   "execution_count": 36,
   "metadata": {},
   "outputs": [
    {
     "name": "stderr",
     "output_type": "stream",
     "text": [
      "C:\\Users\\steve\\Anaconda3\\lib\\site-packages\\IPython\\core\\interactiveshell.py:3058: DtypeWarning: Columns (13,14,15) have mixed types. Specify dtype option on import or set low_memory=False.\n",
      "  interactivity=interactivity, compiler=compiler, result=result)\n"
     ]
    }
   ],
   "source": [
    "# -*- coding: utf-8 -*-\n",
    "import pandas as pd\n",
    "\n",
    "a=pd.read_csv('ks-projects-201612.csv',encoding = \"ISO-8859-1\")\n",
    "#remove empty columns\n",
    "a_drop=[i for i in a.columns if 'Unnamed' in i]\n",
    "a.drop(a_drop,axis=1,inplace=True)\n",
    "b=pd.read_csv('ks-projects-201801.csv',encoding = \"ISO-8859-1\")\n",
    "b.drop(['usd_pledged_real', 'usd_goal_real'],axis=1,inplace=True)\n",
    "#%%\n"
   ]
  },
  {
   "cell_type": "code",
   "execution_count": 37,
   "metadata": {},
   "outputs": [
    {
     "data": {
      "text/plain": [
       "array([ True,  True,  True,  True,  True,  True,  True,  True,  True,\n",
       "        True,  True,  True,  True])"
      ]
     },
     "execution_count": 37,
     "metadata": {},
     "output_type": "execute_result"
    }
   ],
   "source": [
    "#rename column names\n",
    "b.columns[0] in a.columns[0]\n",
    "for c,i in enumerate(a.columns):\n",
    "    if b.columns[c] in i:\n",
    "        a.rename(columns={i:b.columns[c]}, errors=\"raise\",inplace=True)\n",
    "a.columns==b.columns\n"
   ]
  },
  {
   "cell_type": "code",
   "execution_count": 38,
   "metadata": {},
   "outputs": [],
   "source": [
    "#concatinate databases\n",
    "df=pd.concat([a,b]).drop_duplicates()"
   ]
  },
  {
   "cell_type": "code",
   "execution_count": 39,
   "metadata": {},
   "outputs": [
    {
     "name": "stdout",
     "output_type": "stream",
     "text": [
      "58 323692 True\n"
     ]
    },
    {
     "data": {
      "text/plain": [
       "0"
      ]
     },
     "execution_count": 39,
     "metadata": {},
     "output_type": "execute_result"
    }
   ],
   "source": [
    "test=[i in b.ID for i in a.ID ]\n",
    "print(test.count(True),test.count(False),test.count(True)+test.count(False)==len(a))\n",
    "len(df)-len(a)-len(b)"
   ]
  },
  {
   "cell_type": "code",
   "execution_count": 45,
   "metadata": {},
   "outputs": [],
   "source": [
    "a_in_b=[[i,i in b.ID] for i in a.ID]"
   ]
  },
  {
   "cell_type": "code",
   "execution_count": 46,
   "metadata": {},
   "outputs": [
    {
     "data": {
      "text/plain": [
       "[106144,\n",
       " 113230,\n",
       " 116600,\n",
       " 126581,\n",
       " 138119,\n",
       " 160274,\n",
       " 164555,\n",
       " 182647,\n",
       " 182943,\n",
       " 18520,\n",
       " 188667,\n",
       " 197154,\n",
       " 206517,\n",
       " 207971,\n",
       " 21109,\n",
       " 21371,\n",
       " 223722,\n",
       " 237090,\n",
       " 24380,\n",
       " 246101,\n",
       " 251057,\n",
       " 254501,\n",
       " 255356,\n",
       " 260964,\n",
       " 274865,\n",
       " 277920,\n",
       " 279511,\n",
       " 282045,\n",
       " 301434,\n",
       " 304055,\n",
       " 305052,\n",
       " 312747,\n",
       " 316217,\n",
       " 316938,\n",
       " 325034,\n",
       " 325906,\n",
       " 326455,\n",
       " 335107,\n",
       " 336169,\n",
       " 33867,\n",
       " 342881,\n",
       " 351952,\n",
       " 368661,\n",
       " 375531,\n",
       " 375871,\n",
       " 377067,\n",
       " 378038,\n",
       " 39036,\n",
       " 39409,\n",
       " 46588,\n",
       " 50831,\n",
       " 52687,\n",
       " 53154,\n",
       " 56833,\n",
       " 5971,\n",
       " 62304,\n",
       " 75626,\n",
       " 92158]"
      ]
     },
     "execution_count": 46,
     "metadata": {},
     "output_type": "execute_result"
    }
   ],
   "source": [
    "[i[0] for i in a_in_b if i[1]==True]"
   ]
  },
  {
   "cell_type": "code",
   "execution_count": 40,
   "metadata": {},
   "outputs": [
    {
     "data": {
      "text/plain": [
       "(702411, 323750, 378661)"
      ]
     },
     "execution_count": 40,
     "metadata": {},
     "output_type": "execute_result"
    }
   ],
   "source": [
    "len(df),len(a),len(b)"
   ]
  },
  {
   "cell_type": "code",
   "execution_count": 34,
   "metadata": {},
   "outputs": [
    {
     "name": "stdout",
     "output_type": "stream",
     "text": [
      "323749\n"
     ]
    }
   ],
   "source": [
    "for i in range(len(a)):\n",
    "    if a.iloc[i][0] in b.ID.values:\n",
    "    \n",
    "print(i)"
   ]
  },
  {
   "cell_type": "code",
   "execution_count": 51,
   "metadata": {},
   "outputs": [
    {
     "data": {
      "text/plain": [
       "Index(['ID ', 'name ', 'category ', 'main_category ', 'currency ', 'deadline ',\n",
       "       'goal ', 'launched ', 'pledged ', 'state ', 'backers ', 'country ',\n",
       "       'usd pledged '],\n",
       "      dtype='object')"
      ]
     },
     "execution_count": 51,
     "metadata": {},
     "output_type": "execute_result"
    }
   ],
   "source": [
    "b[b.ID==a.iloc[i][0]]\n",
    "a.iloc[i][0] in b.ID.values\n",
    "a.columns\n",
    "#b[b.ID==a.iloc[i][0]]==a[a.ID==a.iloc[i][0]]"
   ]
  },
  {
   "cell_type": "code",
   "execution_count": 57,
   "metadata": {},
   "outputs": [
    {
     "data": {
      "text/plain": [
       "10.954451150103322"
      ]
     },
     "execution_count": 57,
     "metadata": {},
     "output_type": "execute_result"
    }
   ],
   "source": []
  }
 ],
 "metadata": {
  "kernelspec": {
   "display_name": "Python 3",
   "language": "python",
   "name": "python3"
  },
  "language_info": {
   "codemirror_mode": {
    "name": "ipython",
    "version": 3
   },
   "file_extension": ".py",
   "mimetype": "text/x-python",
   "name": "python",
   "nbconvert_exporter": "python",
   "pygments_lexer": "ipython3",
   "version": "3.7.4"
  }
 },
 "nbformat": 4,
 "nbformat_minor": 2
}
