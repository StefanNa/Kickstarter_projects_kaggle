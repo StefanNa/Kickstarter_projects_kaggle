{
 "cells": [
  {
   "cell_type": "markdown",
   "metadata": {},
   "source": [
    "# Data Loading"
   ]
  },
  {
   "cell_type": "code",
   "execution_count": null,
   "metadata": {},
   "outputs": [],
   "source": []
  },
  {
   "cell_type": "code",
   "execution_count": 1,
   "metadata": {},
   "outputs": [],
   "source": [
    "import pandas as pd\n",
    "#import janitor\n",
    "import numpy as np\n",
    "import matplotlib.pyplot as plt\n",
    "\n",
    "%matplotlib inline"
   ]
  },
  {
   "cell_type": "code",
   "execution_count": 2,
   "metadata": {},
   "outputs": [],
   "source": [
    "# -*- coding: utf-8 -*-\n",
    "'''\n",
    "a=pd.read_csv('ks-projects-201612.csv',encoding = \"ISO-8859-1\")\n",
    "#remove empty columns\n",
    "a_drop=[i for i in a.columns if 'Unnamed' in i]\n",
    "a.drop(a_drop,axis=1,inplace=True)\n",
    "'''\n",
    "df=pd.read_csv('ks-projects-201801.csv',encoding = \"ISO-8859-1\")\n",
    "#b.drop(['usd_pledged_real', 'usd_goal_real'],axis=1,inplace=True)\n",
    "#%%\n"
   ]
  },
  {
   "cell_type": "code",
   "execution_count": 3,
   "metadata": {},
   "outputs": [
    {
     "name": "stdout",
     "output_type": "stream",
     "text": [
      "Index(['ID', 'name', 'category', 'main_category', 'currency', 'deadline',\n",
      "       'goal', 'launched', 'pledged', 'state', 'backers', 'country',\n",
      "       'usd pledged', 'usd_pledged_real', 'usd_goal_real'],\n",
      "      dtype='object')\n"
     ]
    }
   ],
   "source": [
    "print(df.columns)\n",
    "df.rename(columns={'usd pledged':'usd_pledged'},inplace=True)"
   ]
  },
  {
   "cell_type": "markdown",
   "metadata": {},
   "source": [
    "### data analysis + cleaning"
   ]
  },
  {
   "cell_type": "code",
   "execution_count": 41,
   "metadata": {},
   "outputs": [
    {
     "data": {
      "text/plain": [
       "159"
      ]
     },
     "execution_count": 41,
     "metadata": {},
     "output_type": "execute_result"
    }
   ],
   "source": [
    "len(df.category.unique())"
   ]
  },
  {
   "cell_type": "code",
   "execution_count": 39,
   "metadata": {},
   "outputs": [
    {
     "data": {
      "text/plain": [
       "15"
      ]
     },
     "execution_count": 39,
     "metadata": {},
     "output_type": "execute_result"
    }
   ],
   "source": [
    "len(df.main_category.unique())"
   ]
  },
  {
   "cell_type": "code",
   "execution_count": 4,
   "metadata": {},
   "outputs": [
    {
     "data": {
      "text/plain": [
       "ID                     0\n",
       "name                   4\n",
       "category               0\n",
       "main_category          0\n",
       "currency               0\n",
       "deadline               0\n",
       "goal                   0\n",
       "launched               0\n",
       "pledged                0\n",
       "state                  0\n",
       "backers                0\n",
       "country                0\n",
       "usd_pledged         3797\n",
       "usd_pledged_real       0\n",
       "usd_goal_real          0\n",
       "dtype: int64"
      ]
     },
     "execution_count": 4,
     "metadata": {},
     "output_type": "execute_result"
    }
   ],
   "source": [
    "#look for NaN\n",
    "df.isna().sum()"
   ]
  },
  {
   "cell_type": "markdown",
   "metadata": {},
   "source": [
    "I suggest dropping the projects that do not have a name tag."
   ]
  },
  {
   "cell_type": "code",
   "execution_count": 5,
   "metadata": {},
   "outputs": [
    {
     "data": {
      "text/plain": [
       "ID                     0\n",
       "name                   0\n",
       "category               0\n",
       "main_category          0\n",
       "currency               0\n",
       "deadline               0\n",
       "goal                   0\n",
       "launched               0\n",
       "pledged                0\n",
       "state                  0\n",
       "backers                0\n",
       "country                0\n",
       "usd_pledged         3797\n",
       "usd_pledged_real       0\n",
       "usd_goal_real          0\n",
       "dtype: int64"
      ]
     },
     "execution_count": 5,
     "metadata": {},
     "output_type": "execute_result"
    }
   ],
   "source": [
    "df = df.dropna(subset=['name'])\n",
    "df.isna().sum()"
   ]
  },
  {
   "cell_type": "markdown",
   "metadata": {},
   "source": [
    "usd_pledged: conversion in US dollars of the pledged column (conversion done by kickstarter).\n",
    "usd pledge real: conversion in US dollars of the pledged column (conversion from Fixer.io API).\n",
    "usd goal real: conversion in US dollars of the goal column (conversion from Fixer.io API).\n",
    "\n",
    "In 3797 cases Kickstarter did not convert the currency successfully to USD (usd_pledged)\n",
    "Let us further investigate that issue."
   ]
  },
  {
   "cell_type": "code",
   "execution_count": 6,
   "metadata": {},
   "outputs": [
    {
     "name": "stderr",
     "output_type": "stream",
     "text": [
      "C:\\Users\\1\\Anaconda3\\lib\\site-packages\\ipykernel_launcher.py:2: UserWarning: Boolean Series key will be reindexed to match DataFrame index.\n",
      "  \n"
     ]
    },
    {
     "data": {
      "text/html": [
       "<div>\n",
       "<style scoped>\n",
       "    .dataframe tbody tr th:only-of-type {\n",
       "        vertical-align: middle;\n",
       "    }\n",
       "\n",
       "    .dataframe tbody tr th {\n",
       "        vertical-align: top;\n",
       "    }\n",
       "\n",
       "    .dataframe thead th {\n",
       "        text-align: right;\n",
       "    }\n",
       "</style>\n",
       "<table border=\"1\" class=\"dataframe\">\n",
       "  <thead>\n",
       "    <tr style=\"text-align: right;\">\n",
       "      <th></th>\n",
       "      <th>usd_pledged_real</th>\n",
       "      <th>usd_pledged</th>\n",
       "      <th>pledged</th>\n",
       "      <th>currency</th>\n",
       "    </tr>\n",
       "  </thead>\n",
       "  <tbody>\n",
       "    <tr>\n",
       "      <td>1</td>\n",
       "      <td>2421.00</td>\n",
       "      <td>100.0</td>\n",
       "      <td>2421.00</td>\n",
       "      <td>USD</td>\n",
       "    </tr>\n",
       "    <tr>\n",
       "      <td>29</td>\n",
       "      <td>57577.31</td>\n",
       "      <td>10120.0</td>\n",
       "      <td>57577.31</td>\n",
       "      <td>USD</td>\n",
       "    </tr>\n",
       "    <tr>\n",
       "      <td>31</td>\n",
       "      <td>47266.00</td>\n",
       "      <td>11253.0</td>\n",
       "      <td>47266.00</td>\n",
       "      <td>USD</td>\n",
       "    </tr>\n",
       "    <tr>\n",
       "      <td>41</td>\n",
       "      <td>2100.00</td>\n",
       "      <td>83.0</td>\n",
       "      <td>2100.00</td>\n",
       "      <td>USD</td>\n",
       "    </tr>\n",
       "    <tr>\n",
       "      <td>43</td>\n",
       "      <td>856.00</td>\n",
       "      <td>324.0</td>\n",
       "      <td>856.00</td>\n",
       "      <td>USD</td>\n",
       "    </tr>\n",
       "    <tr>\n",
       "      <td>51</td>\n",
       "      <td>6.00</td>\n",
       "      <td>5.0</td>\n",
       "      <td>6.00</td>\n",
       "      <td>USD</td>\n",
       "    </tr>\n",
       "    <tr>\n",
       "      <td>71</td>\n",
       "      <td>141.00</td>\n",
       "      <td>100.0</td>\n",
       "      <td>141.00</td>\n",
       "      <td>USD</td>\n",
       "    </tr>\n",
       "    <tr>\n",
       "      <td>102</td>\n",
       "      <td>1055.00</td>\n",
       "      <td>0.0</td>\n",
       "      <td>1055.00</td>\n",
       "      <td>USD</td>\n",
       "    </tr>\n",
       "    <tr>\n",
       "      <td>103</td>\n",
       "      <td>156.00</td>\n",
       "      <td>1.0</td>\n",
       "      <td>156.00</td>\n",
       "      <td>USD</td>\n",
       "    </tr>\n",
       "    <tr>\n",
       "      <td>106</td>\n",
       "      <td>22.00</td>\n",
       "      <td>7.0</td>\n",
       "      <td>22.00</td>\n",
       "      <td>USD</td>\n",
       "    </tr>\n",
       "  </tbody>\n",
       "</table>\n",
       "</div>"
      ],
      "text/plain": [
       "     usd_pledged_real  usd_pledged   pledged currency\n",
       "1             2421.00        100.0   2421.00      USD\n",
       "29           57577.31      10120.0  57577.31      USD\n",
       "31           47266.00      11253.0  47266.00      USD\n",
       "41            2100.00         83.0   2100.00      USD\n",
       "43             856.00        324.0    856.00      USD\n",
       "51               6.00          5.0      6.00      USD\n",
       "71             141.00        100.0    141.00      USD\n",
       "102           1055.00          0.0   1055.00      USD\n",
       "103            156.00          1.0    156.00      USD\n",
       "106             22.00          7.0     22.00      USD"
      ]
     },
     "execution_count": 6,
     "metadata": {},
     "output_type": "execute_result"
    }
   ],
   "source": [
    "#df where currency is USD, and USD_pledged differs from pledged even though the currency did not change\n",
    "df[df['currency']=='USD'][['usd_pledged_real','usd_pledged','pledged','currency']][df['usd_pledged']!=df['pledged']].head(10)\n",
    "#46581 entries seem to have a conversion error from USD to USD \n",
    "#so how many others are there? How do other currencies look? Is Fixer.io good?"
   ]
  },
  {
   "cell_type": "code",
   "execution_count": 7,
   "metadata": {},
   "outputs": [
    {
     "name": "stdout",
     "output_type": "stream",
     "text": [
      "['GBP' 'USD' 'CAD' 'AUD' 'NOK' 'EUR' 'MXN' 'SEK' 'NZD' 'CHF' 'DKK' 'HKD'\n",
      " 'SGD' 'JPY']\n"
     ]
    }
   ],
   "source": [
    "#number of unique currencies\n",
    "print(df.currency.unique())"
   ]
  },
  {
   "cell_type": "code",
   "execution_count": 8,
   "metadata": {},
   "outputs": [],
   "source": [
    "#Google 28.02.2020\n",
    "to_usd={'GBP':1.29, 'USD':1, 'CAD':0.74, 'AUD':0.65, 'NOK':0.11, 'EUR':1.1, 'MXN':0.05, 'SEK':0.10, 'NZD':0.63,\n",
    "       'CHF':1.04, 'DKK':0.15, 'HKD':0.13, 'SGD':0.72, 'JPY':0.0092}\n",
    "\n",
    "#function to compare what Kickstarter sais he currency is vs what it should be with current exchange rate within in margin X%\n",
    "# inf values from deviding by 0 were marked with NaN and then replaced with the mean ignoring the NaNs\n",
    "def within_Xp(df,X,to_usd=to_usd,col_base='pledged',col_comp='usd_pledged'):\n",
    "    diff=df[col_base]*[to_usd[i] for i in df['currency']]/df[col_comp]\n",
    "    diff.replace([np.inf, -np.inf], np.nan,inplace=True)\n",
    "    diff.replace([np.nan], diff.mean(skipna=True),inplace=True)\n",
    "    stats=[diff.mean(),diff.std(),len(diff[(diff>(1+X)) | (diff<(1-X))]),len(diff[(diff>(1+X)) | (diff<(1-X))])/len(df)]\n",
    "    print(col_base,'vs',col_comp,'\\nmean,std,,#out of dataset outside','1+-'+str(X),'%out of dataset outside','1+-'+str(X),'\\n',stats)\n",
    "    return diff[(diff>(1+X)) | (diff<(1-X))],stats"
   ]
  },
  {
   "cell_type": "code",
   "execution_count": 9,
   "metadata": {},
   "outputs": [
    {
     "name": "stdout",
     "output_type": "stream",
     "text": [
      "pledged vs usd_pledged \n",
      "mean,std,,#out of dataset outside 1+-0.3 %out of dataset outside 1+-0.3 \n",
      " [6.747186426901537, 429.6821928757306, 119393, 0.3153064646896796]\n"
     ]
    },
    {
     "data": {
      "text/plain": [
       "<matplotlib.axes._subplots.AxesSubplot at 0x1c401e94248>"
      ]
     },
     "execution_count": 9,
     "metadata": {},
     "output_type": "execute_result"
    },
    {
     "data": {
      "image/png": "[encoded data removed]",
      "text/plain": [
       "<Figure size 432x288 with 1 Axes>"
      ]
     },
     "metadata": {
      "needs_background": "light"
     },
     "output_type": "display_data"
    }
   ],
   "source": [
    "#Kickstarter conversion pledged to USD allowing a possible 30% change in currency since 2014\n",
    "diff,stats=within_Xp(df,0.3,to_usd=to_usd,col_base='pledged',col_comp='usd_pledged')\n",
    "diff.hist(bins=[0,1,2,3,4,5,6,7,8,9,10,20,50])"
   ]
  },
  {
   "cell_type": "code",
   "execution_count": 10,
   "metadata": {},
   "outputs": [],
   "source": [
    "# the big spike is the inf entries changed to the mean\n",
    "# 30% of the data is not within boundaries"
   ]
  },
  {
   "cell_type": "code",
   "execution_count": 11,
   "metadata": {},
   "outputs": [
    {
     "name": "stdout",
     "output_type": "stream",
     "text": [
      "pledged vs usd_pledged_real \n",
      "mean,std,,#out of dataset outside 1+-0.3 %out of dataset outside 1+-0.3 \n",
      " [0.979746957209836, 0.05246349647943328, 622, 0.0016426475675875528]\n"
     ]
    },
    {
     "data": {
      "text/plain": [
       "<matplotlib.axes._subplots.AxesSubplot at 0x1c401f1bc88>"
      ]
     },
     "execution_count": 11,
     "metadata": {},
     "output_type": "execute_result"
    },
    {
     "data": {
      "image/png": "[encoded data removed]",
      "text/plain": [
       "<Figure size 432x288 with 1 Axes>"
      ]
     },
     "metadata": {
      "needs_background": "light"
     },
     "output_type": "display_data"
    }
   ],
   "source": [
    "#Fixer.io conversion pledged to USD allowing a possible 30% change in currency since 2014\n",
    "diff,stats=within_Xp(df,0.3,to_usd=to_usd,col_base='pledged',col_comp='usd_pledged_real')\n",
    "diff.hist(bins=50)"
   ]
  },
  {
   "cell_type": "code",
   "execution_count": 12,
   "metadata": {},
   "outputs": [],
   "source": [
    "# at 40% there is no more outliers, so I believe it is best to drop pledged_usd and go with pledged_usd_real"
   ]
  },
  {
   "cell_type": "code",
   "execution_count": 13,
   "metadata": {},
   "outputs": [],
   "source": [
    "df.drop(columns='usd_pledged',inplace=True)"
   ]
  },
  {
   "cell_type": "code",
   "execution_count": 14,
   "metadata": {},
   "outputs": [
    {
     "data": {
      "text/plain": [
       "False"
      ]
     },
     "execution_count": 14,
     "metadata": {},
     "output_type": "execute_result"
    }
   ],
   "source": [
    "#check for duplicates\n",
    "df.duplicated().any()"
   ]
  },
  {
   "cell_type": "code",
   "execution_count": 15,
   "metadata": {},
   "outputs": [],
   "source": [
    "#set datetime\n",
    "df['launched']=pd.to_datetime(df['launched'])\n",
    "df['deadline']=pd.to_datetime(df['deadline'])"
   ]
  },
  {
   "cell_type": "markdown",
   "metadata": {},
   "source": [
    "## Categorical Features"
   ]
  },
  {
   "cell_type": "code",
   "execution_count": 16,
   "metadata": {},
   "outputs": [
    {
     "name": "stdout",
     "output_type": "stream",
     "text": [
      "\n",
      " ID int64\n",
      "\n",
      " name object\n",
      "\n",
      " category object\n",
      "{'Product Design': 0.05892668034659335, 'Documentary': 0.04262168664516964, 'Music': 0.04153363070007949, 'Tabletop Games': 0.03744813908101527, 'Shorts': 0.03263375561524018, 'Video Games': 0.031239353821532416, 'Food': 0.03035200722553657, 'Film & Video': 0.026694343429541776, 'Fiction': 0.024214526603231947, 'Fashion': 0.022590365423060976, 'Nonfiction': 0.021967110075873417, 'Art': 0.021795450764148027, 'Apparel': 0.018924778889601937, 'Theater': 0.0186369194284009, 'Technology': 0.018301523542414374} \n",
      "\n",
      "\n",
      " main_category object\n",
      "{'Film & Video': 0.16791977964226198, 'Music': 0.13711089455628708, 'Publishing': 0.10530374454981685, 'Games': 0.09303934695515995, 'Technology': 0.08601187882437139, 'Design': 0.07940959760416419, 'Art': 0.07434696836450931, 'Food': 0.06497172903181507, 'Fashion': 0.06025505932809905, 'Theater': 0.028820277982448496, 'Comics': 0.028572032208568705, 'Photography': 0.02846639570904539, 'Crafts': 0.02326379810752211, 'Journalism': 0.012557538880834105, 'Dance': 0.009950958255096301} \n",
      "\n",
      "\n",
      " currency object\n",
      "{'USD': 0.7800251943051363, 'GBP': 0.09013698413075685, 'EUR': 0.045965081855082565, 'CAD': 0.039513332646696084, 'AUD': 0.020995254280258915, 'SEK': 0.004721951528692194, 'MXN': 0.00462687867912121, 'NZD': 0.0038953459199222514, 'DKK': 0.0029815901990455744, 'CHF': 0.0020282207908476537, 'NOK': 0.0019067388163958412, 'HKD': 0.0016320839176352214, 'SGD': 0.0014657064308859998, 'JPY': 0.00010563649952331529} \n",
      "\n",
      "\n",
      " deadline datetime64[ns]\n",
      "\n",
      " goal float64\n",
      "\n",
      " launched datetime64[ns]\n",
      "\n",
      " pledged float64\n",
      "\n",
      " state object\n",
      "{'failed': 0.5221506534937952, 'successful': 0.3537660732536306, 'canceled': 0.10241194537536609, 'undefined': 0.009406930282551226, 'live': 0.007391914054143988, 'suspended': 0.004872483540512918} \n",
      "\n",
      "\n",
      " backers int64\n",
      "\n",
      " country object\n",
      "{'US': 0.7727943759127653, 'GB': 0.08892216438623873, 'CA': 0.038969304674151016, 'AU': 0.020702112994081714, 'DE': 0.011015245987793703, 'N,0\"': 0.010027544717250704, 'FR': 0.007761641802475592, 'IT': 0.007600546140702535, 'NL': 0.007574137015821707, 'ES': 0.00601071682287664, 'SE': 0.004640083241561625, 'MX': 0.00462687867912121, 'NZ': 0.003821400370255931, 'DK': 0.0029393355992362482, 'IE': 0.0021417800278352175} \n",
      "\n",
      "\n",
      " usd_pledged_real float64\n",
      "\n",
      " usd_goal_real float64\n"
     ]
    }
   ],
   "source": [
    "#the categorical features and the contribution of the top 15 features to the data\n",
    "for i in df.columns:\n",
    "    print('\\n',i,df[i].dtype)\n",
    "    if df[i].dtype=='object' and i!='name':\n",
    "        #print('# of categories in',i,len(df[i].unique()),'\\n',df[i].unique())\n",
    "        p={e:(df[i]==e).sum()/len(df) for e in df[i].unique()}\n",
    "        p_sorted={k: v for k, v in sorted(p.items(), key=lambda item: item[1],reverse=True)}\n",
    "        print({x:p_sorted[x] for c,x in enumerate(p_sorted) if c<15 },'\\n')"
   ]
  },
  {
   "cell_type": "code",
   "execution_count": 17,
   "metadata": {},
   "outputs": [
    {
     "name": "stdout",
     "output_type": "stream",
     "text": [
      "{'failed': 0.5221506534937952, 'successful': 0.3537660732536306, 'canceled': 0.10241194537536609, 'undefined': 0.009406930282551226, 'live': 0.007391914054143988, 'suspended': 0.004872483540512918}\n"
     ]
    }
   ],
   "source": [
    "state_p={i:(df.state==i).sum()/len(df) for i in df.state.unique()}\n",
    "state_p_sorted={k: v for k, v in sorted(state_p.items(), key=lambda item: item[1],reverse=True)}\n",
    "\n",
    "print(state_p_sorted)"
   ]
  },
  {
   "cell_type": "markdown",
   "metadata": {},
   "source": [
    "https://www.kaggle.com/kemical/kickstarter-projects/discussion/67067\n",
    "This user hinted that there are successful project without backers\n",
    "We will remove them"
   ]
  },
  {
   "cell_type": "code",
   "execution_count": 18,
   "metadata": {},
   "outputs": [
    {
     "name": "stdout",
     "output_type": "stream",
     "text": [
      "0 backers and succeeded: 105\n"
     ]
    }
   ],
   "source": [
    "print('0 backers and succeeded:',((df.backers==0)&(df.state=='successful')).sum())\n",
    "df[(df.backers==0)&(df.state=='successful')].country.unique()\n",
    "df=df[~((df.backers==0)&(df.state=='successful'))]"
   ]
  },
  {
   "cell_type": "code",
   "execution_count": 19,
   "metadata": {},
   "outputs": [
    {
     "name": "stdout",
     "output_type": "stream",
     "text": [
      "0 backers and money invested: 2977\n"
     ]
    },
    {
     "data": {
      "text/plain": [
       "0.11740398056313653"
      ]
     },
     "execution_count": 19,
     "metadata": {},
     "output_type": "execute_result"
    }
   ],
   "source": [
    "print('0 backers and money invested:',((df.backers==0)&(df.pledged>0)).sum())\n",
    "df=df[~((df.backers==0)&(df.pledged>0))]\n",
    "len(df[~((df.state=='successful')|(df.state=='failed'))])/len(df)"
   ]
  },
  {
   "cell_type": "code",
   "execution_count": 20,
   "metadata": {},
   "outputs": [
    {
     "name": "stdout",
     "output_type": "stream",
     "text": [
      "failed and goal reached: 4\n"
     ]
    }
   ],
   "source": [
    "print('failed and goal reached:',((df.state=='failed')&(df.usd_goal_real<df.usd_pledged_real)).sum())\n",
    "df=df[~((df.state=='failed')&(df.usd_goal_real<df.usd_pledged_real))]"
   ]
  },
  {
   "cell_type": "code",
   "execution_count": 21,
   "metadata": {},
   "outputs": [
    {
     "data": {
      "text/plain": [
       "<matplotlib.axes._subplots.AxesSubplot at 0x1c4095a6208>"
      ]
     },
     "execution_count": 21,
     "metadata": {},
     "output_type": "execute_result"
    },
    {
     "data": {
      "image/png": "[encoded data removed]",
      "text/plain": [
       "<Figure size 432x288 with 1 Axes>"
      ]
     },
     "metadata": {
      "needs_background": "light"
     },
     "output_type": "display_data"
    },
    {
     "data": {
      "image/png": "[encoded data removed]",
      "text/plain": [
       "<Figure size 432x288 with 1 Axes>"
      ]
     },
     "metadata": {
      "needs_background": "light"
     },
     "output_type": "display_data"
    }
   ],
   "source": [
    "df.backers.hist(bins=range(200))\n",
    "df[['usd_pledged_real','backers']].plot.scatter(x='usd_pledged_real',y='backers')"
   ]
  },
  {
   "cell_type": "markdown",
   "metadata": {},
   "source": [
    "# PCA"
   ]
  },
  {
   "cell_type": "code",
   "execution_count": 22,
   "metadata": {},
   "outputs": [],
   "source": [
    "#translating date \n",
    "for i in ['launched','deadline']:\n",
    "    df[i+'_month']=pd.DatetimeIndex(df.launched).month\n",
    "    df[i+'_week']=pd.DatetimeIndex(df.launched).week\n",
    "    df[i+'_day']=pd.DatetimeIndex(df.launched).day\n",
    "    df[i+'_weekday']=pd.DatetimeIndex(df.launched).weekday\n",
    "df['timeframe']=(df.deadline-df.launched).astype('timedelta64[h]')/24\n"
   ]
  },
  {
   "cell_type": "code",
   "execution_count": 23,
   "metadata": {},
   "outputs": [],
   "source": [
    "df_pca=pd.get_dummies(df.drop(columns=['name','ID','deadline','launched','goal','usd_pledged_real','pledged','backers']),columns=['category','launched_month', 'launched_week', 'launched_day',\n",
    "       'launched_weekday', 'deadline_month', 'deadline_week', 'deadline_day', 'deadline_weekday' ,'main_category', 'currency','country'])\n",
    "df_pca=df_pca[(df_pca['state']=='failed')|(df_pca['state']=='successful')]"
   ]
  },
  {
   "cell_type": "code",
   "execution_count": null,
   "metadata": {},
   "outputs": [],
   "source": []
  },
  {
   "cell_type": "code",
   "execution_count": 24,
   "metadata": {},
   "outputs": [],
   "source": [
    "#Useful for later classification\n",
    "mappings={}\n",
    "from sklearn.preprocessing import LabelEncoder\n",
    "\n",
    "categorical=['category', 'main_category', 'currency','state','country']\n",
    "\n",
    "def cat_to_int(df,cats,mappings):\n",
    "    for i in cats:\n",
    "        le = LabelEncoder()\n",
    "        df[i+'_int']=le.fit_transform(df[i])+1\n",
    "        le.fit(df[i])\n",
    "        mappings[i] = dict(zip(le.classes_, le.transform(le.classes_)+1))\n",
    "        df.drop(columns=[i],inplace=True)\n",
    "\n",
    "    return df , mappings"
   ]
  },
  {
   "cell_type": "code",
   "execution_count": 25,
   "metadata": {},
   "outputs": [],
   "source": [
    "mappings_pca={}\n",
    "\n",
    "df_pca,mappings_pca=cat_to_int(df_pca,['state'],mappings_pca)"
   ]
  },
  {
   "cell_type": "code",
   "execution_count": 26,
   "metadata": {},
   "outputs": [
    {
     "data": {
      "text/plain": [
       "{'state': {'failed': 1, 'successful': 2}}"
      ]
     },
     "execution_count": 26,
     "metadata": {},
     "output_type": "execute_result"
    }
   ],
   "source": [
    "mappings_pca"
   ]
  },
  {
   "cell_type": "code",
   "execution_count": 27,
   "metadata": {},
   "outputs": [],
   "source": [
    "from scipy.linalg import svd\n",
    "df_pca_s=df_pca[df_pca['state_int']==2]\n",
    "df_pca_f=df_pca[df_pca['state_int']==1]\n",
    "\n",
    "attributeNames=list(df_pca.columns)\n",
    "\n",
    "y=df_pca.state_int\n",
    "\n",
    "\n",
    "N=len(df_pca)\n",
    "X=df_pca.drop(columns='state_int').values\n",
    "#Y = X - np.ones((N,1))*X.mean(axis=0)\n",
    "\n",
    "from sklearn import preprocessing\n",
    "\n",
    "x = X #returns a numpy array\n",
    "min_max_scaler = preprocessing.MinMaxScaler()\n",
    "x_scaled = min_max_scaler.fit_transform(x)\n",
    "df_pca=pd.DataFrame(x_scaled, columns=df_pca.drop(columns='state_int').columns)\n",
    "\n",
    "#%%\n",
    "# PCA by computing SVD of Y\n",
    "U,S,V = svd(x_scaled,full_matrices=False)\n",
    "Z = x_scaled @ V\n"
   ]
  },
  {
   "cell_type": "code",
   "execution_count": 28,
   "metadata": {},
   "outputs": [
    {
     "data": {
      "image/png": "[encoded data removed]",
      "text/plain": [
       "<Figure size 432x288 with 1 Axes>"
      ]
     },
     "metadata": {
      "needs_background": "light"
     },
     "output_type": "display_data"
    }
   ],
   "source": [
    "rho = (S*S) / (S*S).sum() \n",
    "\n",
    "threshold = 0.9\n",
    "\n",
    "# Plot variance explained\n",
    "plt.figure()\n",
    "plt.plot(range(1,len(rho)+1),rho,'x-')\n",
    "plt.plot(range(1,len(rho)+1),np.cumsum(rho),'o-')\n",
    "plt.plot([1,len(rho)],[threshold, threshold],'k--')\n",
    "plt.title('Variance explained by principal components');\n",
    "plt.xlabel('Principal component');\n",
    "plt.ylabel('Variance explained');\n",
    "plt.legend(['Individual','Cumulative','Threshold'])\n",
    "plt.grid()\n",
    "plt.show()"
   ]
  },
  {
   "cell_type": "code",
   "execution_count": 29,
   "metadata": {},
   "outputs": [
    {
     "name": "stderr",
     "output_type": "stream",
     "text": [
      "C:\\Users\\1\\Anaconda3\\lib\\site-packages\\IPython\\core\\pylabtools.py:128: UserWarning: Creating legend with loc=\"best\" can be slow with large amounts of data.\n",
      "  fig.canvas.print_figure(bytes_io, **kw)\n"
     ]
    },
    {
     "data": {
      "image/png": "[encoded data removed]",
      "text/plain": [
       "<Figure size 432x288 with 1 Axes>"
      ]
     },
     "metadata": {
      "needs_background": "light"
     },
     "output_type": "display_data"
    }
   ],
   "source": [
    "from matplotlib.pyplot import figure, plot, title, xlabel, ylabel, show, legend\n",
    "\n",
    "\n",
    "i = 0\n",
    "j = 1\n",
    "classNames=[i for i in mappings_pca['state']]\n",
    "C = len(classNames)\n",
    "\n",
    "# Plot PCA of the data\n",
    "f = figure()\n",
    "title('NanoNose data: PCA')\n",
    "#Z = array(Z)\n",
    "for c in range(C):\n",
    "    # select indices belonging to class c:\n",
    "    class_mask = y==c+1\n",
    "    plot(Z[class_mask,i], Z[class_mask,j], 'o', alpha=.5)\n",
    "legend(classNames)\n",
    "xlabel('PC{0}'.format(i+1))\n",
    "ylabel('PC{0}'.format(j+1))\n",
    "\n",
    "# Output result to screen\n",
    "show()"
   ]
  },
  {
   "cell_type": "code",
   "execution_count": 30,
   "metadata": {},
   "outputs": [
    {
     "data": {
      "text/plain": [
       "<matplotlib.axes._subplots.AxesSubplot at 0x1c409a85fc8>"
      ]
     },
     "execution_count": 30,
     "metadata": {},
     "output_type": "execute_result"
    },
    {
     "data": {
      "image/png": "[encoded data removed]",
      "text/plain": [
       "<Figure size 432x288 with 1 Axes>"
      ]
     },
     "metadata": {
      "needs_background": "light"
     },
     "output_type": "display_data"
    }
   ],
   "source": [
    "df[df.usd_pledged_real==df.usd_pledged_real.max()]\n",
    "df.usd_pledged_real.hist(bins=50)"
   ]
  },
  {
   "cell_type": "code",
   "execution_count": 31,
   "metadata": {},
   "outputs": [
    {
     "data": {
      "image/png": "[encoded data removed]",
      "text/plain": [
       "<Figure size 720x1080 with 6 Axes>"
      ]
     },
     "metadata": {
      "needs_background": "light"
     },
     "output_type": "display_data"
    }
   ],
   "source": [
    "\n",
    "Y1 = X - np.ones((N, 1))*X.mean(0)\n",
    "\n",
    "# Subtract the mean from the data and divide by the attribute standard\n",
    "# deviation to obtain a standardized dataset:\n",
    "Y2 = X - np.ones((N, 1))*X.mean(0)\n",
    "#Y2 = Y2*(1/np.std(Y2,0))\n",
    "Y2=x_scaled\n",
    "\n",
    "Ys = [Y1, Y2]\n",
    "titles = ['Zero-mean', 'Zero-mean and unit variance']\n",
    "threshold = 0.9\n",
    "# Choose two PCs to plot (the projection)\n",
    "i = 0\n",
    "j = 1\n",
    "\n",
    "# Make the plot\n",
    "plt.figure(figsize=(10,15))\n",
    "plt.subplots_adjust(hspace=.4)\n",
    "plt.title('NanoNose: Effect of standardization')\n",
    "nrows=3\n",
    "ncols=2\n",
    "\n",
    "\n",
    "for k in range(2):\n",
    "    # Obtain the PCA solution by calculate the SVD of either Y1 or Y2\n",
    "    U,S,Vh = svd(Ys[k],full_matrices=False)\n",
    "    V=Vh.T # For the direction of V to fit the convention in the course we transpose\n",
    "    # For visualization purposes, we flip the directionality of the\n",
    "    # principal directions such that the directions match for Y1 and Y2.\n",
    "    if k==1: V = -V; U = -U; \n",
    "    \n",
    "    # Compute variance explained\n",
    "    rho = (S*S) / (S*S).sum() \n",
    "    \n",
    "    # Compute the projection onto the principal components\n",
    "    Z = U*S;\n",
    "    \n",
    "    # Plot projection\n",
    "    plt.subplot(nrows, ncols, 1+k)\n",
    "    C = len(classNames)\n",
    "    for c in range(C):\n",
    "        plt.plot(Z[y==c,i], Z[y==c,j], '.', alpha=.5)\n",
    "    plt.xlabel('PC'+str(i+1))\n",
    "    plt.ylabel('PC'+str(j+1))\n",
    "    plt.title(titles[k] + '\\n' + 'Projection' )\n",
    "    plt.legend(classNames)\n",
    "    plt.axis('equal')\n",
    "    \n",
    "    # Plot attribute coefficients in principal component space\n",
    "    plt.subplot(nrows, ncols,  3+k)\n",
    "    for att in range(V.shape[1]):\n",
    "        plt.arrow(0,0, V[att,i], V[att,j])\n",
    "        plt.text(V[att,i], V[att,j], attributeNames[att])\n",
    "    plt.xlim([-1,1])\n",
    "    plt.ylim([-1,1])\n",
    "    plt.xlabel('PC'+str(i+1))\n",
    "    plt.ylabel('PC'+str(j+1))\n",
    "    plt.grid()\n",
    "    # Add a unit circle\n",
    "    plt.plot(np.cos(np.arange(0, 2*np.pi, 0.01)), \n",
    "         np.sin(np.arange(0, 2*np.pi, 0.01)));\n",
    "    plt.title(titles[k] +'\\n'+'Attribute coefficients')\n",
    "    plt.axis('equal')\n",
    "            \n",
    "    # Plot cumulative variance explained\n",
    "    plt.subplot(nrows, ncols,  5+k);\n",
    "    plt.plot(range(1,len(rho)+1),rho,'x-')\n",
    "    plt.plot(range(1,len(rho)+1),np.cumsum(rho),'o-')\n",
    "    plt.plot([1,len(rho)],[threshold, threshold],'k--')\n",
    "    plt.title('Variance explained by principal components');\n",
    "    plt.xlabel('Principal component');\n",
    "    plt.ylabel('Variance explained');\n",
    "    plt.legend(['Individual','Cumulative','Threshold'])\n",
    "    plt.grid()\n",
    "    plt.title(titles[k]+'\\n'+'Variance explained')\n",
    "\n",
    "plt.show()"
   ]
  },
  {
   "cell_type": "code",
   "execution_count": 32,
   "metadata": {},
   "outputs": [
    {
     "data": {
      "text/plain": [
       "array([1.89890353e-01, 3.22885432e-02, 2.84709411e-02, 2.65374204e-02,\n",
       "       2.58326381e-02, 2.12199876e-02, 1.91611132e-02, 1.79287553e-02,\n",
       "       1.76708334e-02, 1.73531895e-02, 1.72182788e-02, 1.71071543e-02,\n",
       "       1.70821394e-02, 1.65551965e-02, 1.62053212e-02, 1.53749344e-02,\n",
       "       1.49171208e-02, 1.47618332e-02, 1.19639995e-02, 1.15216669e-02,\n",
       "       1.03631247e-02, 9.77854735e-03, 9.58080045e-03, 8.47135342e-03,\n",
       "       8.42846147e-03, 8.24273272e-03, 7.99477982e-03, 7.28443708e-03,\n",
       "       7.17181678e-03, 7.07479333e-03, 6.65506316e-03, 6.46360193e-03,\n",
       "       6.30475281e-03, 5.81366166e-03, 5.77788581e-03, 5.66966367e-03,\n",
       "       5.63171481e-03, 5.61974100e-03, 5.56721070e-03, 5.55824032e-03,\n",
       "       5.50473072e-03, 5.46750492e-03, 5.43972524e-03, 5.43353452e-03,\n",
       "       5.39954361e-03, 5.39441718e-03, 5.38109212e-03, 5.37517933e-03,\n",
       "       5.35838283e-03, 5.34404777e-03, 5.21840160e-03, 5.11994274e-03,\n",
       "       5.04432847e-03, 5.02728517e-03, 4.94800919e-03, 4.92279604e-03,\n",
       "       4.83195141e-03, 4.73491541e-03, 4.09466777e-03, 3.92050925e-03,\n",
       "       3.87303608e-03, 3.56270295e-03, 3.53416431e-03, 3.50230513e-03,\n",
       "       3.47291852e-03, 3.46109909e-03, 3.43107758e-03, 3.42356961e-03,\n",
       "       3.40420814e-03, 3.34396077e-03, 3.33752987e-03, 3.32644626e-03,\n",
       "       3.29799987e-03, 3.29237312e-03, 3.27441602e-03, 3.27078691e-03,\n",
       "       3.26233085e-03, 3.25321395e-03, 3.25031379e-03, 3.23815178e-03,\n",
       "       3.23209396e-03, 3.21531047e-03, 3.21191977e-03, 3.20623837e-03,\n",
       "       3.18739560e-03, 3.15809503e-03, 3.14062859e-03, 3.11439904e-03,\n",
       "       3.09065075e-03, 3.07330670e-03, 3.01880942e-03, 2.97794176e-03,\n",
       "       2.94206697e-03, 2.88883017e-03, 2.74681137e-03, 2.71913758e-03,\n",
       "       2.64257807e-03, 2.57338754e-03, 2.49976675e-03, 2.46778224e-03,\n",
       "       2.41931701e-03, 2.32123444e-03, 2.15691176e-03, 1.93324112e-03,\n",
       "       1.83453699e-03, 1.79756205e-03, 1.68297943e-03, 1.66210944e-03,\n",
       "       1.59995630e-03, 1.53145349e-03, 1.49354613e-03, 1.45010909e-03,\n",
       "       1.43633395e-03, 1.40857010e-03, 1.38937566e-03, 1.36850759e-03,\n",
       "       1.36227966e-03, 1.34461810e-03, 1.33956024e-03, 1.20168786e-03,\n",
       "       1.17887863e-03, 1.05486869e-03, 9.68048870e-04, 9.47489254e-04,\n",
       "       9.39968880e-04, 8.68951395e-04, 8.54806598e-04, 8.17598170e-04,\n",
       "       8.00203922e-04, 7.77213140e-04, 7.40785107e-04, 7.27821279e-04,\n",
       "       7.22711636e-04, 7.19091051e-04, 7.10334468e-04, 6.99255517e-04,\n",
       "       6.57736218e-04, 6.54213280e-04, 6.48167369e-04, 6.35652121e-04,\n",
       "       6.14315878e-04, 6.06630570e-04, 6.00395726e-04, 5.92316516e-04,\n",
       "       5.84946347e-04, 5.78990955e-04, 5.76770109e-04, 5.62456359e-04,\n",
       "       5.57742064e-04, 5.52989038e-04, 5.36324760e-04, 5.29231234e-04,\n",
       "       5.26380547e-04, 5.24401738e-04, 5.08363086e-04, 4.92282396e-04,\n",
       "       4.89997444e-04, 4.87316857e-04, 4.85977999e-04, 4.81210415e-04,\n",
       "       4.75906318e-04, 4.64359305e-04, 4.43519172e-04, 4.34164018e-04,\n",
       "       4.32048309e-04, 4.07195324e-04, 3.96864304e-04, 3.96054688e-04,\n",
       "       3.65394596e-04, 3.58087238e-04, 3.51396691e-04, 3.47983887e-04,\n",
       "       3.19445392e-04, 3.15439914e-04, 3.13886106e-04, 3.07586340e-04,\n",
       "       3.00700528e-04, 2.96035188e-04, 2.92684320e-04, 2.87647526e-04,\n",
       "       2.67288262e-04, 2.66390762e-04, 2.57520948e-04, 2.57413301e-04,\n",
       "       2.48598566e-04, 2.46695690e-04, 2.44039069e-04, 2.40490094e-04,\n",
       "       2.39097669e-04, 2.37433227e-04, 2.30282286e-04, 2.29395321e-04,\n",
       "       2.25201369e-04, 2.15800017e-04, 2.06610269e-04, 2.06311388e-04,\n",
       "       2.02531390e-04, 2.02097598e-04, 2.01363172e-04, 2.00608113e-04,\n",
       "       1.98372760e-04, 1.95650601e-04, 1.88507677e-04, 1.86113317e-04,\n",
       "       1.83506239e-04, 1.81312943e-04, 1.71202222e-04, 1.67456982e-04,\n",
       "       1.66823493e-04, 1.63828361e-04, 1.60806065e-04, 1.57137037e-04,\n",
       "       1.54712308e-04, 1.47014698e-04, 1.44037752e-04, 1.38825073e-04,\n",
       "       1.32170962e-04, 1.31548600e-04, 1.27803899e-04, 1.27662932e-04,\n",
       "       1.24967431e-04, 1.23885349e-04, 1.19600266e-04, 1.18750290e-04,\n",
       "       1.16478911e-04, 1.14280345e-04, 1.08546621e-04, 1.01827132e-04,\n",
       "       1.00066788e-04, 9.82361111e-05, 9.68907924e-05, 9.26421417e-05,\n",
       "       9.05700931e-05, 8.73330769e-05, 8.28687330e-05, 8.11233251e-05,\n",
       "       7.65049224e-05, 7.56809794e-05, 7.43076328e-05, 7.35687819e-05,\n",
       "       7.30727487e-05, 7.17137709e-05, 7.15498667e-05, 7.15219569e-05,\n",
       "       6.51441840e-05, 6.47717586e-05, 6.41957545e-05, 6.26203952e-05,\n",
       "       6.19761337e-05, 5.95414889e-05, 5.80919364e-05, 5.39058969e-05,\n",
       "       5.29841177e-05, 5.25519116e-05, 5.25043465e-05, 5.16224560e-05,\n",
       "       4.77926384e-05, 4.76922751e-05, 4.54130206e-05, 4.33624097e-05,\n",
       "       4.22090697e-05, 3.87796744e-05, 3.61621215e-05, 3.60579085e-05,\n",
       "       3.22872942e-05, 3.21334231e-05, 3.14660654e-05, 3.03203278e-05,\n",
       "       2.97662211e-05, 2.76302360e-05, 2.69325463e-05, 2.65979631e-05,\n",
       "       2.29798884e-05, 2.12569206e-05, 2.09000618e-05, 1.90544993e-05,\n",
       "       1.64262887e-05, 1.56559833e-05, 1.20829799e-05, 1.17725924e-05,\n",
       "       8.62876431e-06, 7.64915996e-06, 6.82115446e-06, 5.11176990e-06,\n",
       "       3.64229772e-06, 3.55617996e-06, 2.65066718e-06, 2.39926606e-06,\n",
       "       6.53237059e-07, 2.87428518e-07, 2.48130785e-07, 1.65263111e-07,\n",
       "       1.34340816e-07, 1.11202052e-07, 4.07079938e-32, 2.71352771e-32,\n",
       "       2.68556586e-32, 2.12521434e-32, 1.85911832e-32, 1.39561568e-32,\n",
       "       1.31236197e-32, 1.01430562e-32, 9.64966567e-33, 9.30148800e-33,\n",
       "       8.35039963e-33, 8.08720287e-33, 6.99028999e-33, 6.96640776e-33,\n",
       "       6.80700856e-33, 5.45876917e-33, 5.36874227e-33, 4.53407839e-33,\n",
       "       3.86166018e-33, 2.98046069e-33, 2.67305107e-33, 2.33141196e-33,\n",
       "       2.30719174e-33, 1.89889058e-33, 1.88851344e-33, 1.79405446e-33,\n",
       "       1.79405446e-33, 1.79405446e-33, 1.79405446e-33, 1.79405446e-33,\n",
       "       1.79405446e-33, 1.79405446e-33, 1.79405446e-33, 1.79405446e-33,\n",
       "       1.79405446e-33, 1.79405446e-33, 1.79405446e-33, 1.79405446e-33,\n",
       "       1.79405446e-33, 1.79405446e-33, 1.79405446e-33, 1.79405446e-33,\n",
       "       1.79405446e-33, 1.79405446e-33, 1.79405446e-33, 1.79405446e-33,\n",
       "       1.79405446e-33, 1.79405446e-33, 1.79405446e-33, 1.79405446e-33,\n",
       "       1.79405446e-33, 1.79405446e-33, 1.79405446e-33, 1.79405446e-33,\n",
       "       1.79405446e-33, 1.79405446e-33, 1.79405446e-33, 1.79405446e-33,\n",
       "       1.79405446e-33, 1.79405446e-33, 1.79405446e-33, 1.79405446e-33,\n",
       "       1.79405446e-33, 1.79405446e-33, 1.79405446e-33, 1.79405446e-33,\n",
       "       1.79405446e-33, 1.79405446e-33, 1.79405446e-33, 1.79405446e-33,\n",
       "       1.79405446e-33, 1.79405446e-33, 1.79405446e-33, 1.79405446e-33,\n",
       "       1.79405446e-33, 1.79405446e-33, 1.79405446e-33, 1.79405446e-33,\n",
       "       1.79405446e-33, 1.79405446e-33, 1.79405446e-33, 1.79405446e-33,\n",
       "       1.79405446e-33, 1.79405446e-33, 1.79405446e-33, 1.79405446e-33,\n",
       "       1.79405446e-33, 1.79405446e-33, 1.79405446e-33, 1.79405446e-33,\n",
       "       1.79405446e-33, 1.79405446e-33, 1.79405446e-33, 1.79405446e-33,\n",
       "       1.79405446e-33, 1.79405446e-33, 1.79405446e-33, 1.79405446e-33,\n",
       "       1.79405446e-33, 1.79405446e-33, 1.79405446e-33, 1.79405446e-33,\n",
       "       1.79405446e-33, 1.79405446e-33, 1.79405446e-33, 1.79405446e-33,\n",
       "       1.79405446e-33, 1.79405446e-33, 1.79405446e-33, 1.79405446e-33,\n",
       "       1.79405446e-33, 1.79405446e-33, 1.79405446e-33, 1.79405446e-33,\n",
       "       1.79405446e-33, 1.79405446e-33, 1.71374506e-33, 1.37479785e-33,\n",
       "       9.09516105e-34, 8.22350102e-34, 6.96689742e-34, 3.67239936e-34,\n",
       "       3.38598246e-34, 1.34218594e-34, 1.03915254e-34])"
      ]
     },
     "execution_count": 32,
     "metadata": {},
     "output_type": "execute_result"
    }
   ],
   "source": [
    "rho\n"
   ]
  },
  {
   "cell_type": "code",
   "execution_count": 33,
   "metadata": {},
   "outputs": [
    {
     "data": {
      "text/plain": [
       "'from sklearn.neighbors import KNeighborsClassifier\\nfrom sklearn.model_selection import train_test_split\\n\\nX_train, X_test, y_train, y_test = train_test_split(x_scaled, y, test_size=0.5, random_state=0)\\nmodel = KNeighborsClassifier(n_neighbors=2)\\n\\ny_pred = model.fit(X_train, y_train).predict(X_test)\\n\\nprint(\"Number of mislabeled points out of a total %d points : %d\"\\n      % (X_test.shape[0], (y_test != y_pred).sum()))\\n\\n\\n\\n'"
      ]
     },
     "execution_count": 33,
     "metadata": {},
     "output_type": "execute_result"
    }
   ],
   "source": [
    "'''from sklearn.neighbors import KNeighborsClassifier\n",
    "from sklearn.model_selection import train_test_split\n",
    "\n",
    "X_train, X_test, y_train, y_test = train_test_split(x_scaled, y, test_size=0.5, random_state=0)\n",
    "model = KNeighborsClassifier(n_neighbors=2)\n",
    "\n",
    "y_pred = model.fit(X_train, y_train).predict(X_test)\n",
    "\n",
    "print(\"Number of mislabeled points out of a total %d points : %d\"\n",
    "      % (X_test.shape[0], (y_test != y_pred).sum()))\n",
    "\n",
    "\n",
    "\n",
    "'''"
   ]
  },
  {
   "cell_type": "code",
   "execution_count": 34,
   "metadata": {},
   "outputs": [
    {
     "data": {
      "text/plain": [
       "'from sklearn.ensemble import ExtraTreesClassifier\\nimport numpy as np\\nimport matplotlib.pyplot as plt\\nfrom skprog.wrappers import TreesProgressor\\n\\ny=df_pca.state_int\\nX=df_pca.drop(columns=[\\'state_int\\',\\'pledged\\', \\'backers\\', \\'usd_pledged_real\\',])\\nforest = TreesProgressor(ExtraTreesClassifier(n_estimators=250,\\n                              random_state=0))\\n\\n\\nforest.fit(X, y)\\n\\nimportances = forest.clf.feature_importances_\\nstd = np.std([importances for tree in forest.clf.estimators_],\\n             axis=0)\\nindices = np.argsort(importances)[::-1]\\n\\n# Print the feature ranking\\nprint(\"Feature ranking:\")\\n\\nfor f in range(X.shape[1]):\\n    print(\"%d. feature %d (%f)\" % (f + 1, indices[f], importances[indices[f]]),(X.columns.tolist())[indices[f]])\\n\\n# Plot the feature importances of the forest\\nplt.figure()\\nplt.title(\"Feature importances\")\\nplt.bar(range(X.shape[1]), importances[indices],\\n       color=\"r\", yerr=std[indices], align=\"center\")\\nplt.xticks(range(X.shape[1]), indices)\\nplt.xlim([-1, X.shape[1]])\\nplt.show()'"
      ]
     },
     "execution_count": 34,
     "metadata": {},
     "output_type": "execute_result"
    }
   ],
   "source": [
    "'''from sklearn.ensemble import ExtraTreesClassifier\n",
    "import numpy as np\n",
    "import matplotlib.pyplot as plt\n",
    "from skprog.wrappers import TreesProgressor\n",
    "\n",
    "y=df_pca.state_int\n",
    "X=df_pca.drop(columns=['state_int','pledged', 'backers', 'usd_pledged_real',])\n",
    "forest = TreesProgressor(ExtraTreesClassifier(n_estimators=250,\n",
    "                              random_state=0))\n",
    "\n",
    "\n",
    "forest.fit(X, y)\n",
    "\n",
    "importances = forest.clf.feature_importances_\n",
    "std = np.std([importances for tree in forest.clf.estimators_],\n",
    "             axis=0)\n",
    "indices = np.argsort(importances)[::-1]\n",
    "\n",
    "# Print the feature ranking\n",
    "print(\"Feature ranking:\")\n",
    "\n",
    "for f in range(X.shape[1]):\n",
    "    print(\"%d. feature %d (%f)\" % (f + 1, indices[f], importances[indices[f]]),(X.columns.tolist())[indices[f]])\n",
    "\n",
    "# Plot the feature importances of the forest\n",
    "plt.figure()\n",
    "plt.title(\"Feature importances\")\n",
    "plt.bar(range(X.shape[1]), importances[indices],\n",
    "       color=\"r\", yerr=std[indices], align=\"center\")\n",
    "plt.xticks(range(X.shape[1]), indices)\n",
    "plt.xlim([-1, X.shape[1]])\n",
    "plt.show()'''"
   ]
  }
 ],
 "metadata": {
  "kernelspec": {
   "display_name": "Python 3",
   "language": "python",
   "name": "python3"
  },
  "language_info": {
   "codemirror_mode": {
    "name": "ipython",
    "version": 3
   },
   "file_extension": ".py",
   "mimetype": "text/x-python",
   "name": "python",
   "nbconvert_exporter": "python",
   "pygments_lexer": "ipython3",
   "version": "3.7.4"
  }
 },
 "nbformat": 4,
 "nbformat_minor": 2
}
