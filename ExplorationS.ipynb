{
 "cells": [
  {
   "cell_type": "markdown",
   "metadata": {},
   "source": [
    "# Data Loading"
   ]
  },
  {
   "cell_type": "code",
   "execution_count": null,
   "metadata": {},
   "outputs": [],
   "source": []
  },
  {
   "cell_type": "code",
   "execution_count": 29,
   "metadata": {},
   "outputs": [],
   "source": [
    "import pandas as pd\n",
    "#import janitor\n",
    "import numpy as np\n",
    "import matplotlib.pyplot as plt\n",
    "from sklearn.feature_extraction.text import CountVectorizer\n",
    "from nltk.stem.porter import PorterStemmer\n",
    "\n",
    "\n",
    "%matplotlib inline"
   ]
  },
  {
   "cell_type": "code",
   "execution_count": 30,
   "metadata": {},
   "outputs": [],
   "source": [
    "# -*- coding: utf-8 -*-\n",
    "'''\n",
    "a=pd.read_csv('ks-projects-201612.csv',encoding = \"ISO-8859-1\")\n",
    "#remove empty columns\n",
    "a_drop=[i for i in a.columns if 'Unnamed' in i]\n",
    "a.drop(a_drop,axis=1,inplace=True)\n",
    "'''\n",
    "df=pd.read_csv('ks-projects-201801.csv',encoding = \"ISO-8859-1\")\n",
    "#b.drop(['usd_pledged_real', 'usd_goal_real'],axis=1,inplace=True)\n",
    "#%%\n"
   ]
  },
  {
   "cell_type": "code",
   "execution_count": 31,
   "metadata": {},
   "outputs": [
    {
     "name": "stdout",
     "output_type": "stream",
     "text": [
      "Index(['ID', 'name', 'category', 'main_category', 'currency', 'deadline',\n",
      "       'goal', 'launched', 'pledged', 'state', 'backers', 'country',\n",
      "       'usd pledged', 'usd_pledged_real', 'usd_goal_real'],\n",
      "      dtype='object')\n"
     ]
    }
   ],
   "source": [
    "print(df.columns)\n",
    "df.rename(columns={'usd pledged':'usd_pledged'},inplace=True)"
   ]
  },
  {
   "cell_type": "markdown",
   "metadata": {},
   "source": [
    "### data analysis + cleaning"
   ]
  },
  {
   "cell_type": "code",
   "execution_count": 32,
   "metadata": {},
   "outputs": [
    {
     "data": {
      "text/plain": [
       "ID                     0\n",
       "name                   4\n",
       "category               0\n",
       "main_category          0\n",
       "currency               0\n",
       "deadline               0\n",
       "goal                   0\n",
       "launched               0\n",
       "pledged                0\n",
       "state                  0\n",
       "backers                0\n",
       "country                0\n",
       "usd_pledged         3797\n",
       "usd_pledged_real       0\n",
       "usd_goal_real          0\n",
       "dtype: int64"
      ]
     },
     "execution_count": 32,
     "metadata": {},
     "output_type": "execute_result"
    }
   ],
   "source": [
    "#look for NaN\n",
    "df.isna().sum()"
   ]
  },
  {
   "cell_type": "markdown",
   "metadata": {},
   "source": [
    "I suggest dropping the projects that do not have a name tag."
   ]
  },
  {
   "cell_type": "code",
   "execution_count": 33,
   "metadata": {},
   "outputs": [
    {
     "data": {
      "text/plain": [
       "ID                     0\n",
       "name                   0\n",
       "category               0\n",
       "main_category          0\n",
       "currency               0\n",
       "deadline               0\n",
       "goal                   0\n",
       "launched               0\n",
       "pledged                0\n",
       "state                  0\n",
       "backers                0\n",
       "country                0\n",
       "usd_pledged         3797\n",
       "usd_pledged_real       0\n",
       "usd_goal_real          0\n",
       "dtype: int64"
      ]
     },
     "execution_count": 33,
     "metadata": {},
     "output_type": "execute_result"
    }
   ],
   "source": [
    "df = df.dropna(subset=['name'])\n",
    "df.isna().sum()"
   ]
  },
  {
   "cell_type": "markdown",
   "metadata": {},
   "source": [
    "A few strange countrycodes ('N,0\"') appears to be in the data - removing these projects."
   ]
  },
  {
   "cell_type": "code",
   "execution_count": 34,
   "metadata": {},
   "outputs": [],
   "source": [
    "indexNames = df[df['country'] == 'N,0\"'].index\n",
    "df.drop(indexNames , inplace=True)"
   ]
  },
  {
   "cell_type": "markdown",
   "metadata": {},
   "source": [
    "As we can't do a document-term matrix of the 'name' attribute of the full dataset (appx. 380000 projects/rows) we reduce the dataset to appx. 1/6 of the total size and only look at success fails. We downscale the amount of success/fails equally, with regards to their total size"
   ]
  },
  {
   "cell_type": "code",
   "execution_count": 35,
   "metadata": {},
   "outputs": [
    {
     "name": "stdout",
     "output_type": "stream",
     "text": [
      "shape of successes before removal (133851, 15)\n",
      "shape of successes after removal (67221, 15)\n",
      "shape of fails before removal (197611, 15)\n",
      "shape of fails after removal (98537, 15)\n",
      "new downscaled df has shape (165758, 15)\n",
      "shape of successes before removal (133851, 15)\n",
      "shape of successes after removal (44610, 15)\n",
      "shape of fails before removal (197611, 15)\n",
      "shape of fails after removal (66067, 15)\n",
      "new downscaled df has shape (110677, 15)\n",
      "shape of successes before removal (133851, 15)\n",
      "shape of successes after removal (33614, 15)\n",
      "shape of fails before removal (197611, 15)\n",
      "shape of fails after removal (49216, 15)\n",
      "new downscaled df has shape (82830, 15)\n",
      "shape of successes before removal (133851, 15)\n",
      "shape of successes after removal (26818, 15)\n",
      "shape of fails before removal (197611, 15)\n",
      "shape of fails after removal (39424, 15)\n",
      "new downscaled df has shape (66242, 15)\n",
      "shape of successes before removal (133851, 15)\n",
      "shape of successes after removal (22358, 15)\n",
      "shape of fails before removal (197611, 15)\n",
      "shape of fails after removal (32989, 15)\n",
      "new downscaled df has shape (55347, 15)\n",
      "shape of successes before removal (133851, 15)\n",
      "shape of successes after removal (18983, 15)\n",
      "shape of fails before removal (197611, 15)\n",
      "shape of fails after removal (28284, 15)\n",
      "new downscaled df has shape (47267, 15)\n"
     ]
    },
    {
     "ename": "TypeError",
     "evalue": "cannot unpack non-iterable NoneType object",
     "output_type": "error",
     "traceback": [
      "\u001b[1;31m---------------------------------------------------------------------------\u001b[0m",
      "\u001b[1;31mTypeError\u001b[0m                                 Traceback (most recent call last)",
      "\u001b[1;32m<ipython-input-35-6fc51ca8fd37>\u001b[0m in \u001b[0;36m<module>\u001b[1;34m\u001b[0m\n\u001b[0;32m     30\u001b[0m         \u001b[0mdownsize\u001b[0m\u001b[1;33m(\u001b[0m\u001b[0mdf\u001b[0m\u001b[1;33m,\u001b[0m \u001b[0mnew_rate_of_removal\u001b[0m\u001b[1;33m)\u001b[0m\u001b[1;33m\u001b[0m\u001b[1;33m\u001b[0m\u001b[0m\n\u001b[0;32m     31\u001b[0m \u001b[1;33m\u001b[0m\u001b[0m\n\u001b[1;32m---> 32\u001b[1;33m \u001b[1;33m(\u001b[0m\u001b[0mdtm\u001b[0m\u001b[1;33m,\u001b[0m \u001b[0mrate\u001b[0m\u001b[1;33m)\u001b[0m \u001b[1;33m=\u001b[0m \u001b[0mdownsize\u001b[0m\u001b[1;33m(\u001b[0m\u001b[0mdf\u001b[0m\u001b[1;33m,\u001b[0m \u001b[1;36m2\u001b[0m\u001b[1;33m)\u001b[0m\u001b[1;33m\u001b[0m\u001b[1;33m\u001b[0m\u001b[0m\n\u001b[0m\u001b[0;32m     33\u001b[0m \u001b[0mprint\u001b[0m\u001b[1;33m(\u001b[0m\u001b[1;34m'removing every n\\'th row by'\u001b[0m\u001b[1;33m,\u001b[0m \u001b[0mrate\u001b[0m\u001b[1;33m)\u001b[0m\u001b[1;33m\u001b[0m\u001b[1;33m\u001b[0m\u001b[0m\n\u001b[0;32m     34\u001b[0m \u001b[0mprint\u001b[0m\u001b[1;33m(\u001b[0m\u001b[1;34m'head of dtm is'\u001b[0m\u001b[1;33m,\u001b[0m \u001b[0mdtm\u001b[0m\u001b[1;33m.\u001b[0m\u001b[0mhead\u001b[0m\u001b[1;33m(\u001b[0m\u001b[1;33m)\u001b[0m\u001b[1;33m)\u001b[0m\u001b[1;33m\u001b[0m\u001b[1;33m\u001b[0m\u001b[0m\n",
      "\u001b[1;31mTypeError\u001b[0m: cannot unpack non-iterable NoneType object"
     ]
    }
   ],
   "source": [
    "def downsize(df, rate_of_removal):\n",
    "\n",
    "    rate = rate_of_removal  \n",
    "\n",
    "    df_success = df[df['state'] == 'successful']\n",
    "    print('shape of successes before removal', df_success.shape)\n",
    "    df_success = df_success[df_success.index % rate == 0] \n",
    "    print('shape of successes after removal', df_success.shape)\n",
    "\n",
    "    df_fail = df[df['state'] == 'failed']\n",
    "    print('shape of fails before removal', df_fail.shape)\n",
    "    df_fail = df_fail[df_fail.index % rate == 0] \n",
    "    print('shape of fails after removal', df_fail.shape)\n",
    "\n",
    "    df_reduced = pd.concat([df_success, df_fail])\n",
    "    print('new downscaled df has shape', df_reduced.shape)\n",
    "\n",
    "    try:\n",
    "        with open('C:/Users/vinde/OneDrive/Dokumenter/DTU/02450/02450Toolbox_Python/Data/stopWords.txt', 'r') as f:\n",
    "            raw_file = f.read()\n",
    "        stopwords = raw_file.split('\\n')\n",
    "    \n",
    "        countvec = CountVectorizer(token_pattern=r'\\b[^\\d\\W]+\\b',\n",
    "                                     stop_words=stopwords)\n",
    "        countvec.fit_transform(df_reduced.name)\n",
    "        dtm = pd.DataFrame(countvec.fit_transform(df_reduced.name).toarray(), columns=countvec.get_feature_names())\n",
    "        return (dtm, rate)\n",
    "    except:\n",
    "        new_rate_of_removal = rate+1\n",
    "        downsize(df, new_rate_of_removal)\n",
    "\n",
    "(dtm, rate) = downsize(df, 2)\n",
    "print('removing every n\\'th row by', rate)\n",
    "print('head of dtm is', dtm.head())\n",
    "        "
   ]
  },
  {
   "cell_type": "code",
   "execution_count": null,
   "metadata": {},
   "outputs": [],
   "source": [
    "def downsize(df, rate_of_removal):\n",
    "\n",
    "    rate = rate_of_removal  \n",
    "\n",
    "    df_success = df[df['state'] == 'successful']\n",
    "    print('shape of successes before removal', df_success.shape)\n",
    "    df_success = df_success[df_success.index % rate == 0] \n",
    "    print('shape of successes after removal', df_success.shape)\n",
    "\n",
    "    df_fail = df[df['state'] == 'failed']\n",
    "    print('shape of fails before removal', df_fail.shape)\n",
    "    df_fail = df_fail[df_fail.index % rate == 0] \n",
    "    print('shape of fails after removal', df_fail.shape)\n",
    "\n",
    "    df_reduced = pd.concat([df_success, df_fail])\n",
    "    print('new downscaled df has shape', df_reduced.shape)\n",
    "\n",
    "    try:\n",
    "        with open('C:/Users/vinde/OneDrive/Dokumenter/DTU/02450/02450Toolbox_Python/Data/stopWords.txt', 'r') as f:\n",
    "            raw_file = f.read()\n",
    "        stopwords = raw_file.split('\\n')\n",
    "        #porter_stemmer = PorterStemmer()\n",
    "        countvec = CountVectorizer(token_pattern=r'\\b[^\\d\\W]+\\b',\n",
    "                                     stop_words=stopwords)# analyzer = porter_stemmer)\n",
    "        countvec.fit_transform(df_reduced.name)\n",
    "        dtm = pd.DataFrame(countvec.fit_transform(df_reduced.name).toarray(), columns=countvec.get_feature_names())\n",
    "        return (dtm, rate)\n",
    "    except:\n",
    "        print('error occured, provide larger rate of removal')\n",
    "\n",
    "(dtm, rate) = downsize(df, 10)\n",
    "print('removing every n\\'th row by', rate)\n",
    "print('head of dtm is', dtm.head())"
   ]
  },
  {
   "cell_type": "markdown",
   "metadata": {},
   "source": [
    "usd_pledged: conversion in US dollars of the pledged column (conversion done by kickstarter).\n",
    "usd pledge real: conversion in US dollars of the pledged column (conversion from Fixer.io API).\n",
    "usd goal real: conversion in US dollars of the goal column (conversion from Fixer.io API).\n",
    "\n",
    "In 3797 cases Kickstarter did not convert the currency successfully to USD (usd_pledged)\n",
    "Let us further investigate that issue."
   ]
  },
  {
   "cell_type": "code",
   "execution_count": null,
   "metadata": {},
   "outputs": [],
   "source": [
    "#df where currency is USD, and USD_pledged differs from pledged even though the currency did not change\n",
    "df[df['currency']=='USD'][['usd_pledged_real','usd_pledged','pledged','currency']][df['usd_pledged']!=df['pledged']].head(10)\n",
    "#46581 entries seem to have a conversion error from USD to USD \n",
    "#so how many others are there? How do other currencies look? Is Fixer.io good?"
   ]
  },
  {
   "cell_type": "code",
   "execution_count": null,
   "metadata": {},
   "outputs": [],
   "source": [
    "#number of unique currencies\n",
    "print(df.currency.unique())"
   ]
  },
  {
   "cell_type": "code",
   "execution_count": null,
   "metadata": {},
   "outputs": [],
   "source": [
    "#Google 28.02.2020\n",
    "to_usd={'GBP':1.29, 'USD':1, 'CAD':0.74, 'AUD':0.65, 'NOK':0.11, 'EUR':1.1, 'MXN':0.05, 'SEK':0.10, 'NZD':0.63,\n",
    "       'CHF':1.04, 'DKK':0.15, 'HKD':0.13, 'SGD':0.72, 'JPY':0.0092}\n",
    "\n",
    "#function to compare what Kickstarter sais he currency is vs what it should be with current exchange rate within in margin X%\n",
    "# inf values from deviding by 0 were marked with NaN and then replaced with the mean ignoring the NaNs\n",
    "def within_Xp(df,X,to_usd=to_usd,col_base='pledged',col_comp='usd_pledged'):\n",
    "    diff=df[col_base]*[to_usd[i] for i in df['currency']]/df[col_comp]\n",
    "    diff.replace([np.inf, -np.inf], np.nan,inplace=True)\n",
    "    diff.replace([np.nan], diff.mean(skipna=True),inplace=True)\n",
    "    stats=[diff.mean(),diff.std(),len(diff[(diff>(1+X)) | (diff<(1-X))]),len(diff[(diff>(1+X)) | (diff<(1-X))])/len(df)]\n",
    "    print(col_base,'vs',col_comp,'\\nmean,std,,#out of dataset outside','1+-'+str(X),'%out of dataset outside','1+-'+str(X),'\\n',stats)\n",
    "    return diff[(diff>(1+X)) | (diff<(1-X))],stats"
   ]
  },
  {
   "cell_type": "code",
   "execution_count": null,
   "metadata": {},
   "outputs": [],
   "source": [
    "#Kickstarter conversion pledged to USD allowing a possible 30% change in currency since 2014\n",
    "diff,stats=within_Xp(df,0.3,to_usd=to_usd,col_base='pledged',col_comp='usd_pledged')\n",
    "diff.hist(bins=[0,1,2,3,4,5,6,7,8,9,10,20,50])"
   ]
  },
  {
   "cell_type": "code",
   "execution_count": null,
   "metadata": {},
   "outputs": [],
   "source": [
    "# the big spike is the inf entries changed to the mean\n",
    "# 30% of the data is not within boundaries"
   ]
  },
  {
   "cell_type": "code",
   "execution_count": null,
   "metadata": {},
   "outputs": [],
   "source": [
    "#Fixer.io conversion pledged to USD allowing a possible 30% change in currency since 2014\n",
    "diff,stats=within_Xp(df,0.3,to_usd=to_usd,col_base='pledged',col_comp='usd_pledged_real')\n",
    "diff.hist(bins=50)"
   ]
  },
  {
   "cell_type": "code",
   "execution_count": null,
   "metadata": {},
   "outputs": [],
   "source": [
    "# at 40% there is no more outliers, so I believe it is best to drop pledged_usd and go with pledged_usd_real"
   ]
  },
  {
   "cell_type": "code",
   "execution_count": null,
   "metadata": {},
   "outputs": [],
   "source": [
    "df.drop(columns='usd_pledged',inplace=True)"
   ]
  },
  {
   "cell_type": "code",
   "execution_count": null,
   "metadata": {},
   "outputs": [],
   "source": [
    "#check for duplicates\n",
    "df.duplicated().any()"
   ]
  },
  {
   "cell_type": "code",
   "execution_count": null,
   "metadata": {},
   "outputs": [],
   "source": [
    "#set datetime\n",
    "df['launched']=pd.to_datetime(df['launched'])\n",
    "df['deadline']=pd.to_datetime(df['deadline'])"
   ]
  },
  {
   "cell_type": "markdown",
   "metadata": {},
   "source": [
    "## Categorical Features"
   ]
  },
  {
   "cell_type": "code",
   "execution_count": null,
   "metadata": {},
   "outputs": [],
   "source": [
    "#the categorical features and the contribution of the top 15 features to the data\n",
    "for i in df.columns:\n",
    "    print('\\n',i,df[i].dtype)\n",
    "    if df[i].dtype=='object' and i!='name':\n",
    "        #print('# of categories in',i,len(df[i].unique()),'\\n',df[i].unique())\n",
    "        p={e:(df[i]==e).sum()/len(df) for e in df[i].unique()}\n",
    "        p_sorted={k: v for k, v in sorted(p.items(), key=lambda item: item[1],reverse=True)}\n",
    "        print({x:p_sorted[x] for c,x in enumerate(p_sorted) if c<15 },'\\n')"
   ]
  },
  {
   "cell_type": "code",
   "execution_count": null,
   "metadata": {},
   "outputs": [],
   "source": [
    "state_p={i:(df.state==i).sum()/len(df) for i in df.state.unique()}\n",
    "state_p_sorted={k: v for k, v in sorted(state_p.items(), key=lambda item: item[1],reverse=True)}\n",
    "\n",
    "print(state_p_sorted)"
   ]
  },
  {
   "cell_type": "markdown",
   "metadata": {},
   "source": [
    "https://www.kaggle.com/kemical/kickstarter-projects/discussion/67067\n",
    "This user hinted that there are successful project without backers\n",
    "We will remove them"
   ]
  },
  {
   "cell_type": "code",
   "execution_count": null,
   "metadata": {},
   "outputs": [],
   "source": [
    "print('0 backers and succeeded:',((df.backers==0)&(df.state=='successful')).sum())\n",
    "df[(df.backers==0)&(df.state=='successful')].country.unique()\n",
    "df=df[~((df.backers==0)&(df.state=='successful'))]"
   ]
  },
  {
   "cell_type": "code",
   "execution_count": null,
   "metadata": {},
   "outputs": [],
   "source": [
    "print('0 backers and money invested:',((df.backers==0)&(df.pledged>0)).sum())\n",
    "df=df[~((df.backers==0)&(df.pledged>0))]\n",
    "len(df[~((df.state=='successful')|(df.state=='failed'))])/len(df)"
   ]
  },
  {
   "cell_type": "code",
   "execution_count": 36,
   "metadata": {},
   "outputs": [
    {
     "name": "stdout",
     "output_type": "stream",
     "text": [
      "failed and goal reached: 4\n"
     ]
    }
   ],
   "source": [
    "print('failed and goal reached:',((df.state=='failed')&(df.usd_goal_real<df.usd_pledged_real)).sum())\n",
    "df=df[~((df.state=='failed')&(df.usd_goal_real<df.usd_pledged_real))]"
   ]
  },
  {
   "cell_type": "code",
   "execution_count": 37,
   "metadata": {},
   "outputs": [
    {
     "data": {
      "text/plain": [
       "<matplotlib.axes._subplots.AxesSubplot at 0x14bcc70aeb8>"
      ]
     },
     "execution_count": 37,
     "metadata": {},
     "output_type": "execute_result"
    },
    {
     "data": {
      "image/png": "[encoded data removed]",
      "text/plain": [
       "<Figure size 432x288 with 1 Axes>"
      ]
     },
     "metadata": {
      "needs_background": "light"
     },
     "output_type": "display_data"
    },
    {
     "data": {
      "image/png": "[encoded data removed]",
      "text/plain": [
       "<Figure size 432x288 with 1 Axes>"
      ]
     },
     "metadata": {
      "needs_background": "light"
     },
     "output_type": "display_data"
    }
   ],
   "source": [
    "df.backers.hist(bins=range(200))\n",
    "df[['usd_pledged_real','backers']].plot.scatter(x='usd_pledged_real',y='backers')"
   ]
  },
  {
   "cell_type": "markdown",
   "metadata": {},
   "source": [
    "Compare success/fail rate for categorical attributes"
   ]
  },
  {
   "cell_type": "code",
   "execution_count": 38,
   "metadata": {},
   "outputs": [],
   "source": [
    "plot_dict = {}\n",
    "def cat_plots(attribute, df):\n",
    "    for cat in df[attribute].unique():    \n",
    "        success = df[(df[attribute] == cat) & (df['state'] == 'successful')]\n",
    "        fail = df[(df[attribute] == cat) & (df['state'] == 'failed')]\n",
    "        plot_dict.update({cat : [len(success.index), len(fail.index)]})\n",
    "    \n",
    "    \n",
    "    labels = list()\n",
    "    s = list()\n",
    "    f = list()\n",
    "    for key in plot_dict:\n",
    "        labels.append(key)\n",
    "        s.append(plot_dict[key][0]/(plot_dict[key][0] + plot_dict[key][1])*100)\n",
    "        f.append(plot_dict[key][1]/(plot_dict[key][0] + plot_dict[key][1])*100)\n",
    "    x = np.arange(len(labels))  # the label locations\n",
    "    width = 0.35  # the width of the bars\n",
    "\n",
    "    fig, ax = plt.subplots()\n",
    "    rects1 = ax.bar(x - width/2, s, width, label='Success')\n",
    "    rects2 = ax.bar(x + width/2, f, width, label='Fail')\n",
    "\n",
    "    # Add some text for labels, title and custom x-axis tick labels, etc.\n",
    "    ax.set_ylabel('%')\n",
    "    ax.set_title('Success/fail ratio for ' + attribute)\n",
    "    ax.set_xticks(x)\n",
    "    ax.set_xticklabels(labels)\n",
    "    ax.legend()        \n",
    "\n",
    "\n",
    "    fig.tight_layout()\n",
    "\n",
    "    plt.show()"
   ]
  },
  {
   "cell_type": "code",
   "execution_count": 39,
   "metadata": {},
   "outputs": [
    {
     "data": {
      "image/png": "[encoded data removed]",
      "text/plain": [
       "<Figure size 432x288 with 1 Axes>"
      ]
     },
     "metadata": {
      "needs_background": "light"
     },
     "output_type": "display_data"
    }
   ],
   "source": [
    "cat_plots('country', df)"
   ]
  },
  {
   "cell_type": "markdown",
   "metadata": {},
   "source": [
    "As seen below, USD_goal_real doesn't appear to be normal distributed, hence we apply log10 transformation, subtract mean and divide by std."
   ]
  },
  {
   "cell_type": "code",
   "execution_count": 40,
   "metadata": {},
   "outputs": [
    {
     "name": "stdout",
     "output_type": "stream",
     "text": [
      "0.01 166361390.71\n"
     ]
    },
    {
     "data": {
      "image/png": "[encoded data removed]",
      "text/plain": [
       "<Figure size 432x288 with 1 Axes>"
      ]
     },
     "metadata": {
      "needs_background": "light"
     },
     "output_type": "display_data"
    }
   ],
   "source": [
    "b = df['usd_goal_real']\n",
    "b.hist(bins = range(0,400000,5000))\n",
    "print(b.min(), b.max())\n",
    "\n",
    "c = (b-b.min())/(b.max()-b.min())\n",
    "#c.hist(bins = 2)"
   ]
  },
  {
   "cell_type": "markdown",
   "metadata": {},
   "source": [
    "Now the distribution looks suitable for PCA"
   ]
  },
  {
   "cell_type": "code",
   "execution_count": 41,
   "metadata": {},
   "outputs": [
    {
     "name": "stdout",
     "output_type": "stream",
     "text": [
      "0     3.186094\n",
      "1     4.477136\n",
      "2     4.653222\n",
      "3     3.699057\n",
      "4     4.290057\n",
      "5     4.698979\n",
      "6     3.000434\n",
      "7     4.397957\n",
      "8     5.096913\n",
      "9     4.812920\n",
      "10    3.381546\n",
      "11    4.096945\n",
      "12    3.699057\n",
      "13    5.301032\n",
      "14    3.810953\n",
      "15    3.398114\n",
      "16    3.176381\n",
      "17    3.477266\n",
      "18    2.399674\n",
      "19    3.699057\n",
      "Name: usd_goal_real, dtype: float64\n",
      "stdev 0.7375083815774056\n",
      "mean 3.7529639752731545\n"
     ]
    },
    {
     "data": {
      "text/plain": [
       "<matplotlib.axes._subplots.AxesSubplot at 0x14bcd124550>"
      ]
     },
     "execution_count": 41,
     "metadata": {},
     "output_type": "execute_result"
    },
    {
     "data": {
      "image/png": "[encoded data removed]",
      "text/plain": [
       "<Figure size 432x288 with 1 Axes>"
      ]
     },
     "metadata": {
      "needs_background": "light"
     },
     "output_type": "display_data"
    }
   ],
   "source": [
    "a = df['usd_goal_real']\n",
    "a = a+1\n",
    "a = np.log10(a)\n",
    "print(a.head(20))\n",
    "\n",
    "stdev = a.std()\n",
    "print('stdev', stdev)\n",
    "mean = a.mean()\n",
    "print('mean', mean)\n",
    "a = (a-mean)/stdev\n",
    "a.hist(bins = 100)"
   ]
  },
  {
   "cell_type": "markdown",
   "metadata": {},
   "source": [
    "# PCA"
   ]
  },
  {
   "cell_type": "code",
   "execution_count": 43,
   "metadata": {},
   "outputs": [
    {
     "ename": "TypeError",
     "evalue": "unsupported operand type(s) for -: 'str' and 'str'",
     "output_type": "error",
     "traceback": [
      "\u001b[1;31m---------------------------------------------------------------------------\u001b[0m",
      "\u001b[1;31mTypeError\u001b[0m                                 Traceback (most recent call last)",
      "\u001b[1;32m~\\Anaconda3\\lib\\site-packages\\pandas\\core\\ops.py\u001b[0m in \u001b[0;36mna_op\u001b[1;34m(x, y)\u001b[0m\n\u001b[0;32m   1504\u001b[0m         \u001b[1;32mtry\u001b[0m\u001b[1;33m:\u001b[0m\u001b[1;33m\u001b[0m\u001b[1;33m\u001b[0m\u001b[0m\n\u001b[1;32m-> 1505\u001b[1;33m             \u001b[0mresult\u001b[0m \u001b[1;33m=\u001b[0m \u001b[0mexpressions\u001b[0m\u001b[1;33m.\u001b[0m\u001b[0mevaluate\u001b[0m\u001b[1;33m(\u001b[0m\u001b[0mop\u001b[0m\u001b[1;33m,\u001b[0m \u001b[0mstr_rep\u001b[0m\u001b[1;33m,\u001b[0m \u001b[0mx\u001b[0m\u001b[1;33m,\u001b[0m \u001b[0my\u001b[0m\u001b[1;33m,\u001b[0m \u001b[1;33m**\u001b[0m\u001b[0meval_kwargs\u001b[0m\u001b[1;33m)\u001b[0m\u001b[1;33m\u001b[0m\u001b[1;33m\u001b[0m\u001b[0m\n\u001b[0m\u001b[0;32m   1506\u001b[0m         \u001b[1;32mexcept\u001b[0m \u001b[0mTypeError\u001b[0m\u001b[1;33m:\u001b[0m\u001b[1;33m\u001b[0m\u001b[1;33m\u001b[0m\u001b[0m\n",
      "\u001b[1;32m~\\Anaconda3\\lib\\site-packages\\pandas\\core\\computation\\expressions.py\u001b[0m in \u001b[0;36mevaluate\u001b[1;34m(op, op_str, a, b, use_numexpr, **eval_kwargs)\u001b[0m\n\u001b[0;32m    207\u001b[0m     \u001b[1;32mif\u001b[0m \u001b[0muse_numexpr\u001b[0m\u001b[1;33m:\u001b[0m\u001b[1;33m\u001b[0m\u001b[1;33m\u001b[0m\u001b[0m\n\u001b[1;32m--> 208\u001b[1;33m         \u001b[1;32mreturn\u001b[0m \u001b[0m_evaluate\u001b[0m\u001b[1;33m(\u001b[0m\u001b[0mop\u001b[0m\u001b[1;33m,\u001b[0m \u001b[0mop_str\u001b[0m\u001b[1;33m,\u001b[0m \u001b[0ma\u001b[0m\u001b[1;33m,\u001b[0m \u001b[0mb\u001b[0m\u001b[1;33m,\u001b[0m \u001b[1;33m**\u001b[0m\u001b[0meval_kwargs\u001b[0m\u001b[1;33m)\u001b[0m\u001b[1;33m\u001b[0m\u001b[1;33m\u001b[0m\u001b[0m\n\u001b[0m\u001b[0;32m    209\u001b[0m     \u001b[1;32mreturn\u001b[0m \u001b[0m_evaluate_standard\u001b[0m\u001b[1;33m(\u001b[0m\u001b[0mop\u001b[0m\u001b[1;33m,\u001b[0m \u001b[0mop_str\u001b[0m\u001b[1;33m,\u001b[0m \u001b[0ma\u001b[0m\u001b[1;33m,\u001b[0m \u001b[0mb\u001b[0m\u001b[1;33m)\u001b[0m\u001b[1;33m\u001b[0m\u001b[1;33m\u001b[0m\u001b[0m\n",
      "\u001b[1;32m~\\Anaconda3\\lib\\site-packages\\pandas\\core\\computation\\expressions.py\u001b[0m in \u001b[0;36m_evaluate_numexpr\u001b[1;34m(op, op_str, a, b, truediv, reversed, **eval_kwargs)\u001b[0m\n\u001b[0;32m    122\u001b[0m     \u001b[1;32mif\u001b[0m \u001b[0mresult\u001b[0m \u001b[1;32mis\u001b[0m \u001b[1;32mNone\u001b[0m\u001b[1;33m:\u001b[0m\u001b[1;33m\u001b[0m\u001b[1;33m\u001b[0m\u001b[0m\n\u001b[1;32m--> 123\u001b[1;33m         \u001b[0mresult\u001b[0m \u001b[1;33m=\u001b[0m \u001b[0m_evaluate_standard\u001b[0m\u001b[1;33m(\u001b[0m\u001b[0mop\u001b[0m\u001b[1;33m,\u001b[0m \u001b[0mop_str\u001b[0m\u001b[1;33m,\u001b[0m \u001b[0ma\u001b[0m\u001b[1;33m,\u001b[0m \u001b[0mb\u001b[0m\u001b[1;33m)\u001b[0m\u001b[1;33m\u001b[0m\u001b[1;33m\u001b[0m\u001b[0m\n\u001b[0m\u001b[0;32m    124\u001b[0m \u001b[1;33m\u001b[0m\u001b[0m\n",
      "\u001b[1;32m~\\Anaconda3\\lib\\site-packages\\pandas\\core\\computation\\expressions.py\u001b[0m in \u001b[0;36m_evaluate_standard\u001b[1;34m(op, op_str, a, b, **eval_kwargs)\u001b[0m\n\u001b[0;32m     67\u001b[0m     \u001b[1;32mwith\u001b[0m \u001b[0mnp\u001b[0m\u001b[1;33m.\u001b[0m\u001b[0merrstate\u001b[0m\u001b[1;33m(\u001b[0m\u001b[0mall\u001b[0m\u001b[1;33m=\u001b[0m\u001b[1;34m'ignore'\u001b[0m\u001b[1;33m)\u001b[0m\u001b[1;33m:\u001b[0m\u001b[1;33m\u001b[0m\u001b[1;33m\u001b[0m\u001b[0m\n\u001b[1;32m---> 68\u001b[1;33m         \u001b[1;32mreturn\u001b[0m \u001b[0mop\u001b[0m\u001b[1;33m(\u001b[0m\u001b[0ma\u001b[0m\u001b[1;33m,\u001b[0m \u001b[0mb\u001b[0m\u001b[1;33m)\u001b[0m\u001b[1;33m\u001b[0m\u001b[1;33m\u001b[0m\u001b[0m\n\u001b[0m\u001b[0;32m     69\u001b[0m \u001b[1;33m\u001b[0m\u001b[0m\n",
      "\u001b[1;31mTypeError\u001b[0m: unsupported operand type(s) for -: 'str' and 'str'",
      "\nDuring handling of the above exception, another exception occurred:\n",
      "\u001b[1;31mTypeError\u001b[0m                                 Traceback (most recent call last)",
      "\u001b[1;32m~\\Anaconda3\\lib\\site-packages\\pandas\\core\\ops.py\u001b[0m in \u001b[0;36msafe_na_op\u001b[1;34m(lvalues, rvalues)\u001b[0m\n\u001b[0;32m   1528\u001b[0m             \u001b[1;32mwith\u001b[0m \u001b[0mnp\u001b[0m\u001b[1;33m.\u001b[0m\u001b[0merrstate\u001b[0m\u001b[1;33m(\u001b[0m\u001b[0mall\u001b[0m\u001b[1;33m=\u001b[0m\u001b[1;34m'ignore'\u001b[0m\u001b[1;33m)\u001b[0m\u001b[1;33m:\u001b[0m\u001b[1;33m\u001b[0m\u001b[1;33m\u001b[0m\u001b[0m\n\u001b[1;32m-> 1529\u001b[1;33m                 \u001b[1;32mreturn\u001b[0m \u001b[0mna_op\u001b[0m\u001b[1;33m(\u001b[0m\u001b[0mlvalues\u001b[0m\u001b[1;33m,\u001b[0m \u001b[0mrvalues\u001b[0m\u001b[1;33m)\u001b[0m\u001b[1;33m\u001b[0m\u001b[1;33m\u001b[0m\u001b[0m\n\u001b[0m\u001b[0;32m   1530\u001b[0m         \u001b[1;32mexcept\u001b[0m \u001b[0mException\u001b[0m\u001b[1;33m:\u001b[0m\u001b[1;33m\u001b[0m\u001b[1;33m\u001b[0m\u001b[0m\n",
      "\u001b[1;32m~\\Anaconda3\\lib\\site-packages\\pandas\\core\\ops.py\u001b[0m in \u001b[0;36mna_op\u001b[1;34m(x, y)\u001b[0m\n\u001b[0;32m   1506\u001b[0m         \u001b[1;32mexcept\u001b[0m \u001b[0mTypeError\u001b[0m\u001b[1;33m:\u001b[0m\u001b[1;33m\u001b[0m\u001b[1;33m\u001b[0m\u001b[0m\n\u001b[1;32m-> 1507\u001b[1;33m             \u001b[0mresult\u001b[0m \u001b[1;33m=\u001b[0m \u001b[0mmasked_arith_op\u001b[0m\u001b[1;33m(\u001b[0m\u001b[0mx\u001b[0m\u001b[1;33m,\u001b[0m \u001b[0my\u001b[0m\u001b[1;33m,\u001b[0m \u001b[0mop\u001b[0m\u001b[1;33m)\u001b[0m\u001b[1;33m\u001b[0m\u001b[1;33m\u001b[0m\u001b[0m\n\u001b[0m\u001b[0;32m   1508\u001b[0m \u001b[1;33m\u001b[0m\u001b[0m\n",
      "\u001b[1;32m~\\Anaconda3\\lib\\site-packages\\pandas\\core\\ops.py\u001b[0m in \u001b[0;36mmasked_arith_op\u001b[1;34m(x, y, op)\u001b[0m\n\u001b[0;32m   1008\u001b[0m                 result[mask] = op(xrav[mask],\n\u001b[1;32m-> 1009\u001b[1;33m                                   com.values_from_object(yrav[mask]))\n\u001b[0m\u001b[0;32m   1010\u001b[0m \u001b[1;33m\u001b[0m\u001b[0m\n",
      "\u001b[1;31mTypeError\u001b[0m: unsupported operand type(s) for -: 'str' and 'str'",
      "\nDuring handling of the above exception, another exception occurred:\n",
      "\u001b[1;31mTypeError\u001b[0m                                 Traceback (most recent call last)",
      "\u001b[1;32m<ipython-input-43-04e949574276>\u001b[0m in \u001b[0;36m<module>\u001b[1;34m\u001b[0m\n\u001b[0;32m      5\u001b[0m     \u001b[0mdf\u001b[0m\u001b[1;33m[\u001b[0m\u001b[0mi\u001b[0m\u001b[1;33m+\u001b[0m\u001b[1;34m'_day'\u001b[0m\u001b[1;33m]\u001b[0m\u001b[1;33m=\u001b[0m\u001b[0mpd\u001b[0m\u001b[1;33m.\u001b[0m\u001b[0mDatetimeIndex\u001b[0m\u001b[1;33m(\u001b[0m\u001b[0mdf\u001b[0m\u001b[1;33m.\u001b[0m\u001b[0mlaunched\u001b[0m\u001b[1;33m)\u001b[0m\u001b[1;33m.\u001b[0m\u001b[0mday\u001b[0m\u001b[1;33m\u001b[0m\u001b[1;33m\u001b[0m\u001b[0m\n\u001b[0;32m      6\u001b[0m     \u001b[0mdf\u001b[0m\u001b[1;33m[\u001b[0m\u001b[0mi\u001b[0m\u001b[1;33m+\u001b[0m\u001b[1;34m'_weekday'\u001b[0m\u001b[1;33m]\u001b[0m\u001b[1;33m=\u001b[0m\u001b[0mpd\u001b[0m\u001b[1;33m.\u001b[0m\u001b[0mDatetimeIndex\u001b[0m\u001b[1;33m(\u001b[0m\u001b[0mdf\u001b[0m\u001b[1;33m.\u001b[0m\u001b[0mlaunched\u001b[0m\u001b[1;33m)\u001b[0m\u001b[1;33m.\u001b[0m\u001b[0mweekday\u001b[0m\u001b[1;33m\u001b[0m\u001b[1;33m\u001b[0m\u001b[0m\n\u001b[1;32m----> 7\u001b[1;33m \u001b[0mdf\u001b[0m\u001b[1;33m[\u001b[0m\u001b[1;34m'timeframe'\u001b[0m\u001b[1;33m]\u001b[0m\u001b[1;33m=\u001b[0m\u001b[1;33m(\u001b[0m\u001b[0mdf\u001b[0m\u001b[1;33m.\u001b[0m\u001b[0mdeadline\u001b[0m\u001b[1;33m-\u001b[0m\u001b[0mdf\u001b[0m\u001b[1;33m.\u001b[0m\u001b[0mlaunched\u001b[0m\u001b[1;33m)\u001b[0m\u001b[1;33m.\u001b[0m\u001b[0mastype\u001b[0m\u001b[1;33m(\u001b[0m\u001b[1;34m'timedelta64[h]'\u001b[0m\u001b[1;33m)\u001b[0m\u001b[1;33m/\u001b[0m\u001b[1;36m24\u001b[0m\u001b[1;33m\u001b[0m\u001b[1;33m\u001b[0m\u001b[0m\n\u001b[0m",
      "\u001b[1;32m~\\Anaconda3\\lib\\site-packages\\pandas\\core\\ops.py\u001b[0m in \u001b[0;36mwrapper\u001b[1;34m(left, right)\u001b[0m\n\u001b[0;32m   1581\u001b[0m             \u001b[0mrvalues\u001b[0m \u001b[1;33m=\u001b[0m \u001b[0mrvalues\u001b[0m\u001b[1;33m.\u001b[0m\u001b[0mvalues\u001b[0m\u001b[1;33m\u001b[0m\u001b[1;33m\u001b[0m\u001b[0m\n\u001b[0;32m   1582\u001b[0m \u001b[1;33m\u001b[0m\u001b[0m\n\u001b[1;32m-> 1583\u001b[1;33m         \u001b[0mresult\u001b[0m \u001b[1;33m=\u001b[0m \u001b[0msafe_na_op\u001b[0m\u001b[1;33m(\u001b[0m\u001b[0mlvalues\u001b[0m\u001b[1;33m,\u001b[0m \u001b[0mrvalues\u001b[0m\u001b[1;33m)\u001b[0m\u001b[1;33m\u001b[0m\u001b[1;33m\u001b[0m\u001b[0m\n\u001b[0m\u001b[0;32m   1584\u001b[0m         return construct_result(left, result,\n\u001b[0;32m   1585\u001b[0m                                 index=left.index, name=res_name, dtype=None)\n",
      "\u001b[1;32m~\\Anaconda3\\lib\\site-packages\\pandas\\core\\ops.py\u001b[0m in \u001b[0;36msafe_na_op\u001b[1;34m(lvalues, rvalues)\u001b[0m\n\u001b[0;32m   1531\u001b[0m             \u001b[1;32mif\u001b[0m \u001b[0mis_object_dtype\u001b[0m\u001b[1;33m(\u001b[0m\u001b[0mlvalues\u001b[0m\u001b[1;33m)\u001b[0m\u001b[1;33m:\u001b[0m\u001b[1;33m\u001b[0m\u001b[1;33m\u001b[0m\u001b[0m\n\u001b[0;32m   1532\u001b[0m                 return libalgos.arrmap_object(lvalues,\n\u001b[1;32m-> 1533\u001b[1;33m                                               lambda x: op(x, rvalues))\n\u001b[0m\u001b[0;32m   1534\u001b[0m             \u001b[1;32mraise\u001b[0m\u001b[1;33m\u001b[0m\u001b[1;33m\u001b[0m\u001b[0m\n\u001b[0;32m   1535\u001b[0m \u001b[1;33m\u001b[0m\u001b[0m\n",
      "\u001b[1;32mpandas/_libs/algos.pyx\u001b[0m in \u001b[0;36mpandas._libs.algos.arrmap\u001b[1;34m()\u001b[0m\n",
      "\u001b[1;32m~\\Anaconda3\\lib\\site-packages\\pandas\\core\\ops.py\u001b[0m in \u001b[0;36m<lambda>\u001b[1;34m(x)\u001b[0m\n\u001b[0;32m   1531\u001b[0m             \u001b[1;32mif\u001b[0m \u001b[0mis_object_dtype\u001b[0m\u001b[1;33m(\u001b[0m\u001b[0mlvalues\u001b[0m\u001b[1;33m)\u001b[0m\u001b[1;33m:\u001b[0m\u001b[1;33m\u001b[0m\u001b[1;33m\u001b[0m\u001b[0m\n\u001b[0;32m   1532\u001b[0m                 return libalgos.arrmap_object(lvalues,\n\u001b[1;32m-> 1533\u001b[1;33m                                               lambda x: op(x, rvalues))\n\u001b[0m\u001b[0;32m   1534\u001b[0m             \u001b[1;32mraise\u001b[0m\u001b[1;33m\u001b[0m\u001b[1;33m\u001b[0m\u001b[0m\n\u001b[0;32m   1535\u001b[0m \u001b[1;33m\u001b[0m\u001b[0m\n",
      "\u001b[1;31mTypeError\u001b[0m: unsupported operand type(s) for -: 'str' and 'str'"
     ]
    }
   ],
   "source": [
    "#translating date \n",
    "for i in ['launched','deadline']:\n",
    "    df[i+'_month']=pd.DatetimeIndex(df.launched).month\n",
    "    df[i+'_week']=pd.DatetimeIndex(df.launched).week\n",
    "    df[i+'_day']=pd.DatetimeIndex(df.launched).day\n",
    "    df[i+'_weekday']=pd.DatetimeIndex(df.launched).weekday\n",
    "df['timeframe']=(df.deadline-df.launched).astype('timedelta64[h]')/24\n"
   ]
  },
  {
   "cell_type": "code",
   "execution_count": null,
   "metadata": {},
   "outputs": [],
   "source": [
    "df_pca=pd.get_dummies(df.drop(columns=['name','ID','deadline','launched','goal','usd_pledged_real','pledged','backers']),columns=['category','launched_month', 'launched_week', 'launched_day',\n",
    "       'launched_weekday', 'deadline_month', 'deadline_week', 'deadline_day', 'deadline_weekday' ,'main_category', 'currency','country'])\n",
    "df_pca=df_pca[(df_pca['state']=='failed')|(df_pca['state']=='successful')]"
   ]
  },
  {
   "cell_type": "markdown",
   "metadata": {},
   "source": [
    "Make document-term matrix for 'name' column."
   ]
  },
  {
   "cell_type": "code",
   "execution_count": null,
   "metadata": {},
   "outputs": [],
   "source": []
  },
  {
   "cell_type": "code",
   "execution_count": 219,
   "metadata": {},
   "outputs": [
    {
     "name": "stdout",
     "output_type": "stream",
     "text": [
      "   aaron  abby  abc  abilities  abraham  absent  absorbing  absurd  abullah  \\\n",
      "0      0     0    0          0        0       0          0       0        0   \n",
      "1      0     0    0          0        0       0          0       0        0   \n",
      "2      0     0    0          0        0       0          0       0        0   \n",
      "3      0     0    0          0        0       0          0       0        0   \n",
      "4      0     0    0          0        0       0          0       0        0   \n",
      "\n",
      "   abuse  ...  zombiology  zone  zoo  zoomoos  zozo  zum  zyx  zâ  â  ã  \n",
      "0      0  ...           0     0    0        0     0    0    0   0  0  0  \n",
      "1      0  ...           0     0    0        0     0    0    0   0  0  0  \n",
      "2      0  ...           0     0    0        0     0    0    0   0  0  0  \n",
      "3      0  ...           0     0    0        0     0    0    0   0  0  0  \n",
      "4      0  ...           0     0    0        0     0    0    0   0  0  0  \n",
      "\n",
      "[5 rows x 6373 columns]\n"
     ]
    }
   ],
   "source": []
  },
  {
   "cell_type": "code",
   "execution_count": null,
   "metadata": {},
   "outputs": [],
   "source": []
  },
  {
   "cell_type": "code",
   "execution_count": 153,
   "metadata": {},
   "outputs": [],
   "source": [
    "#Useful for later classification\n",
    "mappings={}\n",
    "from sklearn.preprocessing import LabelEncoder\n",
    "\n",
    "categorical=['category', 'main_category', 'currency','state','country']\n",
    "\n",
    "def cat_to_int(df,cats,mappings):\n",
    "    for i in cats:\n",
    "        le = LabelEncoder()\n",
    "        df[i+'_int']=le.fit_transform(df[i])+1\n",
    "        le.fit(df[i])\n",
    "        mappings[i] = dict(zip(le.classes_, le.transform(le.classes_)+1))\n",
    "        df.drop(columns=[i],inplace=True)\n",
    "\n",
    "    return df , mappings"
   ]
  },
  {
   "cell_type": "code",
   "execution_count": 154,
   "metadata": {},
   "outputs": [],
   "source": [
    "mappings_pca={}\n",
    "\n",
    "df_pca,mappings_pca=cat_to_int(df_pca,['state'],mappings_pca)"
   ]
  },
  {
   "cell_type": "code",
   "execution_count": 155,
   "metadata": {},
   "outputs": [
    {
     "data": {
      "text/plain": [
       "{'state': {'failed': 1, 'successful': 2}}"
      ]
     },
     "execution_count": 155,
     "metadata": {},
     "output_type": "execute_result"
    }
   ],
   "source": [
    "mappings_pca"
   ]
  },
  {
   "cell_type": "code",
   "execution_count": 156,
   "metadata": {},
   "outputs": [],
   "source": [
    "from scipy.linalg import svd\n",
    "df_pca_s=df_pca[df_pca['state_int']==2]\n",
    "df_pca_f=df_pca[df_pca['state_int']==1]\n",
    "\n",
    "attributeNames=list(df_pca.columns)\n",
    "\n",
    "y=df_pca.state_int\n",
    "\n",
    "\n",
    "N=len(df_pca)\n",
    "X=df_pca.drop(columns='state_int').values\n",
    "#Y = X - np.ones((N,1))*X.mean(axis=0)\n",
    "\n",
    "from sklearn import preprocessing\n",
    "\n",
    "x = X #returns a numpy array\n",
    "min_max_scaler = preprocessing.MinMaxScaler()\n",
    "x_scaled = min_max_scaler.fit_transform(x)\n",
    "df_pca=pd.DataFrame(x_scaled, columns=df_pca.drop(columns='state_int').columns)\n",
    "\n",
    "#%%\n",
    "# PCA by computing SVD of Y\n",
    "U,S,V = svd(x_scaled,full_matrices=False)\n",
    "Z = x_scaled @ V\n"
   ]
  },
  {
   "cell_type": "code",
   "execution_count": 157,
   "metadata": {},
   "outputs": [
    {
     "data": {
      "image/png": "[encoded data removed]",
      "text/plain": [
       "<Figure size 432x288 with 1 Axes>"
      ]
     },
     "metadata": {
      "needs_background": "light"
     },
     "output_type": "display_data"
    }
   ],
   "source": [
    "rho = (S*S) / (S*S).sum() \n",
    "\n",
    "threshold = 0.9\n",
    "\n",
    "# Plot variance explained\n",
    "plt.figure()\n",
    "plt.plot(range(1,len(rho)+1),rho,'x-')\n",
    "plt.plot(range(1,len(rho)+1),np.cumsum(rho),'o-')\n",
    "plt.plot([1,len(rho)],[threshold, threshold],'k--')\n",
    "plt.title('Variance explained by principal components');\n",
    "plt.xlabel('Principal component');\n",
    "plt.ylabel('Variance explained');\n",
    "plt.legend(['Individual','Cumulative','Threshold'])\n",
    "plt.grid()\n",
    "plt.show()"
   ]
  },
  {
   "cell_type": "code",
   "execution_count": 35,
   "metadata": {},
   "outputs": [
    {
     "name": "stderr",
     "output_type": "stream",
     "text": [
      "C:\\Users\\steve\\Anaconda3\\lib\\site-packages\\IPython\\core\\pylabtools.py:132: UserWarning: Creating legend with loc=\"best\" can be slow with large amounts of data.\n",
      "  fig.canvas.print_figure(bytes_io, **kw)\n"
     ]
    },
    {
     "data": {
      "image/png": "[encoded data removed]",
      "text/plain": [
       "<Figure size 432x288 with 1 Axes>"
      ]
     },
     "metadata": {
      "needs_background": "light"
     },
     "output_type": "display_data"
    }
   ],
   "source": [
    "from matplotlib.pyplot import figure, plot, title, xlabel, ylabel, show, legend\n",
    "\n",
    "\n",
    "i = 0\n",
    "j = 1\n",
    "classNames=[i for i in mappings_pca['state']]\n",
    "C = len(classNames)\n",
    "\n",
    "# Plot PCA of the data\n",
    "f = figure()\n",
    "title('NanoNose data: PCA')\n",
    "#Z = array(Z)\n",
    "for c in range(C):\n",
    "    # select indices belonging to class c:\n",
    "    class_mask = y==c+1\n",
    "    plot(Z[class_mask,i], Z[class_mask,j], 'o', alpha=.5)\n",
    "legend(classNames)\n",
    "xlabel('PC{0}'.format(i+1))\n",
    "ylabel('PC{0}'.format(j+1))\n",
    "\n",
    "# Output result to screen\n",
    "show()"
   ]
  },
  {
   "cell_type": "code",
   "execution_count": 36,
   "metadata": {},
   "outputs": [
    {
     "data": {
      "text/plain": [
       "<matplotlib.axes._subplots.AxesSubplot at 0x14990ade2c8>"
      ]
     },
     "execution_count": 36,
     "metadata": {},
     "output_type": "execute_result"
    },
    {
     "data": {
      "image/png": "[encoded data removed]",
      "text/plain": [
       "<Figure size 432x288 with 1 Axes>"
      ]
     },
     "metadata": {
      "needs_background": "light"
     },
     "output_type": "display_data"
    }
   ],
   "source": [
    "df[df.usd_pledged_real==df.usd_pledged_real.max()]\n",
    "df.usd_pledged_real.hist(bins=50)"
   ]
  },
  {
   "cell_type": "code",
   "execution_count": 37,
   "metadata": {},
   "outputs": [
    {
     "data": {
      "image/png": "[encoded data removed]",
      "text/plain": [
       "<Figure size 720x1080 with 6 Axes>"
      ]
     },
     "metadata": {
      "needs_background": "light"
     },
     "output_type": "display_data"
    }
   ],
   "source": [
    "\n",
    "Y1 = X - np.ones((N, 1))*X.mean(0)\n",
    "\n",
    "# Subtract the mean from the data and divide by the attribute standard\n",
    "# deviation to obtain a standardized dataset:\n",
    "Y2 = X - np.ones((N, 1))*X.mean(0)\n",
    "#Y2 = Y2*(1/np.std(Y2,0))\n",
    "Y2=x_scaled\n",
    "\n",
    "Ys = [Y1, Y2]\n",
    "titles = ['Zero-mean', 'Zero-mean and unit variance']\n",
    "threshold = 0.9\n",
    "# Choose two PCs to plot (the projection)\n",
    "i = 0\n",
    "j = 1\n",
    "\n",
    "# Make the plot\n",
    "plt.figure(figsize=(10,15))\n",
    "plt.subplots_adjust(hspace=.4)\n",
    "plt.title('NanoNose: Effect of standardization')\n",
    "nrows=3\n",
    "ncols=2\n",
    "\n",
    "\n",
    "for k in range(2):\n",
    "    # Obtain the PCA solution by calculate the SVD of either Y1 or Y2\n",
    "    U,S,Vh = svd(Ys[k],full_matrices=False)\n",
    "    V=Vh.T # For the direction of V to fit the convention in the course we transpose\n",
    "    # For visualization purposes, we flip the directionality of the\n",
    "    # principal directions such that the directions match for Y1 and Y2.\n",
    "    if k==1: V = -V; U = -U; \n",
    "    \n",
    "    # Compute variance explained\n",
    "    rho = (S*S) / (S*S).sum() \n",
    "    \n",
    "    # Compute the projection onto the principal components\n",
    "    Z = U*S;\n",
    "    \n",
    "    # Plot projection\n",
    "    plt.subplot(nrows, ncols, 1+k)\n",
    "    C = len(classNames)\n",
    "    for c in range(C):\n",
    "        plt.plot(Z[y==c,i], Z[y==c,j], '.', alpha=.5)\n",
    "    plt.xlabel('PC'+str(i+1))\n",
    "    plt.ylabel('PC'+str(j+1))\n",
    "    plt.title(titles[k] + '\\n' + 'Projection' )\n",
    "    plt.legend(classNames)\n",
    "    plt.axis('equal')\n",
    "    \n",
    "    # Plot attribute coefficients in principal component space\n",
    "    plt.subplot(nrows, ncols,  3+k)\n",
    "    for att in range(V.shape[1]):\n",
    "        plt.arrow(0,0, V[att,i], V[att,j])\n",
    "        plt.text(V[att,i], V[att,j], attributeNames[att])\n",
    "    plt.xlim([-1,1])\n",
    "    plt.ylim([-1,1])\n",
    "    plt.xlabel('PC'+str(i+1))\n",
    "    plt.ylabel('PC'+str(j+1))\n",
    "    plt.grid()\n",
    "    # Add a unit circle\n",
    "    plt.plot(np.cos(np.arange(0, 2*np.pi, 0.01)), \n",
    "         np.sin(np.arange(0, 2*np.pi, 0.01)));\n",
    "    plt.title(titles[k] +'\\n'+'Attribute coefficients')\n",
    "    plt.axis('equal')\n",
    "            \n",
    "    # Plot cumulative variance explained\n",
    "    plt.subplot(nrows, ncols,  5+k);\n",
    "    plt.plot(range(1,len(rho)+1),rho,'x-')\n",
    "    plt.plot(range(1,len(rho)+1),np.cumsum(rho),'o-')\n",
    "    plt.plot([1,len(rho)],[threshold, threshold],'k--')\n",
    "    plt.title('Variance explained by principal components');\n",
    "    plt.xlabel('Principal component');\n",
    "    plt.ylabel('Variance explained');\n",
    "    plt.legend(['Individual','Cumulative','Threshold'])\n",
    "    plt.grid()\n",
    "    plt.title(titles[k]+'\\n'+'Variance explained')\n",
    "\n",
    "plt.show()"
   ]
  },
  {
   "cell_type": "code",
   "execution_count": 38,
   "metadata": {},
   "outputs": [
    {
     "data": {
      "text/plain": [
       "array([1.89890353e-01, 3.22885432e-02, 2.84709411e-02, 2.65374204e-02,\n",
       "       2.58326381e-02, 2.12199876e-02, 1.91611132e-02, 1.79287553e-02,\n",
       "       1.76708334e-02, 1.73531895e-02, 1.72182788e-02, 1.71071543e-02,\n",
       "       1.70821394e-02, 1.65551965e-02, 1.62053212e-02, 1.53749344e-02,\n",
       "       1.49171208e-02, 1.47618332e-02, 1.19639995e-02, 1.15216669e-02,\n",
       "       1.03631247e-02, 9.77854735e-03, 9.58080045e-03, 8.47135342e-03,\n",
       "       8.42846147e-03, 8.24273272e-03, 7.99477982e-03, 7.28443708e-03,\n",
       "       7.17181678e-03, 7.07479333e-03, 6.65506316e-03, 6.46360193e-03,\n",
       "       6.30475281e-03, 5.81366166e-03, 5.77788581e-03, 5.66966367e-03,\n",
       "       5.63171481e-03, 5.61974100e-03, 5.56721070e-03, 5.55824032e-03,\n",
       "       5.50473072e-03, 5.46750492e-03, 5.43972524e-03, 5.43353452e-03,\n",
       "       5.39954361e-03, 5.39441718e-03, 5.38109212e-03, 5.37517933e-03,\n",
       "       5.35838283e-03, 5.34404777e-03, 5.21840160e-03, 5.11994274e-03,\n",
       "       5.04432847e-03, 5.02728517e-03, 4.94800919e-03, 4.92279604e-03,\n",
       "       4.83195141e-03, 4.73491541e-03, 4.09466777e-03, 3.92050925e-03,\n",
       "       3.87303608e-03, 3.56270295e-03, 3.53416431e-03, 3.50230513e-03,\n",
       "       3.47291852e-03, 3.46109909e-03, 3.43107758e-03, 3.42356961e-03,\n",
       "       3.40420814e-03, 3.34396077e-03, 3.33752987e-03, 3.32644626e-03,\n",
       "       3.29799987e-03, 3.29237312e-03, 3.27441602e-03, 3.27078691e-03,\n",
       "       3.26233085e-03, 3.25321395e-03, 3.25031379e-03, 3.23815178e-03,\n",
       "       3.23209396e-03, 3.21531047e-03, 3.21191977e-03, 3.20623837e-03,\n",
       "       3.18739560e-03, 3.15809503e-03, 3.14062859e-03, 3.11439904e-03,\n",
       "       3.09065075e-03, 3.07330670e-03, 3.01880942e-03, 2.97794176e-03,\n",
       "       2.94206697e-03, 2.88883017e-03, 2.74681137e-03, 2.71913758e-03,\n",
       "       2.64257807e-03, 2.57338754e-03, 2.49976675e-03, 2.46778224e-03,\n",
       "       2.41931701e-03, 2.32123444e-03, 2.15691176e-03, 1.93324112e-03,\n",
       "       1.83453699e-03, 1.79756205e-03, 1.68297943e-03, 1.66210944e-03,\n",
       "       1.59995630e-03, 1.53145349e-03, 1.49354613e-03, 1.45010909e-03,\n",
       "       1.43633395e-03, 1.40857010e-03, 1.38937566e-03, 1.36850759e-03,\n",
       "       1.36227966e-03, 1.34461810e-03, 1.33956024e-03, 1.20168786e-03,\n",
       "       1.17887863e-03, 1.05486869e-03, 9.68048870e-04, 9.47489254e-04,\n",
       "       9.39968880e-04, 8.68951395e-04, 8.54806598e-04, 8.17598170e-04,\n",
       "       8.00203922e-04, 7.77213140e-04, 7.40785107e-04, 7.27821279e-04,\n",
       "       7.22711636e-04, 7.19091051e-04, 7.10334468e-04, 6.99255517e-04,\n",
       "       6.57736218e-04, 6.54213280e-04, 6.48167369e-04, 6.35652121e-04,\n",
       "       6.14315878e-04, 6.06630570e-04, 6.00395726e-04, 5.92316516e-04,\n",
       "       5.84946347e-04, 5.78990955e-04, 5.76770109e-04, 5.62456359e-04,\n",
       "       5.57742064e-04, 5.52989038e-04, 5.36324760e-04, 5.29231234e-04,\n",
       "       5.26380547e-04, 5.24401738e-04, 5.08363086e-04, 4.92282396e-04,\n",
       "       4.89997444e-04, 4.87316857e-04, 4.85977999e-04, 4.81210415e-04,\n",
       "       4.75906318e-04, 4.64359305e-04, 4.43519172e-04, 4.34164018e-04,\n",
       "       4.32048309e-04, 4.07195324e-04, 3.96864304e-04, 3.96054688e-04,\n",
       "       3.65394596e-04, 3.58087238e-04, 3.51396691e-04, 3.47983887e-04,\n",
       "       3.19445392e-04, 3.15439914e-04, 3.13886106e-04, 3.07586340e-04,\n",
       "       3.00700528e-04, 2.96035188e-04, 2.92684320e-04, 2.87647526e-04,\n",
       "       2.67288262e-04, 2.66390762e-04, 2.57520948e-04, 2.57413301e-04,\n",
       "       2.48598566e-04, 2.46695690e-04, 2.44039069e-04, 2.40490094e-04,\n",
       "       2.39097669e-04, 2.37433227e-04, 2.30282286e-04, 2.29395321e-04,\n",
       "       2.25201369e-04, 2.15800017e-04, 2.06610269e-04, 2.06311388e-04,\n",
       "       2.02531390e-04, 2.02097598e-04, 2.01363172e-04, 2.00608113e-04,\n",
       "       1.98372760e-04, 1.95650601e-04, 1.88507677e-04, 1.86113317e-04,\n",
       "       1.83506239e-04, 1.81312943e-04, 1.71202222e-04, 1.67456982e-04,\n",
       "       1.66823493e-04, 1.63828361e-04, 1.60806065e-04, 1.57137037e-04,\n",
       "       1.54712308e-04, 1.47014698e-04, 1.44037752e-04, 1.38825073e-04,\n",
       "       1.32170962e-04, 1.31548600e-04, 1.27803899e-04, 1.27662932e-04,\n",
       "       1.24967431e-04, 1.23885349e-04, 1.19600266e-04, 1.18750290e-04,\n",
       "       1.16478911e-04, 1.14280345e-04, 1.08546621e-04, 1.01827132e-04,\n",
       "       1.00066788e-04, 9.82361111e-05, 9.68907924e-05, 9.26421417e-05,\n",
       "       9.05700931e-05, 8.73330769e-05, 8.28687330e-05, 8.11233251e-05,\n",
       "       7.65049224e-05, 7.56809794e-05, 7.43076328e-05, 7.35687819e-05,\n",
       "       7.30727487e-05, 7.17137709e-05, 7.15498667e-05, 7.15219569e-05,\n",
       "       6.51441840e-05, 6.47717586e-05, 6.41957545e-05, 6.26203952e-05,\n",
       "       6.19761337e-05, 5.95414889e-05, 5.80919364e-05, 5.39058969e-05,\n",
       "       5.29841177e-05, 5.25519116e-05, 5.25043465e-05, 5.16224560e-05,\n",
       "       4.77926384e-05, 4.76922751e-05, 4.54130206e-05, 4.33624097e-05,\n",
       "       4.22090697e-05, 3.87796744e-05, 3.61621215e-05, 3.60579085e-05,\n",
       "       3.22872942e-05, 3.21334231e-05, 3.14660654e-05, 3.03203278e-05,\n",
       "       2.97662211e-05, 2.76302360e-05, 2.69325463e-05, 2.65979631e-05,\n",
       "       2.29798884e-05, 2.12569206e-05, 2.09000618e-05, 1.90544993e-05,\n",
       "       1.64262887e-05, 1.56559833e-05, 1.20829799e-05, 1.17725924e-05,\n",
       "       8.62876431e-06, 7.64915996e-06, 6.82115446e-06, 5.11176990e-06,\n",
       "       3.64229772e-06, 3.55617996e-06, 2.65066718e-06, 2.39926606e-06,\n",
       "       6.53237059e-07, 2.87428518e-07, 2.48130785e-07, 1.65263111e-07,\n",
       "       1.34340816e-07, 1.11202052e-07, 3.24012981e-31, 1.57822367e-31,\n",
       "       1.40030219e-31, 9.13543003e-32, 8.97583444e-32, 8.81987553e-32,\n",
       "       8.30742847e-32, 7.97352244e-32, 7.36504533e-32, 7.34203964e-32,\n",
       "       6.45870155e-32, 6.29874880e-32, 6.28880729e-32, 6.10878965e-32,\n",
       "       5.68788167e-32, 5.63145388e-32, 5.50441398e-32, 5.49518611e-32,\n",
       "       4.98221725e-32, 4.96761638e-32, 4.30337871e-32, 4.20402909e-32,\n",
       "       4.00609189e-32, 3.86910382e-32, 3.53015970e-32, 3.37051796e-32,\n",
       "       3.17979435e-32, 2.85179743e-32, 2.68371267e-32, 2.62974191e-32,\n",
       "       2.59663151e-32, 2.56308368e-32, 2.37158398e-32, 2.31611761e-32,\n",
       "       2.24645392e-32, 2.17083463e-32, 2.13086193e-32, 2.08144229e-32,\n",
       "       2.00716101e-32, 1.85571695e-32, 1.79767248e-32, 1.64222672e-32,\n",
       "       1.53209097e-32, 1.40672121e-32, 1.24597197e-32, 1.19896059e-32,\n",
       "       1.18367478e-32, 1.11462724e-32, 1.11145933e-32, 1.03978364e-32,\n",
       "       1.03420456e-32, 1.01525103e-32, 1.00919322e-32, 9.45435998e-33,\n",
       "       9.30631545e-33, 9.29179474e-33, 9.10211286e-33, 8.88985573e-33,\n",
       "       8.11327695e-33, 7.89865824e-33, 7.56272636e-33, 7.27324017e-33,\n",
       "       7.20179232e-33, 7.12318057e-33, 6.08161066e-33, 5.85739243e-33,\n",
       "       5.39730178e-33, 5.32552114e-33, 5.25751427e-33, 5.10763909e-33,\n",
       "       4.86216774e-33, 4.48920220e-33, 4.47201094e-33, 4.02254346e-33,\n",
       "       4.00767459e-33, 3.83002314e-33, 3.65609507e-33, 3.09148654e-33,\n",
       "       3.07656084e-33, 2.45074485e-33, 1.95956204e-33, 1.88643584e-33,\n",
       "       1.84438716e-33, 1.81229266e-33, 1.79405446e-33, 1.79405446e-33,\n",
       "       1.79405446e-33, 1.79405446e-33, 1.79405446e-33, 1.79405446e-33,\n",
       "       1.79405446e-33, 1.79405446e-33, 1.79405446e-33, 1.79405446e-33,\n",
       "       1.79405446e-33, 1.79405446e-33, 1.79405446e-33, 1.79405446e-33,\n",
       "       1.79405446e-33, 1.79405446e-33, 1.79405446e-33, 1.79405446e-33,\n",
       "       1.79405446e-33, 1.79405446e-33, 1.79405446e-33, 1.79405446e-33,\n",
       "       1.62507831e-33, 1.48503490e-33, 1.42077442e-33, 1.30248912e-33,\n",
       "       1.27302176e-33, 8.81471582e-34, 6.12196417e-34, 6.04378674e-34,\n",
       "       5.77160879e-34, 4.66600778e-34, 4.59989746e-34, 3.67445567e-34,\n",
       "       3.52626521e-34, 2.83126446e-34, 1.37951580e-34, 1.31200658e-34,\n",
       "       5.92497332e-35, 4.53802424e-35, 3.83022720e-35])"
      ]
     },
     "execution_count": 38,
     "metadata": {},
     "output_type": "execute_result"
    }
   ],
   "source": [
    "rho\n"
   ]
  },
  {
   "cell_type": "code",
   "execution_count": 40,
   "metadata": {},
   "outputs": [
    {
     "data": {
      "text/plain": [
       "KNeighborsClassifier(algorithm='auto', leaf_size=30, metric='minkowski',\n",
       "                     metric_params=None, n_jobs=None, n_neighbors=2, p=2,\n",
       "                     weights='uniform')"
      ]
     },
     "execution_count": 40,
     "metadata": {},
     "output_type": "execute_result"
    }
   ],
   "source": [
    "from sklearn.neighbors import KNeighborsClassifier\n",
    "model = KNeighborsClassifier(n_neighbors=2)\n",
    "\n",
    "model.fit(x_scaled, y)\n"
   ]
  },
  {
   "cell_type": "code",
   "execution_count": null,
   "metadata": {},
   "outputs": [],
   "source": [
    "'''from sklearn.ensemble import ExtraTreesClassifier\n",
    "import numpy as np\n",
    "import matplotlib.pyplot as plt\n",
    "from skprog.wrappers import TreesProgressor\n",
    "\n",
    "y=df_pca.state_int\n",
    "X=df_pca.drop(columns=['state_int','pledged', 'backers', 'usd_pledged_real',])\n",
    "forest = TreesProgressor(ExtraTreesClassifier(n_estimators=250,\n",
    "                              random_state=0))\n",
    "\n",
    "\n",
    "forest.fit(X, y)\n",
    "\n",
    "importances = forest.clf.feature_importances_\n",
    "std = np.std([importances for tree in forest.clf.estimators_],\n",
    "             axis=0)\n",
    "indices = np.argsort(importances)[::-1]\n",
    "\n",
    "# Print the feature ranking\n",
    "print(\"Feature ranking:\")\n",
    "\n",
    "for f in range(X.shape[1]):\n",
    "    print(\"%d. feature %d (%f)\" % (f + 1, indices[f], importances[indices[f]]),(X.columns.tolist())[indices[f]])\n",
    "\n",
    "# Plot the feature importances of the forest\n",
    "plt.figure()\n",
    "plt.title(\"Feature importances\")\n",
    "plt.bar(range(X.shape[1]), importances[indices],\n",
    "       color=\"r\", yerr=std[indices], align=\"center\")\n",
    "plt.xticks(range(X.shape[1]), indices)\n",
    "plt.xlim([-1, X.shape[1]])\n",
    "plt.show()'''"
   ]
  }
 ],
 "metadata": {
  "kernelspec": {
   "display_name": "Python 3",
   "language": "python",
   "name": "python3"
  },
  "language_info": {
   "codemirror_mode": {
    "name": "ipython",
    "version": 3
   },
   "file_extension": ".py",
   "mimetype": "text/x-python",
   "name": "python",
   "nbconvert_exporter": "python",
   "pygments_lexer": "ipython3",
   "version": "3.7.3"
  }
 },
 "nbformat": 4,
 "nbformat_minor": 2
}
