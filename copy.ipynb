{
 "cells": [
  {
   "cell_type": "markdown",
   "metadata": {},
   "source": [
    "# Data Loading"
   ]
  },
  {
   "cell_type": "code",
   "execution_count": 177,
   "metadata": {},
   "outputs": [],
   "source": [
    "import pandas as pd\n",
    "import janitor\n",
    "import numpy as np\n",
    "import matplotlib.pyplot as plt\n",
    "import math\n",
    "\n",
    "%matplotlib inline"
   ]
  },
  {
   "cell_type": "code",
   "execution_count": 43,
   "metadata": {},
   "outputs": [],
   "source": [
    "# -*- coding: utf-8 -*-\n",
    "'''\n",
    "a=pd.read_csv('ks-projects-201612.csv',encoding = \"ISO-8859-1\")\n",
    "#remove empty columns\n",
    "a_drop=[i for i in a.columns if 'Unnamed' in i]\n",
    "a.drop(a_drop,axis=1,inplace=True)\n",
    "'''\n",
    "df=pd.read_csv('ks-projects-201801.csv',encoding = \"ISO-8859-1\")\n",
    "#b.drop(['usd_pledged_real', 'usd_goal_real'],axis=1,inplace=True)\n",
    "#%%\n"
   ]
  },
  {
   "cell_type": "code",
   "execution_count": 44,
   "metadata": {},
   "outputs": [
    {
     "name": "stdout",
     "output_type": "stream",
     "text": [
      "Index(['ID', 'name', 'category', 'main_category', 'currency', 'deadline',\n",
      "       'goal', 'launched', 'pledged', 'state', 'backers', 'country',\n",
      "       'usd pledged', 'usd_pledged_real', 'usd_goal_real'],\n",
      "      dtype='object')\n"
     ]
    }
   ],
   "source": [
    "print(df.columns)\n",
    "df.rename(columns={'usd pledged':'usd_pledged'},inplace=True)"
   ]
  },
  {
   "cell_type": "markdown",
   "metadata": {},
   "source": [
    "### data analysis + cleaning"
   ]
  },
  {
   "cell_type": "code",
   "execution_count": 45,
   "metadata": {},
   "outputs": [
    {
     "data": {
      "text/plain": [
       "ID                     0\n",
       "name                   4\n",
       "category               0\n",
       "main_category          0\n",
       "currency               0\n",
       "deadline               0\n",
       "goal                   0\n",
       "launched               0\n",
       "pledged                0\n",
       "state                  0\n",
       "backers                0\n",
       "country                0\n",
       "usd_pledged         3797\n",
       "usd_pledged_real       0\n",
       "usd_goal_real          0\n",
       "dtype: int64"
      ]
     },
     "execution_count": 45,
     "metadata": {},
     "output_type": "execute_result"
    }
   ],
   "source": [
    "#look for NaN\n",
    "df.isna().sum()"
   ]
  },
  {
   "cell_type": "markdown",
   "metadata": {},
   "source": [
    "I suggest dropping the projects that do not have a name tag."
   ]
  },
  {
   "cell_type": "code",
   "execution_count": 46,
   "metadata": {},
   "outputs": [
    {
     "data": {
      "text/plain": [
       "ID                     0\n",
       "name                   0\n",
       "category               0\n",
       "main_category          0\n",
       "currency               0\n",
       "deadline               0\n",
       "goal                   0\n",
       "launched               0\n",
       "pledged                0\n",
       "state                  0\n",
       "backers                0\n",
       "country                0\n",
       "usd_pledged         3797\n",
       "usd_pledged_real       0\n",
       "usd_goal_real          0\n",
       "dtype: int64"
      ]
     },
     "execution_count": 46,
     "metadata": {},
     "output_type": "execute_result"
    }
   ],
   "source": [
    "df = df.dropna(subset=['name'])\n",
    "df.isna().sum()"
   ]
  },
  {
   "cell_type": "markdown",
   "metadata": {},
   "source": [
    "usd_pledged: conversion in US dollars of the pledged column (conversion done by kickstarter).\n",
    "usd pledge real: conversion in US dollars of the pledged column (conversion from Fixer.io API).\n",
    "usd goal real: conversion in US dollars of the goal column (conversion from Fixer.io API).\n",
    "\n",
    "In 3797 cases Kickstarter did not convert the currency successfully to USD (usd_pledged)\n",
    "Let us further investigate that issue."
   ]
  },
  {
   "cell_type": "code",
   "execution_count": 47,
   "metadata": {},
   "outputs": [
    {
     "name": "stderr",
     "output_type": "stream",
     "text": [
      "C:\\Users\\vinde\\Anaconda3\\lib\\site-packages\\ipykernel_launcher.py:2: UserWarning: Boolean Series key will be reindexed to match DataFrame index.\n",
      "  \n"
     ]
    },
    {
     "data": {
      "text/html": [
       "<div>\n",
       "<style scoped>\n",
       "    .dataframe tbody tr th:only-of-type {\n",
       "        vertical-align: middle;\n",
       "    }\n",
       "\n",
       "    .dataframe tbody tr th {\n",
       "        vertical-align: top;\n",
       "    }\n",
       "\n",
       "    .dataframe thead th {\n",
       "        text-align: right;\n",
       "    }\n",
       "</style>\n",
       "<table border=\"1\" class=\"dataframe\">\n",
       "  <thead>\n",
       "    <tr style=\"text-align: right;\">\n",
       "      <th></th>\n",
       "      <th>usd_pledged_real</th>\n",
       "      <th>usd_pledged</th>\n",
       "      <th>pledged</th>\n",
       "      <th>currency</th>\n",
       "    </tr>\n",
       "  </thead>\n",
       "  <tbody>\n",
       "    <tr>\n",
       "      <th>1</th>\n",
       "      <td>2421.00</td>\n",
       "      <td>100.0</td>\n",
       "      <td>2421.00</td>\n",
       "      <td>USD</td>\n",
       "    </tr>\n",
       "    <tr>\n",
       "      <th>29</th>\n",
       "      <td>57577.31</td>\n",
       "      <td>10120.0</td>\n",
       "      <td>57577.31</td>\n",
       "      <td>USD</td>\n",
       "    </tr>\n",
       "    <tr>\n",
       "      <th>31</th>\n",
       "      <td>47266.00</td>\n",
       "      <td>11253.0</td>\n",
       "      <td>47266.00</td>\n",
       "      <td>USD</td>\n",
       "    </tr>\n",
       "    <tr>\n",
       "      <th>41</th>\n",
       "      <td>2100.00</td>\n",
       "      <td>83.0</td>\n",
       "      <td>2100.00</td>\n",
       "      <td>USD</td>\n",
       "    </tr>\n",
       "    <tr>\n",
       "      <th>43</th>\n",
       "      <td>856.00</td>\n",
       "      <td>324.0</td>\n",
       "      <td>856.00</td>\n",
       "      <td>USD</td>\n",
       "    </tr>\n",
       "    <tr>\n",
       "      <th>51</th>\n",
       "      <td>6.00</td>\n",
       "      <td>5.0</td>\n",
       "      <td>6.00</td>\n",
       "      <td>USD</td>\n",
       "    </tr>\n",
       "    <tr>\n",
       "      <th>71</th>\n",
       "      <td>141.00</td>\n",
       "      <td>100.0</td>\n",
       "      <td>141.00</td>\n",
       "      <td>USD</td>\n",
       "    </tr>\n",
       "    <tr>\n",
       "      <th>102</th>\n",
       "      <td>1055.00</td>\n",
       "      <td>0.0</td>\n",
       "      <td>1055.00</td>\n",
       "      <td>USD</td>\n",
       "    </tr>\n",
       "    <tr>\n",
       "      <th>103</th>\n",
       "      <td>156.00</td>\n",
       "      <td>1.0</td>\n",
       "      <td>156.00</td>\n",
       "      <td>USD</td>\n",
       "    </tr>\n",
       "    <tr>\n",
       "      <th>106</th>\n",
       "      <td>22.00</td>\n",
       "      <td>7.0</td>\n",
       "      <td>22.00</td>\n",
       "      <td>USD</td>\n",
       "    </tr>\n",
       "  </tbody>\n",
       "</table>\n",
       "</div>"
      ],
      "text/plain": [
       "     usd_pledged_real  usd_pledged   pledged currency\n",
       "1             2421.00        100.0   2421.00      USD\n",
       "29           57577.31      10120.0  57577.31      USD\n",
       "31           47266.00      11253.0  47266.00      USD\n",
       "41            2100.00         83.0   2100.00      USD\n",
       "43             856.00        324.0    856.00      USD\n",
       "51               6.00          5.0      6.00      USD\n",
       "71             141.00        100.0    141.00      USD\n",
       "102           1055.00          0.0   1055.00      USD\n",
       "103            156.00          1.0    156.00      USD\n",
       "106             22.00          7.0     22.00      USD"
      ]
     },
     "execution_count": 47,
     "metadata": {},
     "output_type": "execute_result"
    }
   ],
   "source": [
    "#df where currency is USD, and USD_pledged differs from pledged even though the currency did not change\n",
    "df[df['currency']=='USD'][['usd_pledged_real','usd_pledged','pledged','currency']][df['usd_pledged']!=df['pledged']].head(10)\n",
    "#46581 entries seem to have a conversion error from USD to USD \n",
    "#so how many others are there? How do other currencies look? Is Fixer.io good?"
   ]
  },
  {
   "cell_type": "code",
   "execution_count": 105,
   "metadata": {},
   "outputs": [
    {
     "data": {
      "text/plain": [
       "['GBP',\n",
       " 'USD',\n",
       " 'CAD',\n",
       " 'AUD',\n",
       " 'NOK',\n",
       " 'EUR',\n",
       " 'MXN',\n",
       " 'SEK',\n",
       " 'NZD',\n",
       " 'CHF',\n",
       " 'DKK',\n",
       " 'HKD',\n",
       " 'SGD',\n",
       " 'JPY']"
      ]
     },
     "execution_count": 105,
     "metadata": {},
     "output_type": "execute_result"
    }
   ],
   "source": [
    "#number of unique currencies\n",
    "print(df.currency.unique())"
   ]
  },
  {
   "cell_type": "code",
   "execution_count": 49,
   "metadata": {},
   "outputs": [],
   "source": [
    "#Google 28.02.2020\n",
    "to_usd={'GBP':1.29, 'USD':1, 'CAD':0.74, 'AUD':0.65, 'NOK':0.11, 'EUR':1.1, 'MXN':0.05, 'SEK':0.10, 'NZD':0.63,\n",
    "       'CHF':1.04, 'DKK':0.15, 'HKD':0.13, 'SGD':0.72, 'JPY':0.0092}\n",
    "\n",
    "#function to compare what Kickstarter sais he currency is vs what it should be with current exchange rate within in margin X%\n",
    "# inf values from deviding by 0 were marked with NaN and then replaced with the mean ignoring the NaNs\n",
    "def within_Xp(df,X,to_usd=to_usd,col_base='pledged',col_comp='usd_pledged'):\n",
    "    diff=df[col_base]*[to_usd[i] for i in df['currency']]/df[col_comp]\n",
    "    diff.replace([np.inf, -np.inf], np.nan,inplace=True)\n",
    "    diff.replace([np.nan], diff.mean(skipna=True),inplace=True)\n",
    "    stats=[diff.mean(),diff.std(),len(diff[(diff>(1+X)) | (diff<(1-X))]),len(diff[(diff>(1+X)) | (diff<(1-X))])/len(df)]\n",
    "    print(col_base,'vs',col_comp,'\\nmean,std,,#out of dataset outside','1+-'+str(X),'%out of dataset outside','1+-'+str(X),'\\n',stats)\n",
    "    return diff[(diff>(1+X)) | (diff<(1-X))],stats"
   ]
  },
  {
   "cell_type": "code",
   "execution_count": 50,
   "metadata": {},
   "outputs": [
    {
     "name": "stdout",
     "output_type": "stream",
     "text": [
      "pledged vs usd_pledged \n",
      "mean,std,,#out of dataset outside 1+-0.3 %out of dataset outside 1+-0.3 \n",
      " [6.747186426901537, 429.6821928757306, 119393, 0.3153064646896796]\n"
     ]
    },
    {
     "data": {
      "text/plain": [
       "<matplotlib.axes._subplots.AxesSubplot at 0x1a471de03c8>"
      ]
     },
     "execution_count": 50,
     "metadata": {},
     "output_type": "execute_result"
    },
    {
     "data": {
      "image/png": "[encoded data removed]",
      "text/plain": [
       "<Figure size 432x288 with 1 Axes>"
      ]
     },
     "metadata": {
      "needs_background": "light"
     },
     "output_type": "display_data"
    }
   ],
   "source": [
    "#Kickstarter conversion pledged to USD allowing a possible 30% change in currency since 2014\n",
    "diff,stats=within_Xp(df,0.3,to_usd=to_usd,col_base='pledged',col_comp='usd_pledged')\n",
    "diff.hist(bins=[0,1,2,3,4,5,6,7,8,9,10,20,50])"
   ]
  },
  {
   "cell_type": "code",
   "execution_count": 51,
   "metadata": {},
   "outputs": [],
   "source": [
    "# the big spike is the inf entries changed to the mean\n",
    "# 30% of the data is not within boundaries"
   ]
  },
  {
   "cell_type": "code",
   "execution_count": 52,
   "metadata": {},
   "outputs": [
    {
     "name": "stdout",
     "output_type": "stream",
     "text": [
      "pledged vs usd_pledged_real \n",
      "mean,std,,#out of dataset outside 1+-0.3 %out of dataset outside 1+-0.3 \n",
      " [0.979746957209836, 0.05246349647943328, 622, 0.0016426475675875528]\n"
     ]
    },
    {
     "data": {
      "text/plain": [
       "<matplotlib.axes._subplots.AxesSubplot at 0x1a46af84978>"
      ]
     },
     "execution_count": 52,
     "metadata": {},
     "output_type": "execute_result"
    },
    {
     "data": {
      "image/png": "[encoded data removed]",
      "text/plain": [
       "<Figure size 432x288 with 1 Axes>"
      ]
     },
     "metadata": {
      "needs_background": "light"
     },
     "output_type": "display_data"
    }
   ],
   "source": [
    "#Fixer.io conversion pledged to USD allowing a possible 30% change in currency since 2014\n",
    "diff,stats=within_Xp(df,0.3,to_usd=to_usd,col_base='pledged',col_comp='usd_pledged_real')\n",
    "diff.hist(bins=50)"
   ]
  },
  {
   "cell_type": "code",
   "execution_count": 53,
   "metadata": {},
   "outputs": [],
   "source": [
    "# at 40% there is no more outliers, so I believe it is best to drop pledged_usd and go with pledged_usd_real"
   ]
  },
  {
   "cell_type": "code",
   "execution_count": 54,
   "metadata": {},
   "outputs": [],
   "source": [
    "df.drop(columns='usd_pledged',inplace=True)"
   ]
  },
  {
   "cell_type": "code",
   "execution_count": 55,
   "metadata": {},
   "outputs": [
    {
     "data": {
      "text/plain": [
       "False"
      ]
     },
     "execution_count": 55,
     "metadata": {},
     "output_type": "execute_result"
    }
   ],
   "source": [
    "#check for duplicates\n",
    "df.duplicated().any()"
   ]
  },
  {
   "cell_type": "code",
   "execution_count": 56,
   "metadata": {},
   "outputs": [],
   "source": [
    "#set datetime\n",
    "df['launched']=pd.to_datetime(df['launched'])\n",
    "df['deadline']=pd.to_datetime(df['deadline'])"
   ]
  },
  {
   "cell_type": "markdown",
   "metadata": {},
   "source": [
    "## Categorical Features"
   ]
  },
  {
   "cell_type": "code",
   "execution_count": 57,
   "metadata": {},
   "outputs": [
    {
     "name": "stdout",
     "output_type": "stream",
     "text": [
      "\n",
      " ID int64\n",
      "\n",
      " name object\n",
      "\n",
      " category object\n",
      "{'Product Design': 0.05892668034659335, 'Documentary': 0.04262168664516964, 'Music': 0.04153363070007949, 'Tabletop Games': 0.03744813908101527, 'Shorts': 0.03263375561524018, 'Video Games': 0.031239353821532416, 'Food': 0.03035200722553657, 'Film & Video': 0.026694343429541776, 'Fiction': 0.024214526603231947, 'Fashion': 0.022590365423060976, 'Nonfiction': 0.021967110075873417, 'Art': 0.021795450764148027, 'Apparel': 0.018924778889601937, 'Theater': 0.0186369194284009, 'Technology': 0.018301523542414374} \n",
      "\n",
      "\n",
      " main_category object\n",
      "{'Film & Video': 0.16791977964226198, 'Music': 0.13711089455628708, 'Publishing': 0.10530374454981685, 'Games': 0.09303934695515995, 'Technology': 0.08601187882437139, 'Design': 0.07940959760416419, 'Art': 0.07434696836450931, 'Food': 0.06497172903181507, 'Fashion': 0.06025505932809905, 'Theater': 0.028820277982448496, 'Comics': 0.028572032208568705, 'Photography': 0.02846639570904539, 'Crafts': 0.02326379810752211, 'Journalism': 0.012557538880834105, 'Dance': 0.009950958255096301} \n",
      "\n",
      "\n",
      " currency object\n",
      "{'USD': 0.7800251943051363, 'GBP': 0.09013698413075685, 'EUR': 0.045965081855082565, 'CAD': 0.039513332646696084, 'AUD': 0.020995254280258915, 'SEK': 0.004721951528692194, 'MXN': 0.00462687867912121, 'NZD': 0.0038953459199222514, 'DKK': 0.0029815901990455744, 'CHF': 0.0020282207908476537, 'NOK': 0.0019067388163958412, 'HKD': 0.0016320839176352214, 'SGD': 0.0014657064308859998, 'JPY': 0.00010563649952331529} \n",
      "\n",
      "\n",
      " deadline datetime64[ns]\n",
      "\n",
      " goal float64\n",
      "\n",
      " launched datetime64[ns]\n",
      "\n",
      " pledged float64\n",
      "\n",
      " state object\n",
      "{'failed': 0.5221506534937952, 'successful': 0.3537660732536306, 'canceled': 0.10241194537536609, 'undefined': 0.009406930282551226, 'live': 0.007391914054143988, 'suspended': 0.004872483540512918} \n",
      "\n",
      "\n",
      " backers int64\n",
      "\n",
      " country object\n",
      "{'US': 0.7727943759127653, 'GB': 0.08892216438623873, 'CA': 0.038969304674151016, 'AU': 0.020702112994081714, 'DE': 0.011015245987793703, 'N,0\"': 0.010027544717250704, 'FR': 0.007761641802475592, 'IT': 0.007600546140702535, 'NL': 0.007574137015821707, 'ES': 0.00601071682287664, 'SE': 0.004640083241561625, 'MX': 0.00462687867912121, 'NZ': 0.003821400370255931, 'DK': 0.0029393355992362482, 'IE': 0.0021417800278352175} \n",
      "\n",
      "\n",
      " usd_pledged_real float64\n",
      "\n",
      " usd_goal_real float64\n"
     ]
    }
   ],
   "source": [
    "#the categorical features and the contribution of the top 15 features to the data\n",
    "for i in df.columns:\n",
    "    print('\\n',i,df[i].dtype)\n",
    "    if df[i].dtype=='object' and i!='name':\n",
    "        #print('# of categories in',i,len(df[i].unique()),'\\n',df[i].unique())\n",
    "        p={e:(df[i]==e).sum()/len(df) for e in df[i].unique()}\n",
    "        p_sorted={k: v for k, v in sorted(p.items(), key=lambda item: item[1],reverse=True)}\n",
    "        print({x:p_sorted[x] for c,x in enumerate(p_sorted) if c<15 },'\\n')"
   ]
  },
  {
   "cell_type": "code",
   "execution_count": 58,
   "metadata": {},
   "outputs": [
    {
     "name": "stdout",
     "output_type": "stream",
     "text": [
      "{'failed': 0.5221506534937952, 'successful': 0.3537660732536306, 'canceled': 0.10241194537536609, 'undefined': 0.009406930282551226, 'live': 0.007391914054143988, 'suspended': 0.004872483540512918}\n"
     ]
    }
   ],
   "source": [
    "state_p={i:(df.state==i).sum()/len(df) for i in df.state.unique()}\n",
    "state_p_sorted={k: v for k, v in sorted(state_p.items(), key=lambda item: item[1],reverse=True)}\n",
    "\n",
    "print(state_p_sorted)"
   ]
  },
  {
   "cell_type": "markdown",
   "metadata": {},
   "source": [
    "https://www.kaggle.com/kemical/kickstarter-projects/discussion/67067\n",
    "This user hinted that there are successful project without backers\n",
    "We will remove them"
   ]
  },
  {
   "cell_type": "code",
   "execution_count": 59,
   "metadata": {},
   "outputs": [
    {
     "name": "stdout",
     "output_type": "stream",
     "text": [
      "0 backers and succeeded: 105\n"
     ]
    }
   ],
   "source": [
    "print('0 backers and succeeded:',((df.backers==0)&(df.state=='successful')).sum())\n",
    "df[(df.backers==0)&(df.state=='successful')].country.unique()\n",
    "df=df[~((df.backers==0)&(df.state=='successful'))]"
   ]
  },
  {
   "cell_type": "code",
   "execution_count": 60,
   "metadata": {},
   "outputs": [
    {
     "data": {
      "text/plain": [
       "Index(['ID', 'name', 'category', 'main_category', 'currency', 'deadline',\n",
       "       'goal', 'launched', 'pledged', 'state', 'backers', 'country',\n",
       "       'usd_pledged_real', 'usd_goal_real'],\n",
       "      dtype='object')"
      ]
     },
     "execution_count": 60,
     "metadata": {},
     "output_type": "execute_result"
    }
   ],
   "source": [
    "df.columns"
   ]
  },
  {
   "cell_type": "code",
   "execution_count": 61,
   "metadata": {},
   "outputs": [
    {
     "name": "stdout",
     "output_type": "stream",
     "text": [
      "{'US': 0.7730087279950971, 'GB': 0.08894682896933578, 'CA': 0.038980113696401024, 'AU': 0.020707855195587398, 'DE': 0.01101830131659587, 'N,0\"': 0.00975295335911579, 'FR': 0.007763794670217037, 'IT': 0.007602654324901203, 'NL': 0.007576237874849426, 'ES': 0.006012384031784273, 'SE': 0.004641370274097086, 'MX': 0.0046281620490711975, 'NZ': 0.0038224603224920224, 'DK': 0.0029401508907626957, 'IE': 0.0021423740991990533, 'CH': 0.002010291848940172, 'NO': 0.001870284663665758, 'HK': 0.0016325366131997717, 'BE': 0.0016298949681945942, 'AT': 0.0015770620680910417, 'SG': 0.0014661129778735815, 'LU': 0.0001637819903210127, 'JP': 0.00010566580020710496}\n"
     ]
    }
   ],
   "source": [
    "country_p={i:(df.country==i).sum()/len(df) for i in df.country.unique()}\n",
    "country_p_sorted={k: v for k, v in sorted(country_p.items(), key=lambda item: item[1],reverse=True)}\n",
    "\n",
    "print(country_p_sorted)"
   ]
  },
  {
   "cell_type": "code",
   "execution_count": 62,
   "metadata": {},
   "outputs": [
    {
     "name": "stdout",
     "output_type": "stream",
     "text": [
      "Empty?? ID                  0\n",
      "name                0\n",
      "category            0\n",
      "main_category       0\n",
      "currency            0\n",
      "deadline            0\n",
      "goal                0\n",
      "launched            0\n",
      "pledged             0\n",
      "state               0\n",
      "backers             0\n",
      "country             0\n",
      "usd_pledged_real    0\n",
      "usd_goal_real       0\n",
      "dtype: int64\n"
     ]
    }
   ],
   "source": [
    "test = df[df['ID'] == 948525980]\n",
    "\n",
    "print('Empty??', test.isna().sum())"
   ]
  },
  {
   "cell_type": "code",
   "execution_count": 63,
   "metadata": {},
   "outputs": [
    {
     "data": {
      "text/html": [
       "<div>\n",
       "<style scoped>\n",
       "    .dataframe tbody tr th:only-of-type {\n",
       "        vertical-align: middle;\n",
       "    }\n",
       "\n",
       "    .dataframe tbody tr th {\n",
       "        vertical-align: top;\n",
       "    }\n",
       "\n",
       "    .dataframe thead th {\n",
       "        text-align: right;\n",
       "    }\n",
       "</style>\n",
       "<table border=\"1\" class=\"dataframe\">\n",
       "  <thead>\n",
       "    <tr style=\"text-align: right;\">\n",
       "      <th></th>\n",
       "      <th>ID</th>\n",
       "      <th>name</th>\n",
       "      <th>category</th>\n",
       "      <th>main_category</th>\n",
       "      <th>currency</th>\n",
       "      <th>deadline</th>\n",
       "      <th>goal</th>\n",
       "      <th>launched</th>\n",
       "      <th>pledged</th>\n",
       "      <th>state</th>\n",
       "      <th>backers</th>\n",
       "      <th>country</th>\n",
       "      <th>usd_pledged_real</th>\n",
       "      <th>usd_goal_real</th>\n",
       "    </tr>\n",
       "  </thead>\n",
       "  <tbody>\n",
       "    <tr>\n",
       "      <th>368719</th>\n",
       "      <td>948525980</td>\n",
       "      <td>Oceanus -\\tA game like no other.</td>\n",
       "      <td>Video Games</td>\n",
       "      <td>Games</td>\n",
       "      <td>USD</td>\n",
       "      <td>2014-02-23</td>\n",
       "      <td>40000.0</td>\n",
       "      <td>2014-01-24 04:55:18</td>\n",
       "      <td>20.0</td>\n",
       "      <td>failed</td>\n",
       "      <td>8</td>\n",
       "      <td>US</td>\n",
       "      <td>20.0</td>\n",
       "      <td>40000.0</td>\n",
       "    </tr>\n",
       "  </tbody>\n",
       "</table>\n",
       "</div>"
      ],
      "text/plain": [
       "               ID                              name     category  \\\n",
       "368719  948525980  Oceanus -\\tA game like no other.  Video Games   \n",
       "\n",
       "       main_category currency   deadline     goal            launched  \\\n",
       "368719         Games      USD 2014-02-23  40000.0 2014-01-24 04:55:18   \n",
       "\n",
       "        pledged   state  backers country  usd_pledged_real  usd_goal_real  \n",
       "368719     20.0  failed        8      US              20.0        40000.0  "
      ]
     },
     "execution_count": 63,
     "metadata": {},
     "output_type": "execute_result"
    }
   ],
   "source": [
    "test"
   ]
  },
  {
   "cell_type": "code",
   "execution_count": null,
   "metadata": {},
   "outputs": [],
   "source": []
  },
  {
   "cell_type": "code",
   "execution_count": 64,
   "metadata": {},
   "outputs": [
    {
     "name": "stdout",
     "output_type": "stream",
     "text": [
      "               backers         usd_pledged_real               usd_goal_real\n",
      "0                    0                        0                           0\n",
      "1              105.648                  9053.01                     45465.2\n",
      "2                   12                   623.35                        5500\n",
      "3              907.314                  90876.3                 1.15312e+06\n",
      "4                    0                        0                        0.01\n",
      "5               219382               2.0339e+07                 1.66361e+08\n",
      "6  0    0\n",
      "dtype: int64  0    0.0\n",
      "dtype: float64  0    5000.0\n",
      "dtype: float64\n"
     ]
    }
   ],
   "source": [
    "sum1 = df[['backers', 'usd_pledged_real', 'usd_goal_real']]\n",
    "summary1 = {}\n",
    "for columns in sum1.columns:\n",
    "    summary1.update({columns : pd.Series([df[columns].count() - len(df.index), df[columns].mean(), df[columns].median(),\n",
    "    df[columns].std(), df[columns].min(), df[columns].max(), df[columns].mode()])})\n",
    "summary1 = pd.DataFrame(summary1)\n",
    "print(summary1)"
   ]
  },
  {
   "cell_type": "code",
   "execution_count": null,
   "metadata": {},
   "outputs": [],
   "source": []
  },
  {
   "cell_type": "code",
   "execution_count": 188,
   "metadata": {},
   "outputs": [
    {
     "name": "stdout",
     "output_type": "stream",
     "text": [
      "[[<matplotlib.axes._subplots.AxesSubplot object at 0x000001A47B0A6940>]]\n"
     ]
    },
    {
     "data": {
      "image/png": "[encoded data removed]",
      "text/plain": [
       "<Figure size 432x288 with 1 Axes>"
      ]
     },
     "metadata": {
      "needs_background": "light"
     },
     "output_type": "display_data"
    }
   ],
   "source": [
    "sum2 = df[['usd_goal_real']]\n",
    "\n",
    "hist = sum2.hist(bins = [0,10,100,1000, 10000, 100000,1000000])\n",
    "print(hist)\n",
    "\n"
   ]
  },
  {
   "cell_type": "code",
   "execution_count": 230,
   "metadata": {},
   "outputs": [
    {
     "name": "stdout",
     "output_type": "stream",
     "text": [
      "0     3.186094\n",
      "1     4.477136\n",
      "2     4.653222\n",
      "3     3.699057\n",
      "4     4.290057\n",
      "5     4.698979\n",
      "6     3.000434\n",
      "7     4.397957\n",
      "8     5.096913\n",
      "9     4.812920\n",
      "10    3.381546\n",
      "11    4.096945\n",
      "12    3.699057\n",
      "13    5.301032\n",
      "14    3.810953\n",
      "15    3.398114\n",
      "16    3.176381\n",
      "17    3.477266\n",
      "18    2.399674\n",
      "19    3.699057\n",
      "Name: usd_goal_real, dtype: float64\n",
      "stdev 0.7375053660295954\n",
      "mean 3.752965590339756\n"
     ]
    },
    {
     "data": {
      "text/plain": [
       "<matplotlib.axes._subplots.AxesSubplot at 0x1a47bc6c048>"
      ]
     },
     "execution_count": 230,
     "metadata": {},
     "output_type": "execute_result"
    },
    {
     "data": {
      "image/png": "[encoded data removed]",
      "text/plain": [
       "<Figure size 432x288 with 1 Axes>"
      ]
     },
     "metadata": {
      "needs_background": "light"
     },
     "output_type": "display_data"
    }
   ],
   "source": [
    "a = df['usd_goal_real']\n",
    "a = a+1\n",
    "a = np.log10(a)\n",
    "print(a.head(20))\n",
    "\n",
    "stdev = a.std()\n",
    "print('stdev', stdev)\n",
    "mean = a.mean()\n",
    "print('mean', mean)\n",
    "a = (a-mean)/stdev\n",
    "a.hist(bins = 100)"
   ]
  },
  {
   "cell_type": "code",
   "execution_count": 96,
   "metadata": {},
   "outputs": [
    {
     "name": "stdout",
     "output_type": "stream",
     "text": [
      "[[<matplotlib.axes._subplots.AxesSubplot object at 0x000001A473D28438>]]\n"
     ]
    },
    {
     "data": {
      "image/png": "[encoded data removed]",
      "text/plain": [
       "<Figure size 432x288 with 1 Axes>"
      ]
     },
     "metadata": {
      "needs_background": "light"
     },
     "output_type": "display_data"
    }
   ],
   "source": [
    "sum2 = df[['usd_pledged_real']]\n",
    "a.hist(bins = 100)#sum2 = sum2[sum2['pledged_real']]\n",
    "hist = sum2.hist()\n",
    "print(hist)"
   ]
  },
  {
   "cell_type": "code",
   "execution_count": 111,
   "metadata": {},
   "outputs": [
    {
     "ename": "TypeError",
     "evalue": "list expected at most 1 arguments, got 4",
     "output_type": "error",
     "traceback": [
      "\u001b[1;31m---------------------------------------------------------------------------\u001b[0m",
      "\u001b[1;31mTypeError\u001b[0m                                 Traceback (most recent call last)",
      "\u001b[1;32m<ipython-input-111-de3e829430a5>\u001b[0m in \u001b[0;36m<module>\u001b[1;34m\u001b[0m\n\u001b[0;32m      6\u001b[0m \u001b[0mu_state\u001b[0m \u001b[1;33m=\u001b[0m \u001b[0mlist\u001b[0m\u001b[1;33m(\u001b[0m\u001b[0mcategorical\u001b[0m\u001b[1;33m.\u001b[0m\u001b[0mstate\u001b[0m\u001b[1;33m.\u001b[0m\u001b[0munique\u001b[0m\u001b[1;33m(\u001b[0m\u001b[1;33m)\u001b[0m\u001b[1;33m)\u001b[0m\u001b[1;33m\u001b[0m\u001b[1;33m\u001b[0m\u001b[0m\n\u001b[0;32m      7\u001b[0m \u001b[1;33m\u001b[0m\u001b[0m\n\u001b[1;32m----> 8\u001b[1;33m \u001b[0munique\u001b[0m \u001b[1;33m=\u001b[0m \u001b[0mlist\u001b[0m\u001b[1;33m(\u001b[0m\u001b[0mu_category\u001b[0m\u001b[1;33m,\u001b[0m \u001b[0mu_main_category\u001b[0m\u001b[1;33m,\u001b[0m \u001b[0mu_currency\u001b[0m\u001b[1;33m,\u001b[0m \u001b[0mu_state\u001b[0m\u001b[1;33m)\u001b[0m\u001b[1;33m\u001b[0m\u001b[1;33m\u001b[0m\u001b[0m\n\u001b[0m\u001b[0;32m      9\u001b[0m \u001b[1;33m\u001b[0m\u001b[0m\n\u001b[0;32m     10\u001b[0m \u001b[0mprint\u001b[0m\u001b[1;33m(\u001b[0m\u001b[0mcategorical\u001b[0m\u001b[1;33m.\u001b[0m\u001b[0mcolumns\u001b[0m\u001b[1;33m)\u001b[0m\u001b[1;33m\u001b[0m\u001b[1;33m\u001b[0m\u001b[0m\n",
      "\u001b[1;31mTypeError\u001b[0m: list expected at most 1 arguments, got 4"
     ]
    }
   ],
   "source": [
    "categorical = df[['category', 'main_category', 'currency', 'state']]\n",
    "\n",
    "u_category = list(categorical.category.unique())\n",
    "u_main_category = list(categorical.main_category.unique())\n",
    "u_currency = list(categorical.currency.unique())\n",
    "u_state = list(categorical.state.unique())\n",
    "\n",
    "unique = list(u_category, u_main_category, u_currency, u_state)\n",
    "\n",
    "print(categorical.columns)"
   ]
  },
  {
   "cell_type": "code",
   "execution_count": 122,
   "metadata": {},
   "outputs": [
    {
     "name": "stdout",
     "output_type": "stream",
     "text": [
      "                ID                                               name  \\\n",
      "5       1000014025                               Monarch Espresso Bar   \n",
      "6       1000023410  Support Solar Roasted Coffee & Green Energy!  ...   \n",
      "11       100005484                                   Lisa Lim New CD!   \n",
      "18      1000070642                Mike Corey's Darkness & Light Album   \n",
      "20      1000072011              CMUK. Shoes: Take on Life Feet First.   \n",
      "24      1000091520                        The Book Zoo - A Mini-Comic   \n",
      "25      1000102741  Matt Cavenaugh & Jenny Powers make their 1st a...   \n",
      "29       100011318                      My Moon - Animated Short Film   \n",
      "31      1000117861                  Ledr workbook: one tough journal!   \n",
      "34       100012079            Chris Eger Band - New Nashville Record!   \n",
      "36      1000131947                         Arrows & Sound Debut Album   \n",
      "37      1000132945  Zen in America: a film on Zen Buddhism in Nort...   \n",
      "39      1000146991             Help Scott Reynolds Make a New Record!   \n",
      "41      1000153208    Phil Younger - Slow Down (Official Music Video)   \n",
      "42      1000160286                          \"THE RETURN\" book project   \n",
      "44      1000171141             The Please, Please Me: Studio Premiere   \n",
      "46      1000183112                            Hot Chicken Takes Over.   \n",
      "47      1000184224                               Star and the Snowman   \n",
      "48      1000190427                                       Seas of Iron   \n",
      "50      1000201265  I'LL SEE YOU IN MY DREAMS - narrative feature ...   \n",
      "53      1000212914                       A Teacher's Travels in China   \n",
      "54      1000216800  Mothers Into Living Fit Yoga DVD for Moms and ...   \n",
      "57      1000227361                                         UNDERWATER   \n",
      "59      1000232288                                     Empires at Sea   \n",
      "63      1000235643                                     HIIT Bottleâ¢   \n",
      "66      1000252415  Pantochino Productions: \"Cinderella Skeleton, ...   \n",
      "72      1000268182       My Future Just Passed - Debut CD - Jazz Trio   \n",
      "77      1000294559                              Secular Solstice 2014   \n",
      "82      1000332383                                  Road to the Shire   \n",
      "83      1000333671                   Spiral Electric Skylab Recording   \n",
      "...            ...                                                ...   \n",
      "378546   999402669                                         Canterbury   \n",
      "378553    99943719  THE KISSING BANDIT: children's book & puppet.....   \n",
      "378556   999449589  When Age Has No Leash.    Lessons learned from...   \n",
      "378559   999462268  Not My President T-shirt Multilingual Text, Am...   \n",
      "378560   999477157      HYBRID a Local Art Productions group Art Show   \n",
      "378561   999477658                       Cidery Tasting Room Buildout   \n",
      "378562   999481541  CNC BT15/ISO15 ATC Spindle Cartridge and Spind...   \n",
      "378564   999489456               Cthulhu's Chaos - Unique Dice Towers   \n",
      "378577   999565609                              HELP UNRB GO ON TOUR!   \n",
      "378582   999587299                        Arcane Sally & Mr. Steam #2   \n",
      "378594   999667180                       VARIANT WARS - The Prisoners   \n",
      "378595   999668351                                       CAT in WATER   \n",
      "378600   999687927                    Reese and Reeves 2: A new novel   \n",
      "378602   999696660                                    Objects Attack!   \n",
      "378604   999704525                       NARCOS: Webseries / TV Pilot   \n",
      "378609   999725304                            The Mangled (Re-launch)   \n",
      "378610   999741441                                          CORPOREAL   \n",
      "378612   999754150                         31â¢13: Thesis Exhibition   \n",
      "378613   999762532                   Traverse City Dance Project 2012   \n",
      "378614   999763489                      Kronos: Under 30 Project / #5   \n",
      "378617    99977482     Language of Love -  a new CD from Lisa Deveaux   \n",
      "378621   999796570                                        M A V A R I   \n",
      "378622   999799441                        The Hollywood Kills On Tour   \n",
      "378623   999800713                                   BETTER DESPERATE   \n",
      "378625   999801508                               Competition Finalist   \n",
      "378631   999832803  MONSTROCARDS- A Creative Drawing Game of Horri...   \n",
      "378637   999878813                           Ways to Look at the Moon   \n",
      "378639   999884445  Superette Tea - Boldly Caffeinated Loose Leaf Tea   \n",
      "378644   999934908                               The Manual Bar Blade   \n",
      "378646   999943841                                The Dog Coffee Book   \n",
      "\n",
      "                category main_category currency   deadline     goal  \\\n",
      "5            Restaurants          Food      USD 2016-04-01  50000.0   \n",
      "6                   Food          Food      USD 2014-12-21   1000.0   \n",
      "11            Indie Rock         Music      USD 2013-04-08  12500.0   \n",
      "18                 Music         Music      USD 2012-08-17    250.0   \n",
      "20               Fashion       Fashion      USD 2013-12-30  20000.0   \n",
      "24                Comics        Comics      USD 2014-11-12    175.0   \n",
      "25                 Music         Music      USD 2011-01-06  10000.0   \n",
      "29             Animation  Film & Video      USD 2017-05-03  50000.0   \n",
      "31        Product Design        Design      USD 2016-10-08   1000.0   \n",
      "34                 Music         Music      USD 2014-08-13  12000.0   \n",
      "36            Indie Rock         Music      USD 2012-05-19   4000.0   \n",
      "37           Documentary  Film & Video      USD 2013-10-21  10000.0   \n",
      "39            Indie Rock         Music      USD 2012-09-02  15000.0   \n",
      "41                 Music         Music      USD 2016-12-20   2100.0   \n",
      "42           Photography   Photography      USD 2013-12-13  15000.0   \n",
      "44                   Pop         Music      USD 2012-09-01  10000.0   \n",
      "46           Restaurants          Food      USD 2014-10-16  40000.0   \n",
      "47        Narrative Film  Film & Video      USD 2013-02-23   8000.0   \n",
      "48        Tabletop Games         Games      USD 2013-07-19   3000.0   \n",
      "50        Narrative Film  Film & Video      USD 2014-02-05  60000.0   \n",
      "53           Photography   Photography      USD 2012-05-13   4000.0   \n",
      "54                Family  Film & Video      USD 2014-06-19  11000.0   \n",
      "57          Film & Video  Film & Video      USD 2012-03-26   9500.0   \n",
      "59        Tabletop Games         Games      USD 2015-06-23  25000.0   \n",
      "63                Drinks          Food      USD 2015-04-27  15000.0   \n",
      "66               Theater       Theater      USD 2011-07-08  15000.0   \n",
      "72                  Jazz         Music      USD 2014-12-03   4000.0   \n",
      "77             Festivals       Theater      USD 2014-10-27   7500.0   \n",
      "82           Documentary  Film & Video      USD 2012-02-14   4000.0   \n",
      "83                  Rock         Music      USD 2015-02-26    500.0   \n",
      "...                  ...           ...      ...        ...      ...   \n",
      "378546    Tabletop Games         Games      USD 2013-06-02  50000.0   \n",
      "378553  Children's Books    Publishing      USD 2014-09-16  20000.0   \n",
      "378556           Animals   Photography      USD 2014-10-03  16000.0   \n",
      "378559           Apparel       Fashion      USD 2017-09-23     20.0   \n",
      "378560        Public Art           Art      USD 2011-09-18   4300.0   \n",
      "378561            Spaces          Food      USD 2017-09-09  10000.0   \n",
      "378562          Hardware    Technology      USD 2013-08-16   7500.0   \n",
      "378564    Tabletop Games         Games      USD 2013-10-12   1000.0   \n",
      "378577              Rock         Music      USD 2012-07-07   1000.0   \n",
      "378582       Comic Books        Comics      USD 2016-09-19   1500.0   \n",
      "378594           Fiction    Publishing      USD 2017-07-07    325.0   \n",
      "378595        Journalism    Journalism      USD 2011-05-27   7500.0   \n",
      "378600           Fiction    Publishing      USD 2015-08-02   1000.0   \n",
      "378602    Narrative Film  Film & Video      USD 2011-08-04   5500.0   \n",
      "378604      Film & Video  Film & Video      USD 2013-05-05   1000.0   \n",
      "378609    Narrative Film  Film & Video      USD 2013-12-12   5000.0   \n",
      "378610             Dance         Dance      USD 2013-05-15    500.0   \n",
      "378612       Mixed Media           Art      USD 2013-03-20   8000.0   \n",
      "378613             Dance         Dance      USD 2012-05-18   7000.0   \n",
      "378614   Classical Music         Music      USD 2012-02-01  10000.0   \n",
      "378617        Indie Rock         Music      USD 2011-04-05   5000.0   \n",
      "378621           Apparel       Fashion      USD 2015-01-01  30000.0   \n",
      "378622              Rock         Music      USD 2012-05-04  10000.0   \n",
      "378623      Music Videos  Film & Video      USD 2016-05-07    300.0   \n",
      "378625           Fashion       Fashion      USD 2013-06-13   4000.0   \n",
      "378631     Playing Cards         Games      USD 2014-10-03  10000.0   \n",
      "378637            Shorts  Film & Video      USD 2017-10-13  10000.0   \n",
      "378639            Drinks          Food      USD 2015-12-03   5000.0   \n",
      "378644    Product Design        Design      USD 2015-12-15   3500.0   \n",
      "378646  Children's Books    Publishing      USD 2013-11-30    950.0   \n",
      "\n",
      "                  launched    pledged       state  backers country  \\\n",
      "5      2016-02-26 13:38:27   52375.00  successful      224      US   \n",
      "6      2014-12-01 18:30:44    1205.00  successful       16      US   \n",
      "11     2013-03-09 06:42:58   12700.00  successful      100      US   \n",
      "18     2012-08-02 14:11:32     250.00  successful        7      US   \n",
      "20     2013-11-25 07:06:11   34268.00  successful      624      US   \n",
      "24     2014-10-23 17:15:50     701.66  successful       66      US   \n",
      "25     2010-12-07 23:16:50   15827.00  successful      147      US   \n",
      "29     2017-04-03 17:11:33   57577.31  successful      840      US   \n",
      "31     2016-09-07 13:14:26   47266.00  successful      549      US   \n",
      "34     2014-07-14 22:35:51   13260.00  successful       92      US   \n",
      "36     2012-04-19 01:04:31    8641.34  successful      157      US   \n",
      "37     2013-09-21 23:00:54   15663.00  successful      213      US   \n",
      "39     2012-08-03 18:43:16   17499.99  successful      277      US   \n",
      "41     2016-12-09 20:27:02    2100.00  successful       34      US   \n",
      "42     2013-11-13 00:34:20   23907.00  successful      232      US   \n",
      "44     2012-07-15 03:27:33   12656.00  successful      181      US   \n",
      "46     2014-09-16 02:31:08   63401.00  successful      855      US   \n",
      "47     2013-01-24 06:04:05    9401.00  successful      154      US   \n",
      "48     2013-06-19 03:16:33    8105.00  successful      218      US   \n",
      "50     2014-01-11 00:57:14   61365.16  successful      632      US   \n",
      "53     2012-04-18 23:34:56    4866.17  successful       71      US   \n",
      "54     2014-05-20 17:18:29   11055.00  successful       51      US   \n",
      "57     2012-02-13 19:00:37    9660.00  successful      121      US   \n",
      "59     2015-05-24 12:47:52   37199.00  successful      448      US   \n",
      "63     2015-03-13 18:33:08  124998.00  successful     2784      US   \n",
      "66     2011-05-09 15:08:51   15425.00  successful      144      US   \n",
      "72     2014-11-03 21:11:44    4795.00  successful       95      US   \n",
      "77     2014-10-02 01:50:58    8157.01  successful      164      US   \n",
      "82     2012-01-11 20:13:55    4045.00  successful       29      US   \n",
      "83     2015-02-04 18:54:23    1540.00  successful       31      US   \n",
      "...                    ...        ...         ...      ...     ...   \n",
      "378546 2013-05-01 05:41:04   58355.50  successful      709      US   \n",
      "378553 2014-08-01 09:36:36   20425.00  successful      353      US   \n",
      "378556 2014-08-29 23:52:12   16750.00  successful      136      US   \n",
      "378559 2017-08-29 02:48:25      51.00  successful        3      US   \n",
      "378560 2011-08-29 21:45:12    4307.05  successful       20      US   \n",
      "378561 2017-08-25 01:57:15   10746.00  successful       98      US   \n",
      "378562 2013-06-27 10:16:19   17910.00  successful       29      US   \n",
      "378564 2013-08-13 07:11:56   28931.00  successful      368      US   \n",
      "378577 2012-05-30 02:09:48    2035.05  successful       34      US   \n",
      "378582 2016-08-26 01:09:58    6771.00  successful      285      US   \n",
      "378594 2017-06-30 03:51:43     425.00  successful        7      US   \n",
      "378595 2011-02-25 00:25:31    8462.00  successful      123      US   \n",
      "378600 2015-06-03 22:36:30    1214.00  successful       47      US   \n",
      "378602 2011-07-05 21:25:03    6023.00  successful       79      US   \n",
      "378604 2013-04-05 22:09:08    1303.00  successful       19      US   \n",
      "378609 2013-10-28 18:37:30   15052.00  successful       87      US   \n",
      "378610 2013-04-25 01:59:29     505.00  successful       14      US   \n",
      "378612 2013-02-18 18:46:29    8935.00  successful      121      US   \n",
      "378613 2012-04-08 22:49:06    7120.00  successful       75      US   \n",
      "378614 2011-12-12 21:19:01   12300.00  successful      162      US   \n",
      "378617 2011-02-03 05:21:45    5025.00  successful       31      US   \n",
      "378621 2014-11-30 03:11:48   42647.00  successful      215      US   \n",
      "378622 2012-03-05 23:12:03   10300.00  successful       78      US   \n",
      "378623 2016-04-07 20:04:26     300.00  successful        5      US   \n",
      "378625 2013-05-14 01:18:54    4005.00  successful       14      US   \n",
      "378631 2014-09-03 19:53:50   13861.50  successful      413      US   \n",
      "378637 2017-08-29 06:57:28   10245.00  successful      123      US   \n",
      "378639 2015-11-03 13:04:14    5579.00  successful      103      US   \n",
      "378644 2015-11-23 07:33:14    6169.00  successful      120      US   \n",
      "378646 2013-10-18 21:35:04    1732.02  successful       31      US   \n",
      "\n",
      "        usd_pledged_real  usd_goal_real  \n",
      "5               52375.00        50000.0  \n",
      "6                1205.00         1000.0  \n",
      "11              12700.00        12500.0  \n",
      "18                250.00          250.0  \n",
      "20              34268.00        20000.0  \n",
      "24                701.66          175.0  \n",
      "25              15827.00        10000.0  \n",
      "29              57577.31        50000.0  \n",
      "31              47266.00         1000.0  \n",
      "34              13260.00        12000.0  \n",
      "36               8641.34         4000.0  \n",
      "37              15663.00        10000.0  \n",
      "39              17499.99        15000.0  \n",
      "41               2100.00         2100.0  \n",
      "42              23907.00        15000.0  \n",
      "44              12656.00        10000.0  \n",
      "46              63401.00        40000.0  \n",
      "47               9401.00         8000.0  \n",
      "48               8105.00         3000.0  \n",
      "50              61365.16        60000.0  \n",
      "53               4866.17         4000.0  \n",
      "54              11055.00        11000.0  \n",
      "57               9660.00         9500.0  \n",
      "59              37199.00        25000.0  \n",
      "63             124998.00        15000.0  \n",
      "66              15425.00        15000.0  \n",
      "72               4795.00         4000.0  \n",
      "77               8157.01         7500.0  \n",
      "82               4045.00         4000.0  \n",
      "83               1540.00          500.0  \n",
      "...                  ...            ...  \n",
      "378546          58355.50        50000.0  \n",
      "378553          20425.00        20000.0  \n",
      "378556          16750.00        16000.0  \n",
      "378559             51.00           20.0  \n",
      "378560           4307.05         4300.0  \n",
      "378561          10746.00        10000.0  \n",
      "378562          17910.00         7500.0  \n",
      "378564          28931.00         1000.0  \n",
      "378577           2035.05         1000.0  \n",
      "378582           6771.00         1500.0  \n",
      "378594            425.00          325.0  \n",
      "378595           8462.00         7500.0  \n",
      "378600           1214.00         1000.0  \n",
      "378602           6023.00         5500.0  \n",
      "378604           1303.00         1000.0  \n",
      "378609          15052.00         5000.0  \n",
      "378610            505.00          500.0  \n",
      "378612           8935.00         8000.0  \n",
      "378613           7120.00         7000.0  \n",
      "378614          12300.00        10000.0  \n",
      "378617           5025.00         5000.0  \n",
      "378621          42647.00        30000.0  \n",
      "378622          10300.00        10000.0  \n",
      "378623            300.00          300.0  \n",
      "378625           4005.00         4000.0  \n",
      "378631          13861.50        10000.0  \n",
      "378637          10245.00        10000.0  \n",
      "378639           5579.00         5000.0  \n",
      "378644           6169.00         3500.0  \n",
      "378646           1732.02          950.0  \n",
      "\n",
      "[109299 rows x 14 columns]\n"
     ]
    }
   ],
   "source": [
    "test = df[(df['country'] == 'US') & (df['state'] == 'successful')]\n",
    "print(test)"
   ]
  },
  {
   "cell_type": "code",
   "execution_count": 168,
   "metadata": {},
   "outputs": [],
   "source": [
    "plot_dict = {}\n",
    "def cat_plots(attribute, df):\n",
    "    for cat in df[attribute].unique():    \n",
    "        success = df[(df[attribute] == cat) & (df['state'] == 'successful')]\n",
    "        fail = df[(df[attribute] == cat) & (df['state'] == 'failed')]\n",
    "        plot_dict.update({cat : [len(success.index), len(fail.index)]})\n",
    "    \n",
    "    \n",
    "    labels = list()\n",
    "    s = list()\n",
    "    f = list()\n",
    "    for key in plot_dict:\n",
    "        labels.append(key)\n",
    "        s.append(plot_dict[key][0]/(plot_dict[key][0] + plot_dict[key][1])*100)\n",
    "        f.append(plot_dict[key][1]/(plot_dict[key][0] + plot_dict[key][1])*100)\n",
    "    x = np.arange(len(labels))  # the label locations\n",
    "    width = 0.35  # the width of the bars\n",
    "\n",
    "    fig, ax = plt.subplots()\n",
    "    rects1 = ax.bar(x - width/2, s, width, label='Success')\n",
    "    rects2 = ax.bar(x + width/2, f, width, label='Fail')\n",
    "\n",
    "    # Add some text for labels, title and custom x-axis tick labels, etc.\n",
    "    ax.set_ylabel('%')\n",
    "    ax.set_title('Success/fail ratio for ' + attribute)\n",
    "    ax.set_xticks(x)\n",
    "    ax.set_xticklabels(labels)\n",
    "    ax.legend()        \n",
    "\n",
    "\n",
    "    fig.tight_layout()\n",
    "\n",
    "    plt.show()\n",
    "   "
   ]
  },
  {
   "cell_type": "code",
   "execution_count": 169,
   "metadata": {},
   "outputs": [],
   "source": [
    "\n",
    "indexNames = df[df['country'] == 'N,0\"'].index\n",
    "df.drop(indexNames , inplace=True)"
   ]
  },
  {
   "cell_type": "code",
   "execution_count": 173,
   "metadata": {},
   "outputs": [
    {
     "data": {
      "image/png": "[encoded data removed]",
      "text/plain": [
       "<Figure size 432x288 with 1 Axes>"
      ]
     },
     "metadata": {
      "needs_background": "light"
     },
     "output_type": "display_data"
    }
   ],
   "source": [
    "cat_plots('currency', df)"
   ]
  },
  {
   "cell_type": "code",
   "execution_count": 224,
   "metadata": {},
   "outputs": [
    {
     "name": "stdout",
     "output_type": "stream",
     "text": [
      "0.01 166361390.71\n"
     ]
    },
    {
     "data": {
      "image/png": "[encoded data removed]",
      "text/plain": [
       "<Figure size 432x288 with 1 Axes>"
      ]
     },
     "metadata": {
      "needs_background": "light"
     },
     "output_type": "display_data"
    }
   ],
   "source": [
    "b = df['usd_goal_real']\n",
    "b.hist(bins = range(0,400000,5000))\n",
    "print(b.min(), b.max())\n",
    "\n",
    "c = (b-b.min())/(b.max()-b.min())\n",
    "#c.hist(bins = 2)"
   ]
  }
 ],
 "metadata": {
  "kernelspec": {
   "display_name": "Python 3",
   "language": "python",
   "name": "python3"
  },
  "language_info": {
   "codemirror_mode": {
    "name": "ipython",
    "version": 3
   },
   "file_extension": ".py",
   "mimetype": "text/x-python",
   "name": "python",
   "nbconvert_exporter": "python",
   "pygments_lexer": "ipython3",
   "version": "3.7.3"
  }
 },
 "nbformat": 4,
 "nbformat_minor": 2
}
